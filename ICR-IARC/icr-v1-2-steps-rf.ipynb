{
 "cells": [
  {
   "cell_type": "code",
   "execution_count": 1,
   "id": "84e31c80",
   "metadata": {
    "_cell_guid": "b1076dfc-b9ad-4769-8c92-a6c4dae69d19",
    "_uuid": "8f2839f25d086af736a60e9eeb907d3b93b6e0e5",
    "execution": {
     "iopub.execute_input": "2023-06-08T08:58:12.182174Z",
     "iopub.status.busy": "2023-06-08T08:58:12.181772Z",
     "iopub.status.idle": "2023-06-08T08:58:14.229648Z",
     "shell.execute_reply": "2023-06-08T08:58:14.228425Z"
    },
    "papermill": {
     "duration": 2.058808,
     "end_time": "2023-06-08T08:58:14.232339",
     "exception": false,
     "start_time": "2023-06-08T08:58:12.173531",
     "status": "completed"
    },
    "tags": []
   },
   "outputs": [
    {
     "name": "stdout",
     "output_type": "stream",
     "text": [
      "/kaggle/input/icr-identify-age-related-conditions/sample_submission.csv\n",
      "/kaggle/input/icr-identify-age-related-conditions/greeks.csv\n",
      "/kaggle/input/icr-identify-age-related-conditions/train.csv\n",
      "/kaggle/input/icr-identify-age-related-conditions/test.csv\n"
     ]
    }
   ],
   "source": [
    "import numpy as np # linear algebra \n",
    "import pandas as pd # data processing, CSV file I/O (e.g. pd.read_csv)\n",
    "import os \n",
    "from matplotlib import pyplot as plt\n",
    "import os\n",
    "from sklearn.tree import DecisionTreeClassifier\n",
    "from sklearn import tree\n",
    "from sklearn.impute import SimpleImputer\n",
    "from sklearn.preprocessing import StandardScaler\n",
    "import seaborn as sns\n",
    "\n",
    "for dirname, _, filenames in os.walk('/kaggle/input'): \n",
    "    for filename in filenames: \n",
    "        print(os.path.join(dirname, filename))"
   ]
  },
  {
   "cell_type": "code",
   "execution_count": 2,
   "id": "369b89fe",
   "metadata": {
    "execution": {
     "iopub.execute_input": "2023-06-08T08:58:14.244728Z",
     "iopub.status.busy": "2023-06-08T08:58:14.244313Z",
     "iopub.status.idle": "2023-06-08T08:58:14.290501Z",
     "shell.execute_reply": "2023-06-08T08:58:14.289586Z"
    },
    "papermill": {
     "duration": 0.055293,
     "end_time": "2023-06-08T08:58:14.293080",
     "exception": false,
     "start_time": "2023-06-08T08:58:14.237787",
     "status": "completed"
    },
    "tags": []
   },
   "outputs": [],
   "source": [
    "input_path = \"/kaggle/input/icr-identify-age-related-conditions/\"\n",
    "work_path = os.getcwd()\n",
    "df_train_file = pd.read_csv(input_path + 'train.csv')\n",
    "df_greek_file = pd.read_csv(input_path + 'greeks.csv')"
   ]
  },
  {
   "cell_type": "code",
   "execution_count": 3,
   "id": "1011f77e",
   "metadata": {
    "execution": {
     "iopub.execute_input": "2023-06-08T08:58:14.306221Z",
     "iopub.status.busy": "2023-06-08T08:58:14.305129Z",
     "iopub.status.idle": "2023-06-08T08:58:14.320528Z",
     "shell.execute_reply": "2023-06-08T08:58:14.319448Z"
    },
    "papermill": {
     "duration": 0.024678,
     "end_time": "2023-06-08T08:58:14.323233",
     "exception": false,
     "start_time": "2023-06-08T08:58:14.298555",
     "status": "completed"
    },
    "tags": []
   },
   "outputs": [],
   "source": [
    "def prepare_initial(df, df_greek_f):\n",
    "    df.sort_values(by=['Id'], axis=0, ascending=True, inplace=True)\n",
    "    \n",
    "    # training set labels\n",
    "    df_y = None\n",
    "    if 'Class' in df.columns:\n",
    "      df_y = df['Class']\n",
    "    \n",
    "    # training set input\n",
    "    df['EJ_dummy'] = (df['EJ'] == 'B')\n",
    "    df['EJ_dummy'] = df['EJ_dummy'].astype('float64')\n",
    "    temp_col = df['EJ_dummy']\n",
    "    df_input = df.drop(['Id', 'EJ', 'EJ_dummy'], axis=1)\n",
    "    if 'Class' in df.columns:\n",
    "        df_input = df_input.drop(['Class'], axis=1)\n",
    "    for i in df_input.columns:\n",
    "        df_input[i].fillna(df_input[i].mode()[0], inplace=True)\n",
    "    \n",
    "    scaler = StandardScaler()\n",
    "    df_x = pd.DataFrame(scaler.fit_transform(df_input), columns=df_input.columns)\n",
    "    df_x['EJ_dummy'] = temp_col\n",
    "    print(df_x.head())\n",
    "    \n",
    "    if (df_y is None):\n",
    "        pass\n",
    "    else:\n",
    "        print(df_y.head())\n",
    "    \n",
    "    # additional data\n",
    "    df_greek_f.sort_values(by=['Id'], axis=0, ascending=True, inplace=True)\n",
    "    df_greek_f.loc[df_greek_f['Epsilon'] == 'Unknown', 'Epsilon'] = pd.to_datetime('1/1/2021')\n",
    "    df_greek_f['Epsilon_date'] = pd.to_datetime(df_greek_f.Epsilon)\n",
    "    df_greek_f['Age'] = pd.to_datetime('1/1/2023') - df_greek_f.Epsilon_date\n",
    "    df_greek_f['Age_days'] = df_greek_f['Age'].dt.total_seconds() / (24 * 60 * 60)\n",
    "    \n",
    "    scaler = StandardScaler()\n",
    "    df_greek_f[['Age_days']] = pd.DataFrame(scaler.fit_transform(df_greek_f[['Age_days']]), columns=['Age_days'])\n",
    "    \n",
    "    df_greek_x = pd.get_dummies(df_greek_f, columns = ['Alpha', 'Beta', 'Gamma', 'Delta'])\n",
    "    df_greek_x = df_greek_x.loc[:, (df_greek_x.columns != 'Age_days') & (df_greek_x.columns != 'Alpha_A') & (df_greek_x.columns != 'Age') & (df_greek_x.columns != 'Epsilon_date') & (df_greek_x.columns != 'Id') & (df_greek_x.columns != 'Epsilon')]\n",
    "    print(df_greek_x.head())\n",
    "    # dropping Alpha_A because equal to Class\n",
    "    # dropping Age_days because numerical\n",
    "    \n",
    "    # imp_mean = SimpleImputer(missing_values=pd.NA, strategy='most_frequent')\n",
    "    # imp_mean.fit_transform(df_x)\n",
    "    return df_x, df_y, df_greek_x"
   ]
  },
  {
   "cell_type": "code",
   "execution_count": 4,
   "id": "05acc633",
   "metadata": {
    "execution": {
     "iopub.execute_input": "2023-06-08T08:58:14.335390Z",
     "iopub.status.busy": "2023-06-08T08:58:14.334988Z",
     "iopub.status.idle": "2023-06-08T08:58:14.431195Z",
     "shell.execute_reply": "2023-06-08T08:58:14.429897Z"
    },
    "papermill": {
     "duration": 0.10562,
     "end_time": "2023-06-08T08:58:14.434151",
     "exception": false,
     "start_time": "2023-06-08T08:58:14.328531",
     "status": "completed"
    },
    "tags": []
   },
   "outputs": [
    {
     "name": "stdout",
     "output_type": "stream",
     "text": [
      "         AB        AF        AH        AM        AR        AX        AY  \\\n",
      "0 -0.572153 -0.170975 -0.261669 -0.237889 -0.189295 -1.900558 -0.083417   \n",
      "1 -0.709105 -1.097801 -0.261669 -0.028701 -0.189295 -0.750457 -0.083417   \n",
      "2 -0.015212 -0.377169 -0.261669 -0.094845 -0.189295  0.465662 -0.083417   \n",
      "3 -0.480851  0.138196  0.012347  0.547477 -0.189295 -0.729610 -0.083417   \n",
      "4 -0.206946  0.100517 -0.261669 -0.356885 -0.189295 -0.628845 -0.013229   \n",
      "\n",
      "         AZ        BC       BD   ...        FL        FR        FS        GB  \\\n",
      "0 -0.173502 -0.038354 -0.405383  ...  0.163202 -0.035806 -0.249959 -0.940094   \n",
      "1  0.678919 -0.104787  0.048541  ... -0.457460 -0.060566  0.114085 -1.145070   \n",
      "2  0.519453 -0.104787 -0.071089  ...  0.199040 -0.051023  0.597743  1.637944   \n",
      "3  0.112088 -0.104787 -0.391109  ...  0.060759 -0.060566 -0.104341 -0.219883   \n",
      "4 -1.649292  1.445139  0.125327  ...  0.237673  0.896815 -0.229156 -0.432313   \n",
      "\n",
      "         GE        GF        GH        GI        GL  EJ_dummy  \n",
      "0 -0.410260 -0.655511 -0.948991  0.531241 -0.816743       1.0  \n",
      "1 -0.410260  0.687893 -0.238862 -0.509218  1.300337       0.0  \n",
      "2 -0.299210 -0.051850 -0.351743 -0.424754 -0.809324       1.0  \n",
      "3 -0.342195 -0.650833  0.858232  1.101332 -0.813306       1.0  \n",
      "4  0.099920 -0.318309  1.409422 -0.395228 -0.819041       1.0  \n",
      "\n",
      "[5 rows x 56 columns]\n",
      "0    1\n",
      "1    0\n",
      "2    0\n",
      "3    0\n",
      "4    1\n",
      "Name: Class, dtype: int64\n",
      "   Alpha_B  Alpha_D  Alpha_G  Beta_A  Beta_B  Beta_C  Gamma_A  Gamma_B  \\\n",
      "0        1        0        0       0       0       1        0        0   \n",
      "1        0        0        0       0       0       1        0        0   \n",
      "2        0        0        0       0       0       1        0        0   \n",
      "3        0        0        0       0       0       1        0        0   \n",
      "4        0        1        0       0       1       0        0        0   \n",
      "\n",
      "   Gamma_E  Gamma_F  Gamma_G  Gamma_H  Gamma_M  Gamma_N  Delta_A  Delta_B  \\\n",
      "0        0        0        1        0        0        0        0        0   \n",
      "1        0        0        0        0        1        0        0        1   \n",
      "2        0        0        0        0        1        0        0        1   \n",
      "3        0        0        0        0        1        0        0        1   \n",
      "4        0        1        0        0        0        0        0        1   \n",
      "\n",
      "   Delta_C  Delta_D  \n",
      "0        0        1  \n",
      "1        0        0  \n",
      "2        0        0  \n",
      "3        0        0  \n",
      "4        0        0  \n"
     ]
    }
   ],
   "source": [
    "df_ready_x, df_ready_y, df_ready_greek = prepare_initial(df_train_file, df_greek_file)"
   ]
  },
  {
   "cell_type": "markdown",
   "id": "9e9d354d",
   "metadata": {
    "papermill": {
     "duration": 0.005219,
     "end_time": "2023-06-08T08:58:14.444828",
     "exception": false,
     "start_time": "2023-06-08T08:58:14.439609",
     "status": "completed"
    },
    "tags": []
   },
   "source": [
    "### Step one: RF from train to greek"
   ]
  },
  {
   "cell_type": "code",
   "execution_count": 5,
   "id": "01a8bb30",
   "metadata": {
    "execution": {
     "iopub.execute_input": "2023-06-08T08:58:14.457958Z",
     "iopub.status.busy": "2023-06-08T08:58:14.456892Z",
     "iopub.status.idle": "2023-06-08T08:58:18.397974Z",
     "shell.execute_reply": "2023-06-08T08:58:18.396841Z"
    },
    "papermill": {
     "duration": 3.950281,
     "end_time": "2023-06-08T08:58:18.400480",
     "exception": false,
     "start_time": "2023-06-08T08:58:14.450199",
     "status": "completed"
    },
    "tags": []
   },
   "outputs": [
    {
     "data": {
      "text/plain": [
       "array([0.4516129 , 0.5       , 0.43089431, 0.36585366, 0.42276423])"
      ]
     },
     "execution_count": 5,
     "metadata": {},
     "output_type": "execute_result"
    }
   ],
   "source": [
    "from sklearn.ensemble import RandomForestClassifier\n",
    "from sklearn.model_selection import cross_val_score\n",
    "\n",
    "clf_1 = RandomForestClassifier(max_depth=3, random_state=0).fit(df_ready_x, df_ready_greek)\n",
    "scores_1 = cross_val_score(clf_1, df_ready_x, df_ready_greek, cv=5)\n",
    "scores_1"
   ]
  },
  {
   "cell_type": "markdown",
   "id": "213f7746",
   "metadata": {
    "papermill": {
     "duration": 0.005232,
     "end_time": "2023-06-08T08:58:18.411276",
     "exception": false,
     "start_time": "2023-06-08T08:58:18.406044",
     "status": "completed"
    },
    "tags": []
   },
   "source": [
    "### Step two: from greek to class "
   ]
  },
  {
   "cell_type": "code",
   "execution_count": 6,
   "id": "92e10554",
   "metadata": {
    "execution": {
     "iopub.execute_input": "2023-06-08T08:58:18.426723Z",
     "iopub.status.busy": "2023-06-08T08:58:18.426258Z",
     "iopub.status.idle": "2023-06-08T08:58:18.932888Z",
     "shell.execute_reply": "2023-06-08T08:58:18.931657Z"
    },
    "papermill": {
     "duration": 0.516362,
     "end_time": "2023-06-08T08:58:18.935330",
     "exception": false,
     "start_time": "2023-06-08T08:58:18.418968",
     "status": "completed"
    },
    "tags": []
   },
   "outputs": [
    {
     "data": {
      "text/plain": [
       "array([1., 1., 1., 1., 1.])"
      ]
     },
     "execution_count": 6,
     "metadata": {},
     "output_type": "execute_result"
    }
   ],
   "source": [
    "from sklearn.ensemble import GradientBoostingClassifier\n",
    "\n",
    "clf_2 = GradientBoostingClassifier(n_estimators=100, learning_rate=1.0, max_depth=1, random_state=0)\n",
    "clf_2.fit(df_ready_greek, df_ready_y)\n",
    "scores_2 = cross_val_score(clf_2, df_ready_greek, df_ready_y, cv=5)#, scoring='neg_log_loss')\n",
    "scores_2"
   ]
  },
  {
   "cell_type": "markdown",
   "id": "5c571163",
   "metadata": {
    "papermill": {
     "duration": 0.005366,
     "end_time": "2023-06-08T08:58:18.946752",
     "exception": false,
     "start_time": "2023-06-08T08:58:18.941386",
     "status": "completed"
    },
    "tags": []
   },
   "source": [
    "### Step 3: predict through the two steps"
   ]
  },
  {
   "cell_type": "code",
   "execution_count": 7,
   "id": "822d7fc0",
   "metadata": {
    "execution": {
     "iopub.execute_input": "2023-06-08T08:58:18.960043Z",
     "iopub.status.busy": "2023-06-08T08:58:18.959632Z",
     "iopub.status.idle": "2023-06-08T08:58:19.037543Z",
     "shell.execute_reply": "2023-06-08T08:58:19.036423Z"
    },
    "papermill": {
     "duration": 0.089334,
     "end_time": "2023-06-08T08:58:19.041811",
     "exception": false,
     "start_time": "2023-06-08T08:58:18.952477",
     "status": "completed"
    },
    "tags": []
   },
   "outputs": [
    {
     "name": "stdout",
     "output_type": "stream",
     "text": [
      "    AB   AF   AH   AM   AR   AX   AY   AZ   BC  BD   ...   FL   FR   FS   GB  \\\n",
      "0  0.0  0.0  0.0  0.0  0.0  0.0  0.0  0.0  0.0  0.0  ...  0.0  0.0  0.0  0.0   \n",
      "1  0.0  0.0  0.0  0.0  0.0  0.0  0.0  0.0  0.0  0.0  ...  0.0  0.0  0.0  0.0   \n",
      "2  0.0  0.0  0.0  0.0  0.0  0.0  0.0  0.0  0.0  0.0  ...  0.0  0.0  0.0  0.0   \n",
      "3  0.0  0.0  0.0  0.0  0.0  0.0  0.0  0.0  0.0  0.0  ...  0.0  0.0  0.0  0.0   \n",
      "4  0.0  0.0  0.0  0.0  0.0  0.0  0.0  0.0  0.0  0.0  ...  0.0  0.0  0.0  0.0   \n",
      "\n",
      "    GE   GF   GH   GI   GL  EJ_dummy  \n",
      "0  0.0  0.0  0.0  0.0  0.0       0.0  \n",
      "1  0.0  0.0  0.0  0.0  0.0       0.0  \n",
      "2  0.0  0.0  0.0  0.0  0.0       0.0  \n",
      "3  0.0  0.0  0.0  0.0  0.0       0.0  \n",
      "4  0.0  0.0  0.0  0.0  0.0       0.0  \n",
      "\n",
      "[5 rows x 56 columns]\n",
      "   Alpha_B  Alpha_D  Alpha_G  Beta_A  Beta_B  Beta_C  Gamma_A  Gamma_B  \\\n",
      "0        1        0        0       0       0       1        0        0   \n",
      "1        0        0        0       0       0       1        0        0   \n",
      "2        0        0        0       0       0       1        0        0   \n",
      "3        0        0        0       0       0       1        0        0   \n",
      "4        0        1        0       0       1       0        0        0   \n",
      "\n",
      "   Gamma_E  Gamma_F  Gamma_G  Gamma_H  Gamma_M  Gamma_N  Delta_A  Delta_B  \\\n",
      "0        0        0        1        0        0        0        0        0   \n",
      "1        0        0        0        0        1        0        0        1   \n",
      "2        0        0        0        0        1        0        0        1   \n",
      "3        0        0        0        0        1        0        0        1   \n",
      "4        0        1        0        0        0        0        0        1   \n",
      "\n",
      "   Delta_C  Delta_D  \n",
      "0        0        1  \n",
      "1        0        0  \n",
      "2        0        0  \n",
      "3        0        0  \n",
      "4        0        0  \n"
     ]
    }
   ],
   "source": [
    "df_test_file = pd.read_csv(input_path + 'test.csv')\n",
    "df_test_x, df_test_y, df_test_greek = prepare_initial(df_test_file, df_greek_file)"
   ]
  },
  {
   "cell_type": "code",
   "execution_count": 8,
   "id": "9fba705b",
   "metadata": {
    "execution": {
     "iopub.execute_input": "2023-06-08T08:58:19.055695Z",
     "iopub.status.busy": "2023-06-08T08:58:19.055243Z",
     "iopub.status.idle": "2023-06-08T08:58:19.120964Z",
     "shell.execute_reply": "2023-06-08T08:58:19.119709Z"
    },
    "papermill": {
     "duration": 0.075834,
     "end_time": "2023-06-08T08:58:19.123666",
     "exception": false,
     "start_time": "2023-06-08T08:58:19.047832",
     "status": "completed"
    },
    "tags": []
   },
   "outputs": [
    {
     "data": {
      "text/html": [
       "<div>\n",
       "<style scoped>\n",
       "    .dataframe tbody tr th:only-of-type {\n",
       "        vertical-align: middle;\n",
       "    }\n",
       "\n",
       "    .dataframe tbody tr th {\n",
       "        vertical-align: top;\n",
       "    }\n",
       "\n",
       "    .dataframe thead th {\n",
       "        text-align: right;\n",
       "    }\n",
       "</style>\n",
       "<table border=\"1\" class=\"dataframe\">\n",
       "  <thead>\n",
       "    <tr style=\"text-align: right;\">\n",
       "      <th></th>\n",
       "      <th>Alpha_B</th>\n",
       "      <th>Alpha_D</th>\n",
       "      <th>Alpha_G</th>\n",
       "      <th>Beta_A</th>\n",
       "      <th>Beta_B</th>\n",
       "      <th>Beta_C</th>\n",
       "      <th>Gamma_A</th>\n",
       "      <th>Gamma_B</th>\n",
       "      <th>Gamma_E</th>\n",
       "      <th>Gamma_F</th>\n",
       "      <th>Gamma_G</th>\n",
       "      <th>Gamma_H</th>\n",
       "      <th>Gamma_M</th>\n",
       "      <th>Gamma_N</th>\n",
       "      <th>Delta_A</th>\n",
       "      <th>Delta_B</th>\n",
       "      <th>Delta_C</th>\n",
       "      <th>Delta_D</th>\n",
       "    </tr>\n",
       "  </thead>\n",
       "  <tbody>\n",
       "    <tr>\n",
       "      <th>0</th>\n",
       "      <td>0</td>\n",
       "      <td>0</td>\n",
       "      <td>0</td>\n",
       "      <td>0</td>\n",
       "      <td>0</td>\n",
       "      <td>1</td>\n",
       "      <td>0</td>\n",
       "      <td>0</td>\n",
       "      <td>0</td>\n",
       "      <td>0</td>\n",
       "      <td>0</td>\n",
       "      <td>0</td>\n",
       "      <td>1</td>\n",
       "      <td>0</td>\n",
       "      <td>0</td>\n",
       "      <td>1</td>\n",
       "      <td>0</td>\n",
       "      <td>0</td>\n",
       "    </tr>\n",
       "    <tr>\n",
       "      <th>1</th>\n",
       "      <td>0</td>\n",
       "      <td>0</td>\n",
       "      <td>0</td>\n",
       "      <td>0</td>\n",
       "      <td>0</td>\n",
       "      <td>1</td>\n",
       "      <td>0</td>\n",
       "      <td>0</td>\n",
       "      <td>0</td>\n",
       "      <td>0</td>\n",
       "      <td>0</td>\n",
       "      <td>0</td>\n",
       "      <td>1</td>\n",
       "      <td>0</td>\n",
       "      <td>0</td>\n",
       "      <td>1</td>\n",
       "      <td>0</td>\n",
       "      <td>0</td>\n",
       "    </tr>\n",
       "    <tr>\n",
       "      <th>2</th>\n",
       "      <td>0</td>\n",
       "      <td>0</td>\n",
       "      <td>0</td>\n",
       "      <td>0</td>\n",
       "      <td>0</td>\n",
       "      <td>1</td>\n",
       "      <td>0</td>\n",
       "      <td>0</td>\n",
       "      <td>0</td>\n",
       "      <td>0</td>\n",
       "      <td>0</td>\n",
       "      <td>0</td>\n",
       "      <td>1</td>\n",
       "      <td>0</td>\n",
       "      <td>0</td>\n",
       "      <td>1</td>\n",
       "      <td>0</td>\n",
       "      <td>0</td>\n",
       "    </tr>\n",
       "    <tr>\n",
       "      <th>3</th>\n",
       "      <td>0</td>\n",
       "      <td>0</td>\n",
       "      <td>0</td>\n",
       "      <td>0</td>\n",
       "      <td>0</td>\n",
       "      <td>1</td>\n",
       "      <td>0</td>\n",
       "      <td>0</td>\n",
       "      <td>0</td>\n",
       "      <td>0</td>\n",
       "      <td>0</td>\n",
       "      <td>0</td>\n",
       "      <td>1</td>\n",
       "      <td>0</td>\n",
       "      <td>0</td>\n",
       "      <td>1</td>\n",
       "      <td>0</td>\n",
       "      <td>0</td>\n",
       "    </tr>\n",
       "    <tr>\n",
       "      <th>4</th>\n",
       "      <td>0</td>\n",
       "      <td>0</td>\n",
       "      <td>0</td>\n",
       "      <td>0</td>\n",
       "      <td>0</td>\n",
       "      <td>1</td>\n",
       "      <td>0</td>\n",
       "      <td>0</td>\n",
       "      <td>0</td>\n",
       "      <td>0</td>\n",
       "      <td>0</td>\n",
       "      <td>0</td>\n",
       "      <td>1</td>\n",
       "      <td>0</td>\n",
       "      <td>0</td>\n",
       "      <td>1</td>\n",
       "      <td>0</td>\n",
       "      <td>0</td>\n",
       "    </tr>\n",
       "  </tbody>\n",
       "</table>\n",
       "</div>"
      ],
      "text/plain": [
       "   Alpha_B  Alpha_D  Alpha_G  Beta_A  Beta_B  Beta_C  Gamma_A  Gamma_B  \\\n",
       "0        0        0        0       0       0       1        0        0   \n",
       "1        0        0        0       0       0       1        0        0   \n",
       "2        0        0        0       0       0       1        0        0   \n",
       "3        0        0        0       0       0       1        0        0   \n",
       "4        0        0        0       0       0       1        0        0   \n",
       "\n",
       "   Gamma_E  Gamma_F  Gamma_G  Gamma_H  Gamma_M  Gamma_N  Delta_A  Delta_B  \\\n",
       "0        0        0        0        0        1        0        0        1   \n",
       "1        0        0        0        0        1        0        0        1   \n",
       "2        0        0        0        0        1        0        0        1   \n",
       "3        0        0        0        0        1        0        0        1   \n",
       "4        0        0        0        0        1        0        0        1   \n",
       "\n",
       "   Delta_C  Delta_D  \n",
       "0        0        0  \n",
       "1        0        0  \n",
       "2        0        0  \n",
       "3        0        0  \n",
       "4        0        0  "
      ]
     },
     "execution_count": 8,
     "metadata": {},
     "output_type": "execute_result"
    }
   ],
   "source": [
    "intermed = pd.DataFrame(clf_1.predict(df_test_x), columns=df_ready_greek.columns)\n",
    "intermed"
   ]
  },
  {
   "cell_type": "code",
   "execution_count": 9,
   "id": "40624bbd",
   "metadata": {
    "execution": {
     "iopub.execute_input": "2023-06-08T08:58:19.138338Z",
     "iopub.status.busy": "2023-06-08T08:58:19.137945Z",
     "iopub.status.idle": "2023-06-08T08:58:19.152552Z",
     "shell.execute_reply": "2023-06-08T08:58:19.151417Z"
    },
    "papermill": {
     "duration": 0.025019,
     "end_time": "2023-06-08T08:58:19.154966",
     "exception": false,
     "start_time": "2023-06-08T08:58:19.129947",
     "status": "completed"
    },
    "tags": []
   },
   "outputs": [
    {
     "data": {
      "text/html": [
       "<div>\n",
       "<style scoped>\n",
       "    .dataframe tbody tr th:only-of-type {\n",
       "        vertical-align: middle;\n",
       "    }\n",
       "\n",
       "    .dataframe tbody tr th {\n",
       "        vertical-align: top;\n",
       "    }\n",
       "\n",
       "    .dataframe thead th {\n",
       "        text-align: right;\n",
       "    }\n",
       "</style>\n",
       "<table border=\"1\" class=\"dataframe\">\n",
       "  <thead>\n",
       "    <tr style=\"text-align: right;\">\n",
       "      <th></th>\n",
       "      <th>0</th>\n",
       "      <th>1</th>\n",
       "    </tr>\n",
       "  </thead>\n",
       "  <tbody>\n",
       "    <tr>\n",
       "      <th>0</th>\n",
       "      <td>1.0</td>\n",
       "      <td>2.956926e-09</td>\n",
       "    </tr>\n",
       "    <tr>\n",
       "      <th>1</th>\n",
       "      <td>1.0</td>\n",
       "      <td>2.956926e-09</td>\n",
       "    </tr>\n",
       "    <tr>\n",
       "      <th>2</th>\n",
       "      <td>1.0</td>\n",
       "      <td>2.956926e-09</td>\n",
       "    </tr>\n",
       "    <tr>\n",
       "      <th>3</th>\n",
       "      <td>1.0</td>\n",
       "      <td>2.956926e-09</td>\n",
       "    </tr>\n",
       "    <tr>\n",
       "      <th>4</th>\n",
       "      <td>1.0</td>\n",
       "      <td>2.956926e-09</td>\n",
       "    </tr>\n",
       "  </tbody>\n",
       "</table>\n",
       "</div>"
      ],
      "text/plain": [
       "     0             1\n",
       "0  1.0  2.956926e-09\n",
       "1  1.0  2.956926e-09\n",
       "2  1.0  2.956926e-09\n",
       "3  1.0  2.956926e-09\n",
       "4  1.0  2.956926e-09"
      ]
     },
     "execution_count": 9,
     "metadata": {},
     "output_type": "execute_result"
    }
   ],
   "source": [
    "preds = pd.DataFrame(clf_2.predict_proba(intermed))\n",
    "preds"
   ]
  },
  {
   "cell_type": "code",
   "execution_count": 10,
   "id": "e3a31873",
   "metadata": {
    "execution": {
     "iopub.execute_input": "2023-06-08T08:58:19.169697Z",
     "iopub.status.busy": "2023-06-08T08:58:19.169257Z",
     "iopub.status.idle": "2023-06-08T08:58:19.183003Z",
     "shell.execute_reply": "2023-06-08T08:58:19.182164Z"
    },
    "papermill": {
     "duration": 0.023833,
     "end_time": "2023-06-08T08:58:19.185280",
     "exception": false,
     "start_time": "2023-06-08T08:58:19.161447",
     "status": "completed"
    },
    "tags": []
   },
   "outputs": [
    {
     "data": {
      "text/html": [
       "<div>\n",
       "<style scoped>\n",
       "    .dataframe tbody tr th:only-of-type {\n",
       "        vertical-align: middle;\n",
       "    }\n",
       "\n",
       "    .dataframe tbody tr th {\n",
       "        vertical-align: top;\n",
       "    }\n",
       "\n",
       "    .dataframe thead th {\n",
       "        text-align: right;\n",
       "    }\n",
       "</style>\n",
       "<table border=\"1\" class=\"dataframe\">\n",
       "  <thead>\n",
       "    <tr style=\"text-align: right;\">\n",
       "      <th></th>\n",
       "      <th>Id</th>\n",
       "      <th>0</th>\n",
       "      <th>1</th>\n",
       "    </tr>\n",
       "  </thead>\n",
       "  <tbody>\n",
       "    <tr>\n",
       "      <th>0</th>\n",
       "      <td>00eed32682bb</td>\n",
       "      <td>1.0</td>\n",
       "      <td>2.956926e-09</td>\n",
       "    </tr>\n",
       "    <tr>\n",
       "      <th>1</th>\n",
       "      <td>010ebe33f668</td>\n",
       "      <td>1.0</td>\n",
       "      <td>2.956926e-09</td>\n",
       "    </tr>\n",
       "    <tr>\n",
       "      <th>2</th>\n",
       "      <td>02fa521e1838</td>\n",
       "      <td>1.0</td>\n",
       "      <td>2.956926e-09</td>\n",
       "    </tr>\n",
       "    <tr>\n",
       "      <th>3</th>\n",
       "      <td>040e15f562a2</td>\n",
       "      <td>1.0</td>\n",
       "      <td>2.956926e-09</td>\n",
       "    </tr>\n",
       "    <tr>\n",
       "      <th>4</th>\n",
       "      <td>046e85c7cc7f</td>\n",
       "      <td>1.0</td>\n",
       "      <td>2.956926e-09</td>\n",
       "    </tr>\n",
       "  </tbody>\n",
       "</table>\n",
       "</div>"
      ],
      "text/plain": [
       "             Id    0             1\n",
       "0  00eed32682bb  1.0  2.956926e-09\n",
       "1  010ebe33f668  1.0  2.956926e-09\n",
       "2  02fa521e1838  1.0  2.956926e-09\n",
       "3  040e15f562a2  1.0  2.956926e-09\n",
       "4  046e85c7cc7f  1.0  2.956926e-09"
      ]
     },
     "execution_count": 10,
     "metadata": {},
     "output_type": "execute_result"
    }
   ],
   "source": [
    "df_test_y = pd.concat([df_test_file['Id'], preds], axis=1)\n",
    "df_test_y"
   ]
  },
  {
   "cell_type": "code",
   "execution_count": 11,
   "id": "19f5c9ac",
   "metadata": {
    "execution": {
     "iopub.execute_input": "2023-06-08T08:58:19.200829Z",
     "iopub.status.busy": "2023-06-08T08:58:19.200388Z",
     "iopub.status.idle": "2023-06-08T08:58:20.318086Z",
     "shell.execute_reply": "2023-06-08T08:58:20.316497Z"
    },
    "papermill": {
     "duration": 1.129184,
     "end_time": "2023-06-08T08:58:20.321148",
     "exception": false,
     "start_time": "2023-06-08T08:58:19.191964",
     "status": "completed"
    },
    "tags": []
   },
   "outputs": [
    {
     "name": "stdout",
     "output_type": "stream",
     "text": [
      "Id,class_0,class_1\r\n",
      "00eed32682bb,0.9999999970430744,2.956925575738693e-09\r\n",
      "010ebe33f668,0.9999999970430744,2.956925575738693e-09\r\n",
      "02fa521e1838,0.9999999970430744,2.956925575738693e-09\r\n",
      "040e15f562a2,0.9999999970430744,2.956925575738693e-09\r\n",
      "046e85c7cc7f,0.9999999970430744,2.956925575738693e-09\r\n"
     ]
    }
   ],
   "source": [
    "df_test_y.to_csv('/kaggle/working/submission.csv', header=['Id', 'class_0', 'class_1'], index=False)\n",
    "!head /kaggle/working/submission.csv"
   ]
  }
 ],
 "metadata": {
  "kernelspec": {
   "display_name": "Python 3",
   "language": "python",
   "name": "python3"
  },
  "language_info": {
   "codemirror_mode": {
    "name": "ipython",
    "version": 3
   },
   "file_extension": ".py",
   "mimetype": "text/x-python",
   "name": "python",
   "nbconvert_exporter": "python",
   "pygments_lexer": "ipython3",
   "version": "3.10.10"
  },
  "papermill": {
   "default_parameters": {},
   "duration": 21.702226,
   "end_time": "2023-06-08T08:58:21.452030",
   "environment_variables": {},
   "exception": null,
   "input_path": "__notebook__.ipynb",
   "output_path": "__notebook__.ipynb",
   "parameters": {},
   "start_time": "2023-06-08T08:57:59.749804",
   "version": "2.4.0"
  }
 },
 "nbformat": 4,
 "nbformat_minor": 5
}
