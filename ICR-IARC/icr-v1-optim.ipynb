{
 "cells": [
  {
   "cell_type": "code",
   "execution_count": 1,
   "id": "6b1d470b",
   "metadata": {
    "_cell_guid": "b1076dfc-b9ad-4769-8c92-a6c4dae69d19",
    "_uuid": "8f2839f25d086af736a60e9eeb907d3b93b6e0e5",
    "execution": {
     "iopub.execute_input": "2023-07-16T15:09:30.086509Z",
     "iopub.status.busy": "2023-07-16T15:09:30.086142Z",
     "iopub.status.idle": "2023-07-16T15:09:32.831938Z",
     "shell.execute_reply": "2023-07-16T15:09:32.830263Z"
    },
    "papermill": {
     "duration": 2.758861,
     "end_time": "2023-07-16T15:09:32.834581",
     "exception": false,
     "start_time": "2023-07-16T15:09:30.075720",
     "status": "completed"
    },
    "tags": []
   },
   "outputs": [
    {
     "name": "stdout",
     "output_type": "stream",
     "text": [
      "/kaggle/input/icr-identify-age-related-conditions/sample_submission.csv\n",
      "/kaggle/input/icr-identify-age-related-conditions/greeks.csv\n",
      "/kaggle/input/icr-identify-age-related-conditions/train.csv\n",
      "/kaggle/input/icr-identify-age-related-conditions/test.csv\n"
     ]
    }
   ],
   "source": [
    "import numpy as np # linear algebra \n",
    "import pandas as pd # data processing, CSV file I/O (e.g. pd.read_csv)\n",
    "import os \n",
    "from matplotlib import pyplot as plt\n",
    "import os\n",
    "from sklearn import tree\n",
    "from sklearn.impute import SimpleImputer\n",
    "from sklearn.impute import KNNImputer\n",
    "from sklearn.preprocessing import RobustScaler\n",
    "from sklearn.model_selection import cross_val_score\n",
    "from sklearn.model_selection import StratifiedKFold\n",
    "from sklearn.model_selection import RepeatedStratifiedKFold\n",
    "from xgboost import XGBClassifier\n",
    "from sklearn.model_selection import GridSearchCV\n",
    "from sklearn.model_selection import RandomizedSearchCV\n",
    "from sklearn.neural_network import MLPClassifier\n",
    "import seaborn as sns\n",
    "from sklearn.pipeline import Pipeline\n",
    "from sklearn.pipeline import make_pipeline\n",
    "from sklearn.metrics import make_scorer\n",
    "from sklearn.metrics import log_loss\n",
    "from imblearn.over_sampling import ADASYN\n",
    "from imblearn.pipeline import Pipeline as imbpipeline\n",
    "\n",
    "for dirname, _, filenames in os.walk('/kaggle/input'): \n",
    "    for filename in filenames: \n",
    "        print(os.path.join(dirname, filename))"
   ]
  },
  {
   "cell_type": "code",
   "execution_count": 2,
   "id": "a634f19a",
   "metadata": {
    "execution": {
     "iopub.execute_input": "2023-07-16T15:09:32.852760Z",
     "iopub.status.busy": "2023-07-16T15:09:32.852341Z",
     "iopub.status.idle": "2023-07-16T15:09:32.895122Z",
     "shell.execute_reply": "2023-07-16T15:09:32.893784Z"
    },
    "papermill": {
     "duration": 0.055208,
     "end_time": "2023-07-16T15:09:32.898033",
     "exception": false,
     "start_time": "2023-07-16T15:09:32.842825",
     "status": "completed"
    },
    "tags": []
   },
   "outputs": [],
   "source": [
    "input_path = \"/kaggle/input/icr-identify-age-related-conditions/\"\n",
    "work_path = os.getcwd()\n",
    "df_train_file = pd.read_csv(input_path + 'train.csv')"
   ]
  },
  {
   "cell_type": "code",
   "execution_count": 3,
   "id": "9007e173",
   "metadata": {
    "execution": {
     "iopub.execute_input": "2023-07-16T15:09:32.916998Z",
     "iopub.status.busy": "2023-07-16T15:09:32.916135Z",
     "iopub.status.idle": "2023-07-16T15:09:32.923784Z",
     "shell.execute_reply": "2023-07-16T15:09:32.922581Z"
    },
    "papermill": {
     "duration": 0.020076,
     "end_time": "2023-07-16T15:09:32.926264",
     "exception": false,
     "start_time": "2023-07-16T15:09:32.906188",
     "status": "completed"
    },
    "tags": []
   },
   "outputs": [],
   "source": [
    "# from https://www.kaggle.com/code/datafan07/icr-simple-eda-baseline\n",
    "# see also https://www.kaggle.com/code/dan3dewey/icr-2023-balanced-log-loss/notebook\n",
    "# see also https://www.kaggle.com/competitions/icr-identify-age-related-conditions/discussion/409691\n",
    "\n",
    "def balance_loglossv2(y_true, y_pred):\n",
    "    target_mean = y_true.mean()\n",
    "    w0 = 1/(1-target_mean)\n",
    "    w1 = 1/target_mean\n",
    "    sample_weight = [w0 if y == 0 else w1 for y in y_true]\n",
    "    loss = log_loss(y_true, y_pred, sample_weight=sample_weight)\n",
    "    \n",
    "    return loss"
   ]
  },
  {
   "cell_type": "code",
   "execution_count": 4,
   "id": "c2cf8b8d",
   "metadata": {
    "execution": {
     "iopub.execute_input": "2023-07-16T15:09:32.944318Z",
     "iopub.status.busy": "2023-07-16T15:09:32.943913Z",
     "iopub.status.idle": "2023-07-16T15:09:32.951081Z",
     "shell.execute_reply": "2023-07-16T15:09:32.949807Z"
    },
    "papermill": {
     "duration": 0.019184,
     "end_time": "2023-07-16T15:09:32.953563",
     "exception": false,
     "start_time": "2023-07-16T15:09:32.934379",
     "status": "completed"
    },
    "tags": []
   },
   "outputs": [],
   "source": [
    "def prepare_initial(df):\n",
    "    df.sort_values(by=['Id'], axis=0, ascending=True, inplace=True)\n",
    "    \n",
    "    # training set labels\n",
    "    df_y = None\n",
    "    if 'Class' in df.columns:\n",
    "      df_y = df['Class']\n",
    "    \n",
    "    # training set input\n",
    "    best_columns = ['AB', 'DI', 'DH', 'GL', 'DE', 'DA', 'EB', 'CR', 'EE', 'EH', 'FD ', 'CC', 'DL', 'FE', 'DU', 'AF', 'FI', 'BC', 'FL', \n",
    "                    'FR', 'BR', 'AM']\n",
    "    df_input = df.loc[:, best_columns]\n",
    "    \n",
    "    return df_input, df_y"
   ]
  },
  {
   "cell_type": "code",
   "execution_count": 5,
   "id": "8d8d2f8d",
   "metadata": {
    "execution": {
     "iopub.execute_input": "2023-07-16T15:09:32.972916Z",
     "iopub.status.busy": "2023-07-16T15:09:32.972543Z",
     "iopub.status.idle": "2023-07-16T15:09:32.979581Z",
     "shell.execute_reply": "2023-07-16T15:09:32.978414Z"
    },
    "papermill": {
     "duration": 0.020431,
     "end_time": "2023-07-16T15:09:32.982032",
     "exception": false,
     "start_time": "2023-07-16T15:09:32.961601",
     "status": "completed"
    },
    "tags": []
   },
   "outputs": [],
   "source": [
    "cv = RepeatedStratifiedKFold(n_splits=5, n_repeats=3)\n",
    "competition_balanced_log_loss = make_scorer(balance_loglossv2, needs_proba=True, greater_is_better=False)\n",
    "scores = []\n",
    "grid_results = []\n",
    "\n",
    "def compute_scores(clf, cv_strat, df_x, df_y, col_name):\n",
    "    for i in ['accuracy', 'neg_log_loss', competition_balanced_log_loss]:\n",
    "        scores.append([col_name, i, cross_val_score(clf, df_x, df_y, cv=cv_strat, scoring=i).mean()])\n",
    "    return scores"
   ]
  },
  {
   "cell_type": "code",
   "execution_count": 6,
   "id": "f66134ab",
   "metadata": {
    "execution": {
     "iopub.execute_input": "2023-07-16T15:09:33.000320Z",
     "iopub.status.busy": "2023-07-16T15:09:32.999900Z",
     "iopub.status.idle": "2023-07-16T15:09:33.020207Z",
     "shell.execute_reply": "2023-07-16T15:09:33.019060Z"
    },
    "papermill": {
     "duration": 0.032348,
     "end_time": "2023-07-16T15:09:33.022696",
     "exception": false,
     "start_time": "2023-07-16T15:09:32.990348",
     "status": "completed"
    },
    "tags": []
   },
   "outputs": [],
   "source": [
    "df_ready_x, df_ready_y = prepare_initial(df_train_file)\n",
    "\n",
    "imputer_params = {'n_neighbors': 2, 'weights': \"uniform\", 'missing_values': np.nan, 'copy': False}"
   ]
  },
  {
   "cell_type": "code",
   "execution_count": 7,
   "id": "c179817f",
   "metadata": {
    "execution": {
     "iopub.execute_input": "2023-07-16T15:09:33.041355Z",
     "iopub.status.busy": "2023-07-16T15:09:33.040938Z",
     "iopub.status.idle": "2023-07-16T15:09:33.060436Z",
     "shell.execute_reply": "2023-07-16T15:09:33.059383Z"
    },
    "papermill": {
     "duration": 0.032334,
     "end_time": "2023-07-16T15:09:33.063219",
     "exception": false,
     "start_time": "2023-07-16T15:09:33.030885",
     "status": "completed"
    },
    "tags": []
   },
   "outputs": [],
   "source": [
    "imbalance_ratio = (df_ready_y == 0).sum() / (df_ready_y == 1).sum() # maj /  min classes\n",
    "# upsampling and cleaning\n",
    "clf = KNNImputer(**imputer_params).fit_transform(df_ready_x, df_ready_y)"
   ]
  },
  {
   "cell_type": "code",
   "execution_count": 8,
   "id": "34ad8cd8",
   "metadata": {
    "execution": {
     "iopub.execute_input": "2023-07-16T15:09:33.081469Z",
     "iopub.status.busy": "2023-07-16T15:09:33.080981Z",
     "iopub.status.idle": "2023-07-16T15:09:33.170021Z",
     "shell.execute_reply": "2023-07-16T15:09:33.169116Z"
    },
    "papermill": {
     "duration": 0.10163,
     "end_time": "2023-07-16T15:09:33.173015",
     "exception": false,
     "start_time": "2023-07-16T15:09:33.071385",
     "status": "completed"
    },
    "tags": []
   },
   "outputs": [
    {
     "name": "stdout",
     "output_type": "stream",
     "text": [
      "Raw data: ratio is 4.7130 with (617, 22)\n",
      "0    509\n",
      "1    108\n",
      "Name: Class, dtype: int64\n",
      "After baseline SMOTE: ratio is 1.0200 with (1008, 22).\n",
      "0    509\n",
      "1    499\n",
      "Name: Class, dtype: int64\n"
     ]
    }
   ],
   "source": [
    "clf_smote = ADASYN()\n",
    "print(f'Raw data: ratio is {imbalance_ratio:.4f} with {df_ready_x.shape}')\n",
    "print(df_ready_y.value_counts())\n",
    "x_resampled, y_resampled = clf_smote.fit_resample(df_ready_x, df_ready_y)\n",
    "\n",
    "resampled_ratio = (y_resampled == 0).sum() / (y_resampled == 1).sum() \n",
    "print(f'After baseline SMOTE: ratio is {resampled_ratio:.4f} with {x_resampled.shape}.')\n",
    "print(y_resampled.value_counts())"
   ]
  },
  {
   "cell_type": "code",
   "execution_count": 9,
   "id": "1ba51044",
   "metadata": {
    "execution": {
     "iopub.execute_input": "2023-07-16T15:09:33.192594Z",
     "iopub.status.busy": "2023-07-16T15:09:33.191985Z",
     "iopub.status.idle": "2023-07-16T15:09:40.221027Z",
     "shell.execute_reply": "2023-07-16T15:09:40.220078Z"
    },
    "papermill": {
     "duration": 7.042243,
     "end_time": "2023-07-16T15:09:40.224194",
     "exception": false,
     "start_time": "2023-07-16T15:09:33.181951",
     "status": "completed"
    },
    "tags": []
   },
   "outputs": [
    {
     "data": {
      "text/plain": [
       "[['baseline', 'accuracy', 0.9146254043185593],\n",
       " ['baseline', 'neg_log_loss', -0.24031096049225212],\n",
       " ['baseline',\n",
       "  make_scorer(balance_loglossv2, greater_is_better=False, needs_proba=True),\n",
       "  -0.38229210176063455]]"
      ]
     },
     "execution_count": 9,
     "metadata": {},
     "output_type": "execute_result"
    }
   ],
   "source": [
    "clf = imbpipeline(steps=[(\"a\", KNNImputer(**imputer_params)), (\"b\", RobustScaler()), (\"c\", ADASYN()), (\"d\", XGBClassifier())])\n",
    "clf.fit(df_ready_x, df_ready_y)\n",
    "compute_scores(clf, cv, df_ready_x, df_ready_y, 'baseline')\n",
    "scores"
   ]
  },
  {
   "cell_type": "code",
   "execution_count": 10,
   "id": "a6953997",
   "metadata": {
    "execution": {
     "iopub.execute_input": "2023-07-16T15:09:40.242971Z",
     "iopub.status.busy": "2023-07-16T15:09:40.242544Z",
     "iopub.status.idle": "2023-07-16T15:09:40.253355Z",
     "shell.execute_reply": "2023-07-16T15:09:40.252221Z"
    },
    "papermill": {
     "duration": 0.022895,
     "end_time": "2023-07-16T15:09:40.255802",
     "exception": false,
     "start_time": "2023-07-16T15:09:40.232907",
     "status": "completed"
    },
    "tags": []
   },
   "outputs": [],
   "source": [
    "#clf = Pipeline(steps=[(\"a\", KNNImputer(**imputer_params)), (\"b\", RobustScaler()), (\"c\", SMOTEENN()), (\"d\", XGBClassifier())])\n",
    "clf = imbpipeline(steps=[(\"a\", KNNImputer(**imputer_params)), (\"b\", RobustScaler()), (\"c\", ADASYN()), (\"d\", XGBClassifier())])\n",
    "\n",
    "param_grid = {\n",
    "#'d__scale_pos_weight': [imbalance_ratio], \n",
    "    'a__n_neighbors': [2, 4, 6, 8, 10, 12, 14, 16], \n",
    "    'a__weights': [\"uniform\"], \n",
    "    'a__missing_values': [np.nan], \n",
    "    'a__copy': [False],\n",
    "    'c__n_neighbors': [4, 6, 8, 10, 12, 14, 16, 18, 20], \n",
    "    'c__sampling_strategy': [0.5, 0.6, 0.7, 0.8, 0.9, 1],\n",
    "    'd__n_estimators': [30, 40, 50, 50, 70, 80, 90, 100, 120, 130, 140, 150, 160, 170, 180, 190, 200], \n",
    "    'd__max_depth': [3, 5, 7, 9, 11, 13, 15], \n",
    "    'd__learning_rate': [1, 0.5, 0.1, 0.05, 0.01,0.005],\n",
    "}\n"
   ]
  },
  {
   "cell_type": "code",
   "execution_count": 11,
   "id": "84fa3d24",
   "metadata": {
    "execution": {
     "iopub.execute_input": "2023-07-16T15:09:40.275158Z",
     "iopub.status.busy": "2023-07-16T15:09:40.274563Z",
     "iopub.status.idle": "2023-07-16T15:09:40.279625Z",
     "shell.execute_reply": "2023-07-16T15:09:40.278236Z"
    },
    "papermill": {
     "duration": 0.017992,
     "end_time": "2023-07-16T15:09:40.282089",
     "exception": false,
     "start_time": "2023-07-16T15:09:40.264097",
     "status": "completed"
    },
    "tags": []
   },
   "outputs": [],
   "source": [
    "#parameters = {\n",
    "#    'alpha': [0.8, 1, 2, 3], \n",
    "#   'hidden_layer_sizes': [4, 5, 6], \n",
    "#    'max_iter': [700, 800, 900], \n",
    "#}\n"
   ]
  },
  {
   "cell_type": "code",
   "execution_count": 12,
   "id": "5ee402be",
   "metadata": {
    "execution": {
     "iopub.execute_input": "2023-07-16T15:09:40.301140Z",
     "iopub.status.busy": "2023-07-16T15:09:40.300723Z",
     "iopub.status.idle": "2023-07-16T15:09:40.304882Z",
     "shell.execute_reply": "2023-07-16T15:09:40.304066Z"
    },
    "papermill": {
     "duration": 0.016525,
     "end_time": "2023-07-16T15:09:40.307201",
     "exception": false,
     "start_time": "2023-07-16T15:09:40.290676",
     "status": "completed"
    },
    "tags": []
   },
   "outputs": [],
   "source": [
    "#parameters = {\n",
    "#    'max_depth': [9, 10, 11],\n",
    "#    'max_features': [10, 15, 17], \n",
    "#    'n_estimators': [28, 30, 32],\n",
    "#}\n"
   ]
  },
  {
   "cell_type": "code",
   "execution_count": 13,
   "id": "97e12653",
   "metadata": {
    "execution": {
     "iopub.execute_input": "2023-07-16T15:09:40.326025Z",
     "iopub.status.busy": "2023-07-16T15:09:40.325169Z",
     "iopub.status.idle": "2023-07-16T15:09:40.330753Z",
     "shell.execute_reply": "2023-07-16T15:09:40.329335Z"
    },
    "papermill": {
     "duration": 0.017621,
     "end_time": "2023-07-16T15:09:40.333144",
     "exception": false,
     "start_time": "2023-07-16T15:09:40.315523",
     "status": "completed"
    },
    "tags": []
   },
   "outputs": [],
   "source": [
    "#parameters = {\n",
    "#    'verbose': [0], \n",
    "#    'auto_class_weights' : ['Balanced'],\n",
    "#    'learning_rate': [0.1, 1],\n",
    "#    'iterations': [100, 1000],\n",
    "#    'max_depth': [7],\n",
    "#}"
   ]
  },
  {
   "cell_type": "code",
   "execution_count": 14,
   "id": "72f452a9",
   "metadata": {
    "execution": {
     "iopub.execute_input": "2023-07-16T15:09:40.351469Z",
     "iopub.status.busy": "2023-07-16T15:09:40.351027Z",
     "iopub.status.idle": "2023-07-16T15:09:40.356972Z",
     "shell.execute_reply": "2023-07-16T15:09:40.355841Z"
    },
    "papermill": {
     "duration": 0.017826,
     "end_time": "2023-07-16T15:09:40.359430",
     "exception": false,
     "start_time": "2023-07-16T15:09:40.341604",
     "status": "completed"
    },
    "tags": []
   },
   "outputs": [],
   "source": [
    "grid_search = RandomizedSearchCV(\n",
    "   estimator = clf,\n",
    "   #param_grid = param_grid,\n",
    "   param_distributions = param_grid,\n",
    "   scoring = 'neg_log_loss', #competition_balanced_log_loss,\n",
    "   n_iter = 1000,\n",
    "   n_jobs = 10,\n",
    "   cv = 5,\n",
    "   verbose = True\n",
    ")"
   ]
  },
  {
   "cell_type": "code",
   "execution_count": 15,
   "id": "07d5742a",
   "metadata": {
    "execution": {
     "iopub.execute_input": "2023-07-16T15:09:40.378148Z",
     "iopub.status.busy": "2023-07-16T15:09:40.377656Z",
     "iopub.status.idle": "2023-07-16T15:09:40.382993Z",
     "shell.execute_reply": "2023-07-16T15:09:40.381585Z"
    },
    "papermill": {
     "duration": 0.017289,
     "end_time": "2023-07-16T15:09:40.385304",
     "exception": false,
     "start_time": "2023-07-16T15:09:40.368015",
     "status": "completed"
    },
    "tags": []
   },
   "outputs": [],
   "source": [
    "#grid_search.fit(df_ready_x, df_ready_y)"
   ]
  },
  {
   "cell_type": "code",
   "execution_count": 16,
   "id": "c17a63bc",
   "metadata": {
    "execution": {
     "iopub.execute_input": "2023-07-16T15:09:40.403623Z",
     "iopub.status.busy": "2023-07-16T15:09:40.403181Z",
     "iopub.status.idle": "2023-07-16T15:09:40.408224Z",
     "shell.execute_reply": "2023-07-16T15:09:40.407091Z"
    },
    "papermill": {
     "duration": 0.017123,
     "end_time": "2023-07-16T15:09:40.410604",
     "exception": false,
     "start_time": "2023-07-16T15:09:40.393481",
     "status": "completed"
    },
    "tags": []
   },
   "outputs": [],
   "source": [
    "#grid_search.best_params_"
   ]
  },
  {
   "cell_type": "markdown",
   "id": "cdf7f00d",
   "metadata": {
    "papermill": {
     "duration": 0.007819,
     "end_time": "2023-07-16T15:09:40.426845",
     "exception": false,
     "start_time": "2023-07-16T15:09:40.419026",
     "status": "completed"
    },
    "tags": []
   },
   "source": [
    "{'d__n_estimators': 120,\n",
    " 'd__max_depth': 5,\n",
    " 'd__learning_rate': 0.1,\n",
    " 'c__sampling_strategy': 0.6,\n",
    " 'c__n_neighbors': 10,\n",
    " 'a__weights': 'uniform',\n",
    " 'a__n_neighbors': 4,\n",
    " 'a__missing_values': nan,\n",
    " 'a__copy': False}\n",
    " \n",
    " {'d__n_estimators': 200,\n",
    " 'd__max_depth': 11,\n",
    " 'd__learning_rate': 0.05,\n",
    " 'c__sampling_strategy': 0.5,\n",
    " 'c__n_neighbors': 8,\n",
    " 'a__weights': 'uniform',\n",
    " 'a__n_neighbors': 6,\n",
    " 'a__missing_values': nan,\n",
    " 'a__copy': False}\n",
    " \n",
    " {'d__n_estimators': 160,\n",
    " 'd__max_depth': 3,\n",
    " 'd__learning_rate': 0.05,\n",
    " 'c__sampling_strategy': 1,\n",
    " 'c__n_neighbors': 18,\n",
    " 'a__weights': 'uniform',\n",
    " 'a__n_neighbors': 6,\n",
    " 'a__missing_values': nan,\n",
    " 'a__copy': False}\n",
    " \n",
    " {'d__n_estimators': 140,\n",
    " 'd__max_depth': 11,\n",
    " 'd__learning_rate': 0.05,\n",
    " 'c__sampling_strategy': 0.5,\n",
    " 'c__n_neighbors': 18,\n",
    " 'a__weights': 'uniform',\n",
    " 'a__n_neighbors': 8,\n",
    " 'a__missing_values': nan,\n",
    " 'a__copy': False}"
   ]
  },
  {
   "cell_type": "code",
   "execution_count": 17,
   "id": "6c638e19",
   "metadata": {
    "execution": {
     "iopub.execute_input": "2023-07-16T15:09:40.444638Z",
     "iopub.status.busy": "2023-07-16T15:09:40.444224Z",
     "iopub.status.idle": "2023-07-16T15:09:40.803236Z",
     "shell.execute_reply": "2023-07-16T15:09:40.802119Z"
    },
    "papermill": {
     "duration": 0.370689,
     "end_time": "2023-07-16T15:09:40.805541",
     "exception": false,
     "start_time": "2023-07-16T15:09:40.434852",
     "status": "completed"
    },
    "tags": []
   },
   "outputs": [
    {
     "data": {
      "text/html": [
       "<style>#sk-container-id-1 {color: black;background-color: white;}#sk-container-id-1 pre{padding: 0;}#sk-container-id-1 div.sk-toggleable {background-color: white;}#sk-container-id-1 label.sk-toggleable__label {cursor: pointer;display: block;width: 100%;margin-bottom: 0;padding: 0.3em;box-sizing: border-box;text-align: center;}#sk-container-id-1 label.sk-toggleable__label-arrow:before {content: \"▸\";float: left;margin-right: 0.25em;color: #696969;}#sk-container-id-1 label.sk-toggleable__label-arrow:hover:before {color: black;}#sk-container-id-1 div.sk-estimator:hover label.sk-toggleable__label-arrow:before {color: black;}#sk-container-id-1 div.sk-toggleable__content {max-height: 0;max-width: 0;overflow: hidden;text-align: left;background-color: #f0f8ff;}#sk-container-id-1 div.sk-toggleable__content pre {margin: 0.2em;color: black;border-radius: 0.25em;background-color: #f0f8ff;}#sk-container-id-1 input.sk-toggleable__control:checked~div.sk-toggleable__content {max-height: 200px;max-width: 100%;overflow: auto;}#sk-container-id-1 input.sk-toggleable__control:checked~label.sk-toggleable__label-arrow:before {content: \"▾\";}#sk-container-id-1 div.sk-estimator input.sk-toggleable__control:checked~label.sk-toggleable__label {background-color: #d4ebff;}#sk-container-id-1 div.sk-label input.sk-toggleable__control:checked~label.sk-toggleable__label {background-color: #d4ebff;}#sk-container-id-1 input.sk-hidden--visually {border: 0;clip: rect(1px 1px 1px 1px);clip: rect(1px, 1px, 1px, 1px);height: 1px;margin: -1px;overflow: hidden;padding: 0;position: absolute;width: 1px;}#sk-container-id-1 div.sk-estimator {font-family: monospace;background-color: #f0f8ff;border: 1px dotted black;border-radius: 0.25em;box-sizing: border-box;margin-bottom: 0.5em;}#sk-container-id-1 div.sk-estimator:hover {background-color: #d4ebff;}#sk-container-id-1 div.sk-parallel-item::after {content: \"\";width: 100%;border-bottom: 1px solid gray;flex-grow: 1;}#sk-container-id-1 div.sk-label:hover label.sk-toggleable__label {background-color: #d4ebff;}#sk-container-id-1 div.sk-serial::before {content: \"\";position: absolute;border-left: 1px solid gray;box-sizing: border-box;top: 0;bottom: 0;left: 50%;z-index: 0;}#sk-container-id-1 div.sk-serial {display: flex;flex-direction: column;align-items: center;background-color: white;padding-right: 0.2em;padding-left: 0.2em;position: relative;}#sk-container-id-1 div.sk-item {position: relative;z-index: 1;}#sk-container-id-1 div.sk-parallel {display: flex;align-items: stretch;justify-content: center;background-color: white;position: relative;}#sk-container-id-1 div.sk-item::before, #sk-container-id-1 div.sk-parallel-item::before {content: \"\";position: absolute;border-left: 1px solid gray;box-sizing: border-box;top: 0;bottom: 0;left: 50%;z-index: -1;}#sk-container-id-1 div.sk-parallel-item {display: flex;flex-direction: column;z-index: 1;position: relative;background-color: white;}#sk-container-id-1 div.sk-parallel-item:first-child::after {align-self: flex-end;width: 50%;}#sk-container-id-1 div.sk-parallel-item:last-child::after {align-self: flex-start;width: 50%;}#sk-container-id-1 div.sk-parallel-item:only-child::after {width: 0;}#sk-container-id-1 div.sk-dashed-wrapped {border: 1px dashed gray;margin: 0 0.4em 0.5em 0.4em;box-sizing: border-box;padding-bottom: 0.4em;background-color: white;}#sk-container-id-1 div.sk-label label {font-family: monospace;font-weight: bold;display: inline-block;line-height: 1.2em;}#sk-container-id-1 div.sk-label-container {text-align: center;}#sk-container-id-1 div.sk-container {/* jupyter's `normalize.less` sets `[hidden] { display: none; }` but bootstrap.min.css set `[hidden] { display: none !important; }` so we also need the `!important` here to be able to override the default hidden behavior on the sphinx rendered scikit-learn.org. See: https://github.com/scikit-learn/scikit-learn/issues/21755 */display: inline-block !important;position: relative;}#sk-container-id-1 div.sk-text-repr-fallback {display: none;}</style><div id=\"sk-container-id-1\" class=\"sk-top-container\"><div class=\"sk-text-repr-fallback\"><pre>Pipeline(steps=[(&#x27;a&#x27;, KNNImputer(copy=False, n_neighbors=8)),\n",
       "                (&#x27;b&#x27;, RobustScaler()),\n",
       "                (&#x27;c&#x27;, ADASYN(n_neighbors=18, sampling_strategy=0.5)),\n",
       "                (&#x27;d&#x27;,\n",
       "                 XGBClassifier(base_score=None, booster=None, callbacks=None,\n",
       "                               colsample_bylevel=None, colsample_bynode=None,\n",
       "                               colsample_bytree=None,\n",
       "                               early_stopping_rounds=None,\n",
       "                               enable_categorical=False, eval_metric=None,\n",
       "                               feature_types=None, g...one,\n",
       "                               grow_policy=None, importance_type=None,\n",
       "                               interaction_constraints=None, learning_rate=0.05,\n",
       "                               max_bin=None, max_cat_threshold=None,\n",
       "                               max_cat_to_onehot=None, max_delta_step=None,\n",
       "                               max_depth=11, max_leaves=None,\n",
       "                               min_child_weight=None, missing=nan,\n",
       "                               monotone_constraints=None, n_estimators=140,\n",
       "                               n_jobs=None, num_parallel_tree=None,\n",
       "                               predictor=None, random_state=None, ...))])</pre><b>In a Jupyter environment, please rerun this cell to show the HTML representation or trust the notebook. <br />On GitHub, the HTML representation is unable to render, please try loading this page with nbviewer.org.</b></div><div class=\"sk-container\" hidden><div class=\"sk-item sk-dashed-wrapped\"><div class=\"sk-label-container\"><div class=\"sk-label sk-toggleable\"><input class=\"sk-toggleable__control sk-hidden--visually\" id=\"sk-estimator-id-1\" type=\"checkbox\" ><label for=\"sk-estimator-id-1\" class=\"sk-toggleable__label sk-toggleable__label-arrow\">Pipeline</label><div class=\"sk-toggleable__content\"><pre>Pipeline(steps=[(&#x27;a&#x27;, KNNImputer(copy=False, n_neighbors=8)),\n",
       "                (&#x27;b&#x27;, RobustScaler()),\n",
       "                (&#x27;c&#x27;, ADASYN(n_neighbors=18, sampling_strategy=0.5)),\n",
       "                (&#x27;d&#x27;,\n",
       "                 XGBClassifier(base_score=None, booster=None, callbacks=None,\n",
       "                               colsample_bylevel=None, colsample_bynode=None,\n",
       "                               colsample_bytree=None,\n",
       "                               early_stopping_rounds=None,\n",
       "                               enable_categorical=False, eval_metric=None,\n",
       "                               feature_types=None, g...one,\n",
       "                               grow_policy=None, importance_type=None,\n",
       "                               interaction_constraints=None, learning_rate=0.05,\n",
       "                               max_bin=None, max_cat_threshold=None,\n",
       "                               max_cat_to_onehot=None, max_delta_step=None,\n",
       "                               max_depth=11, max_leaves=None,\n",
       "                               min_child_weight=None, missing=nan,\n",
       "                               monotone_constraints=None, n_estimators=140,\n",
       "                               n_jobs=None, num_parallel_tree=None,\n",
       "                               predictor=None, random_state=None, ...))])</pre></div></div></div><div class=\"sk-serial\"><div class=\"sk-item\"><div class=\"sk-estimator sk-toggleable\"><input class=\"sk-toggleable__control sk-hidden--visually\" id=\"sk-estimator-id-2\" type=\"checkbox\" ><label for=\"sk-estimator-id-2\" class=\"sk-toggleable__label sk-toggleable__label-arrow\">KNNImputer</label><div class=\"sk-toggleable__content\"><pre>KNNImputer(copy=False, n_neighbors=8)</pre></div></div></div><div class=\"sk-item\"><div class=\"sk-estimator sk-toggleable\"><input class=\"sk-toggleable__control sk-hidden--visually\" id=\"sk-estimator-id-3\" type=\"checkbox\" ><label for=\"sk-estimator-id-3\" class=\"sk-toggleable__label sk-toggleable__label-arrow\">RobustScaler</label><div class=\"sk-toggleable__content\"><pre>RobustScaler()</pre></div></div></div><div class=\"sk-item\"><div class=\"sk-estimator sk-toggleable\"><input class=\"sk-toggleable__control sk-hidden--visually\" id=\"sk-estimator-id-4\" type=\"checkbox\" ><label for=\"sk-estimator-id-4\" class=\"sk-toggleable__label sk-toggleable__label-arrow\">ADASYN</label><div class=\"sk-toggleable__content\"><pre>ADASYN(n_neighbors=18, sampling_strategy=0.5)</pre></div></div></div><div class=\"sk-item\"><div class=\"sk-estimator sk-toggleable\"><input class=\"sk-toggleable__control sk-hidden--visually\" id=\"sk-estimator-id-5\" type=\"checkbox\" ><label for=\"sk-estimator-id-5\" class=\"sk-toggleable__label sk-toggleable__label-arrow\">XGBClassifier</label><div class=\"sk-toggleable__content\"><pre>XGBClassifier(base_score=None, booster=None, callbacks=None,\n",
       "              colsample_bylevel=None, colsample_bynode=None,\n",
       "              colsample_bytree=None, early_stopping_rounds=None,\n",
       "              enable_categorical=False, eval_metric=None, feature_types=None,\n",
       "              gamma=None, gpu_id=None, grow_policy=None, importance_type=None,\n",
       "              interaction_constraints=None, learning_rate=0.05, max_bin=None,\n",
       "              max_cat_threshold=None, max_cat_to_onehot=None,\n",
       "              max_delta_step=None, max_depth=11, max_leaves=None,\n",
       "              min_child_weight=None, missing=nan, monotone_constraints=None,\n",
       "              n_estimators=140, n_jobs=None, num_parallel_tree=None,\n",
       "              predictor=None, random_state=None, ...)</pre></div></div></div></div></div></div></div>"
      ],
      "text/plain": [
       "Pipeline(steps=[('a', KNNImputer(copy=False, n_neighbors=8)),\n",
       "                ('b', RobustScaler()),\n",
       "                ('c', ADASYN(n_neighbors=18, sampling_strategy=0.5)),\n",
       "                ('d',\n",
       "                 XGBClassifier(base_score=None, booster=None, callbacks=None,\n",
       "                               colsample_bylevel=None, colsample_bynode=None,\n",
       "                               colsample_bytree=None,\n",
       "                               early_stopping_rounds=None,\n",
       "                               enable_categorical=False, eval_metric=None,\n",
       "                               feature_types=None, g...one,\n",
       "                               grow_policy=None, importance_type=None,\n",
       "                               interaction_constraints=None, learning_rate=0.05,\n",
       "                               max_bin=None, max_cat_threshold=None,\n",
       "                               max_cat_to_onehot=None, max_delta_step=None,\n",
       "                               max_depth=11, max_leaves=None,\n",
       "                               min_child_weight=None, missing=nan,\n",
       "                               monotone_constraints=None, n_estimators=140,\n",
       "                               n_jobs=None, num_parallel_tree=None,\n",
       "                               predictor=None, random_state=None, ...))])"
      ]
     },
     "execution_count": 17,
     "metadata": {},
     "output_type": "execute_result"
    }
   ],
   "source": [
    "smote_params = {'n_neighbors': 18, 'sampling_strategy': 0.5}\n",
    "xgb_params = {'learning_rate': 0.05, 'max_depth': 11, 'n_estimators': 140}\n",
    "imputer_params = {'n_neighbors': 8, 'weights': 'uniform','missing_values': np.nan, 'copy': False}\n",
    "clf = imbpipeline(steps=[(\"a\", KNNImputer(**imputer_params)), (\"b\", RobustScaler()), (\"c\", ADASYN(**smote_params)), (\"d\", XGBClassifier(**xgb_params))])\n",
    "\n",
    "clf.fit(df_ready_x, df_ready_y)\n",
    "#compute_scores(clf, cv, df_ready_x, df_ready_y, 'optim')\n",
    "#scores"
   ]
  },
  {
   "cell_type": "markdown",
   "id": "f8ad4683",
   "metadata": {
    "papermill": {
     "duration": 0.008538,
     "end_time": "2023-07-16T15:09:40.822907",
     "exception": false,
     "start_time": "2023-07-16T15:09:40.814369",
     "status": "completed"
    },
    "tags": []
   },
   "source": [
    "* -0.3258 XGB {'learning_rate': 0.09, 'max_depth': 2, 'n_estimators': 65, 'scale_pos_weight': 4.712962962962963}\n",
    "* -0.4539 MLP {'alpha': 2, 'hidden_layer_sizes': 5, 'max_iter': 800}\n",
    "* -0.4461 RF  {'max_depth': 10, 'max_features': 15, 'n_estimators': 30}\n",
    "* -0.3428 Cat {'auto_class_weights': 'Balanced', 'iterations': 100, 'learning_rate': 0.1, 'max_depth': 7, 'verbose': 0}\n",
    "* -0.3231 XGB fe select {'learning_rate': 0.1, 'max_depth': 2,'n_estimators': 65, 'scale_pos_weight': 4.712962962962963}\n"
   ]
  },
  {
   "cell_type": "markdown",
   "id": "4e4764c5",
   "metadata": {
    "papermill": {
     "duration": 0.009067,
     "end_time": "2023-07-16T15:09:40.840954",
     "exception": false,
     "start_time": "2023-07-16T15:09:40.831887",
     "status": "completed"
    },
    "tags": []
   },
   "source": [
    "* XGB with KNN, RobustScaler and Boruta scored **0.27**\n",
    "** optim accuracy 0.9027755922720518\n",
    "** optim neg_log_loss -0.2641812458160158\n",
    "** optim -0.325687961912535\n",
    "* Now adding SMOTE\n",
    "* -0.46142 with SMOTEEN and {'learning_rate': 0.1,'max_depth': 3,'n_estimators': 65,'scale_pos_weight': 0.7865497076023392}  ERROR? why is it better with the unbalanced ratio?\n",
    "** optim accuracy 0.9238482384823851\n",
    "** optim neg_log_loss -0.20840998742484473\n",
    "** optim loglossv2 -0.4498135188099039\n",
    "* -0.350951 with SMOTE and {'b__k_neighbors': 11, 'b__sampling_strategy': 0.75, 'd__learning_rate': 0.1, 'd__max_depth': \n",
    " 'd__n_estimators': 50}\n",
    "** optim accuracy 0.9108269953667277\n",
    "** optim neg_log_loss -0.2246716546812891\n",
    "** optim balanc_loglossv2 -0.350951546247298\n",
    "* -0.36220598 with SMOTE and {'b__k_neighbors': 14, 'b__sampling_strategy': 0.75, 'd__learning_rate': 0.11, 'd__max_depth': 8, 'd__n_estimators': 47}\n",
    "** optim accuracy 0.9114083398898505\n",
    "** optim neg_log_loss -0.23217032137811883\n",
    "** optim balance_loglossv2 -0.36220598518369224\n",
    "* -0.320258 with SMOTE and {'c__k_neighbors': 7, 'c__sampling_strategy': 1, 'd__learning_rate': 0.15, 'd__max_depth': 3, 'd__n_estimators': 38}\n",
    "** optim accuracy 0.9054899903837748\n",
    "** optim neg_log_loss -0.22611896007194524\n",
    "** optim balance_loglossv2 -0.3202587222164088\n",
    "* -0.361626 and acc 0.921151 with ADASYN and {'d__n_estimators': 120, 'd__max_depth': 5, 'd__learning_rate': 0.1, 'c__sampling_strategy': 0.6, 'c__n_neighbors': 10, 'a__weights': 'uniform', 'a__n_neighbors': 4, 'a__missing_values': n an, 'a__copy': False}\n",
    "* -0.374 and acc with ADASYN and {'d__n_estimators': 200, 'd__max_depth': 11, 'd__learning_rate': 0.05, 'c__sampling_strategy': 0.5, 'c__n_neighbors': 8, 'a__weights': 'uniform', 'a__n_neighbors': 6, 'a__missing_values': nan, 'a__copy': False}\n",
    "* -0.297683and acc with ADASYN and  {'d__n_estimators': 160, 'd__max_depth': 3, 'd__learning_rate': 0.05, 'c__sampling_strategy': 1, 'c__n_neighbors': 18, 'a__weights': 'uniform', 'a__n_neighbors': 6, 'a__missing_values': nan, 'a__copy': False}\n",
    "* -0.388858 and acc 0.921 and neg_log_loss -0.19661032 with ADASYN and {'d__n_estimators': 140, 'd__max_depth': 11, 'd__learning_rate': 0.05, 'c__sampling_strategy': 0.5, 'c__n_neighbors': 18, 'a__weights': 'uniform', 'a__n_neighbors': 8, 'a__missing_values': nan, 'a__copy': False}\n",
    " \n"
   ]
  },
  {
   "cell_type": "code",
   "execution_count": 18,
   "id": "c4761c39",
   "metadata": {
    "execution": {
     "iopub.execute_input": "2023-07-16T15:09:40.860951Z",
     "iopub.status.busy": "2023-07-16T15:09:40.860372Z",
     "iopub.status.idle": "2023-07-16T15:09:40.903115Z",
     "shell.execute_reply": "2023-07-16T15:09:40.901945Z"
    },
    "papermill": {
     "duration": 0.055604,
     "end_time": "2023-07-16T15:09:40.905597",
     "exception": false,
     "start_time": "2023-07-16T15:09:40.849993",
     "status": "completed"
    },
    "tags": []
   },
   "outputs": [
    {
     "data": {
      "text/html": [
       "<div>\n",
       "<style scoped>\n",
       "    .dataframe tbody tr th:only-of-type {\n",
       "        vertical-align: middle;\n",
       "    }\n",
       "\n",
       "    .dataframe tbody tr th {\n",
       "        vertical-align: top;\n",
       "    }\n",
       "\n",
       "    .dataframe thead th {\n",
       "        text-align: right;\n",
       "    }\n",
       "</style>\n",
       "<table border=\"1\" class=\"dataframe\">\n",
       "  <thead>\n",
       "    <tr style=\"text-align: right;\">\n",
       "      <th></th>\n",
       "      <th>0</th>\n",
       "      <th>1</th>\n",
       "    </tr>\n",
       "  </thead>\n",
       "  <tbody>\n",
       "    <tr>\n",
       "      <th>0</th>\n",
       "      <td>0.91256</td>\n",
       "      <td>0.08744</td>\n",
       "    </tr>\n",
       "    <tr>\n",
       "      <th>1</th>\n",
       "      <td>0.91256</td>\n",
       "      <td>0.08744</td>\n",
       "    </tr>\n",
       "    <tr>\n",
       "      <th>2</th>\n",
       "      <td>0.91256</td>\n",
       "      <td>0.08744</td>\n",
       "    </tr>\n",
       "    <tr>\n",
       "      <th>3</th>\n",
       "      <td>0.91256</td>\n",
       "      <td>0.08744</td>\n",
       "    </tr>\n",
       "    <tr>\n",
       "      <th>4</th>\n",
       "      <td>0.91256</td>\n",
       "      <td>0.08744</td>\n",
       "    </tr>\n",
       "  </tbody>\n",
       "</table>\n",
       "</div>"
      ],
      "text/plain": [
       "         0        1\n",
       "0  0.91256  0.08744\n",
       "1  0.91256  0.08744\n",
       "2  0.91256  0.08744\n",
       "3  0.91256  0.08744\n",
       "4  0.91256  0.08744"
      ]
     },
     "execution_count": 18,
     "metadata": {},
     "output_type": "execute_result"
    }
   ],
   "source": [
    "df_test_file = pd.read_csv(input_path + 'test.csv')\n",
    "df_test_x, df_test_y = prepare_initial(df_test_file)\n",
    "df_test_preds = pd.DataFrame(clf.predict_proba(df_test_x))\n",
    "df_test_preds"
   ]
  },
  {
   "cell_type": "code",
   "execution_count": 19,
   "id": "328de349",
   "metadata": {
    "execution": {
     "iopub.execute_input": "2023-07-16T15:09:40.925338Z",
     "iopub.status.busy": "2023-07-16T15:09:40.924549Z",
     "iopub.status.idle": "2023-07-16T15:09:40.940319Z",
     "shell.execute_reply": "2023-07-16T15:09:40.939124Z"
    },
    "papermill": {
     "duration": 0.02819,
     "end_time": "2023-07-16T15:09:40.942686",
     "exception": false,
     "start_time": "2023-07-16T15:09:40.914496",
     "status": "completed"
    },
    "tags": []
   },
   "outputs": [
    {
     "data": {
      "text/html": [
       "<div>\n",
       "<style scoped>\n",
       "    .dataframe tbody tr th:only-of-type {\n",
       "        vertical-align: middle;\n",
       "    }\n",
       "\n",
       "    .dataframe tbody tr th {\n",
       "        vertical-align: top;\n",
       "    }\n",
       "\n",
       "    .dataframe thead th {\n",
       "        text-align: right;\n",
       "    }\n",
       "</style>\n",
       "<table border=\"1\" class=\"dataframe\">\n",
       "  <thead>\n",
       "    <tr style=\"text-align: right;\">\n",
       "      <th></th>\n",
       "      <th>Id</th>\n",
       "      <th>0</th>\n",
       "      <th>1</th>\n",
       "    </tr>\n",
       "  </thead>\n",
       "  <tbody>\n",
       "    <tr>\n",
       "      <th>0</th>\n",
       "      <td>00eed32682bb</td>\n",
       "      <td>0.91256</td>\n",
       "      <td>0.08744</td>\n",
       "    </tr>\n",
       "    <tr>\n",
       "      <th>1</th>\n",
       "      <td>010ebe33f668</td>\n",
       "      <td>0.91256</td>\n",
       "      <td>0.08744</td>\n",
       "    </tr>\n",
       "    <tr>\n",
       "      <th>2</th>\n",
       "      <td>02fa521e1838</td>\n",
       "      <td>0.91256</td>\n",
       "      <td>0.08744</td>\n",
       "    </tr>\n",
       "    <tr>\n",
       "      <th>3</th>\n",
       "      <td>040e15f562a2</td>\n",
       "      <td>0.91256</td>\n",
       "      <td>0.08744</td>\n",
       "    </tr>\n",
       "    <tr>\n",
       "      <th>4</th>\n",
       "      <td>046e85c7cc7f</td>\n",
       "      <td>0.91256</td>\n",
       "      <td>0.08744</td>\n",
       "    </tr>\n",
       "  </tbody>\n",
       "</table>\n",
       "</div>"
      ],
      "text/plain": [
       "             Id        0        1\n",
       "0  00eed32682bb  0.91256  0.08744\n",
       "1  010ebe33f668  0.91256  0.08744\n",
       "2  02fa521e1838  0.91256  0.08744\n",
       "3  040e15f562a2  0.91256  0.08744\n",
       "4  046e85c7cc7f  0.91256  0.08744"
      ]
     },
     "execution_count": 19,
     "metadata": {},
     "output_type": "execute_result"
    }
   ],
   "source": [
    "df_test_y = pd.concat([df_test_file['Id'], df_test_preds], axis=1)\n",
    "df_test_y"
   ]
  },
  {
   "cell_type": "code",
   "execution_count": 20,
   "id": "04c8d163",
   "metadata": {
    "execution": {
     "iopub.execute_input": "2023-07-16T15:09:40.963730Z",
     "iopub.status.busy": "2023-07-16T15:09:40.962981Z",
     "iopub.status.idle": "2023-07-16T15:09:42.087166Z",
     "shell.execute_reply": "2023-07-16T15:09:42.086075Z"
    },
    "papermill": {
     "duration": 1.137644,
     "end_time": "2023-07-16T15:09:42.089934",
     "exception": false,
     "start_time": "2023-07-16T15:09:40.952290",
     "status": "completed"
    },
    "tags": []
   },
   "outputs": [
    {
     "name": "stdout",
     "output_type": "stream",
     "text": [
      "Id,class_0,class_1\r\n",
      "00eed32682bb,0.9125601,0.08743991\r\n",
      "010ebe33f668,0.9125601,0.08743991\r\n",
      "02fa521e1838,0.9125601,0.08743991\r\n",
      "040e15f562a2,0.9125601,0.08743991\r\n",
      "046e85c7cc7f,0.9125601,0.08743991\r\n"
     ]
    }
   ],
   "source": [
    "df_test_y.to_csv('/kaggle/working/submission.csv', header=['Id', 'class_0', 'class_1'], index=False)\n",
    "!head /kaggle/working/submission.csv"
   ]
  },
  {
   "cell_type": "markdown",
   "id": "0dd905e6",
   "metadata": {
    "papermill": {
     "duration": 0.00881,
     "end_time": "2023-07-16T15:09:42.108108",
     "exception": false,
     "start_time": "2023-07-16T15:09:42.099298",
     "status": "completed"
    },
    "tags": []
   },
   "source": [
    "### version 4 scored **0.27** with Boruta, KNN, Robust and XGB optim\n",
    "### version 5 scored **0.31** with Boruta, KNN, Robust, SMOTEEN and XGB optim\n",
    "### version 6 scored **0.31** with Boruta, KNN, Robust, SMOTE and XGB optim"
   ]
  }
 ],
 "metadata": {
  "kernelspec": {
   "display_name": "Python 3",
   "language": "python",
   "name": "python3"
  },
  "language_info": {
   "codemirror_mode": {
    "name": "ipython",
    "version": 3
   },
   "file_extension": ".py",
   "mimetype": "text/x-python",
   "name": "python",
   "nbconvert_exporter": "python",
   "pygments_lexer": "ipython3",
   "version": "3.10.10"
  },
  "papermill": {
   "default_parameters": {},
   "duration": 27.267155,
   "end_time": "2023-07-16T15:09:43.241653",
   "environment_variables": {},
   "exception": null,
   "input_path": "__notebook__.ipynb",
   "output_path": "__notebook__.ipynb",
   "parameters": {},
   "start_time": "2023-07-16T15:09:15.974498",
   "version": "2.4.0"
  }
 },
 "nbformat": 4,
 "nbformat_minor": 5
}
