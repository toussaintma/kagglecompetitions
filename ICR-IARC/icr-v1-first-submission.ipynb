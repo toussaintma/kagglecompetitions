{
 "cells": [
  {
   "cell_type": "code",
   "execution_count": 1,
   "id": "489d6f67",
   "metadata": {
    "execution": {
     "iopub.execute_input": "2023-07-26T12:51:37.344394Z",
     "iopub.status.busy": "2023-07-26T12:51:37.343361Z",
     "iopub.status.idle": "2023-07-26T12:51:40.347948Z",
     "shell.execute_reply": "2023-07-26T12:51:40.346523Z"
    },
    "papermill": {
     "duration": 3.019449,
     "end_time": "2023-07-26T12:51:40.351130",
     "exception": false,
     "start_time": "2023-07-26T12:51:37.331681",
     "status": "completed"
    },
    "tags": []
   },
   "outputs": [],
   "source": [
    "import numpy as np  \n",
    "import pandas as pd\n",
    "from sklearn.model_selection import cross_val_score\n",
    "from sklearn.impute import KNNImputer\n",
    "from sklearn.preprocessing import RobustScaler\n",
    "#from sklearn.model_selection import StratifiedKFold\n",
    "from sklearn.model_selection import RepeatedStratifiedKFold\n",
    "#from sklearn.pipeline import Pipeline\n",
    "from sklearn.pipeline import make_pipeline\n",
    "from xgboost import XGBClassifier\n",
    "from catboost import CatBoostClassifier\n",
    "from sklearn.neural_network import MLPClassifier\n",
    "from sklearn.metrics import make_scorer\n",
    "from sklearn.metrics import log_loss\n",
    "from imblearn.over_sampling import ADASYN\n",
    "from imblearn.pipeline import Pipeline as imbpipeline"
   ]
  },
  {
   "cell_type": "code",
   "execution_count": 2,
   "id": "740b8e33",
   "metadata": {
    "execution": {
     "iopub.execute_input": "2023-07-26T12:51:40.372643Z",
     "iopub.status.busy": "2023-07-26T12:51:40.372191Z",
     "iopub.status.idle": "2023-07-26T12:51:40.412472Z",
     "shell.execute_reply": "2023-07-26T12:51:40.411496Z"
    },
    "papermill": {
     "duration": 0.054421,
     "end_time": "2023-07-26T12:51:40.415049",
     "exception": false,
     "start_time": "2023-07-26T12:51:40.360628",
     "status": "completed"
    },
    "tags": []
   },
   "outputs": [],
   "source": [
    "input_path = \"/kaggle/input/icr-identify-age-related-conditions/\"\n",
    "#work_path = os.getcwd()\n",
    "df_train_file = pd.read_csv(input_path + 'train.csv')\n",
    "#df_greek_file = pd.read_csv(input_path + 'greeks.csv')\n",
    "#df_test_file = pd.read_csv(input_path + 'test.csv')\n",
    "#df_greek_file.sample(10)"
   ]
  },
  {
   "cell_type": "markdown",
   "id": "a2fcac7f",
   "metadata": {
    "papermill": {
     "duration": 0.008821,
     "end_time": "2023-07-26T12:51:40.433368",
     "exception": false,
     "start_time": "2023-07-26T12:51:40.424547",
     "status": "completed"
    },
    "tags": []
   },
   "source": [
    "## Strategy: build ensemble averaging predictions with best algorithms so far, no PCA, Boruta feature reduction, RobustScaler, KNN imputer "
   ]
  },
  {
   "cell_type": "code",
   "execution_count": 3,
   "id": "7a77293a",
   "metadata": {
    "execution": {
     "iopub.execute_input": "2023-07-26T12:51:40.455958Z",
     "iopub.status.busy": "2023-07-26T12:51:40.454691Z",
     "iopub.status.idle": "2023-07-26T12:51:40.460110Z",
     "shell.execute_reply": "2023-07-26T12:51:40.459303Z"
    },
    "papermill": {
     "duration": 0.018259,
     "end_time": "2023-07-26T12:51:40.462468",
     "exception": false,
     "start_time": "2023-07-26T12:51:40.444209",
     "status": "completed"
    },
    "tags": []
   },
   "outputs": [],
   "source": [
    "#def balance_loglossv2(y_true, y_pred):\n",
    "#    target_mean = y_true.mean()\n",
    "#    w0 = 1/(1-target_mean)\n",
    "#    w1 = 1/target_mean\n",
    "#    sample_weight = [w0 if y == 0 else w1 for y in y_true]\n",
    "#    loss = log_loss(y_true, y_pred, sample_weight=sample_weight)\n",
    "#    \n",
    "#    return loss"
   ]
  },
  {
   "cell_type": "code",
   "execution_count": 4,
   "id": "fd47d4b1",
   "metadata": {
    "execution": {
     "iopub.execute_input": "2023-07-26T12:51:40.483792Z",
     "iopub.status.busy": "2023-07-26T12:51:40.483243Z",
     "iopub.status.idle": "2023-07-26T12:51:40.487740Z",
     "shell.execute_reply": "2023-07-26T12:51:40.486871Z"
    },
    "papermill": {
     "duration": 0.018174,
     "end_time": "2023-07-26T12:51:40.490071",
     "exception": false,
     "start_time": "2023-07-26T12:51:40.471897",
     "status": "completed"
    },
    "tags": []
   },
   "outputs": [],
   "source": [
    "#cv = RepeatedStratifiedKFold(n_splits=5)\n",
    "#competition_balanced_log_loss = make_scorer(balance_loglossv2, needs_proba=True)\n",
    "#scores = []\n",
    "\n",
    "#def compute_scores(clf, cv_strat, df_x, df_y, col_name):\n",
    "#    for i in ['accuracy', 'neg_log_loss', competition_balanced_log_loss]:\n",
    "#        scores.append([col_name, i, cross_val_score(clf, df_x, df_y, cv=cv_strat, scoring=i).mean()])\n",
    "#    return scores"
   ]
  },
  {
   "cell_type": "code",
   "execution_count": 5,
   "id": "fc15a481",
   "metadata": {
    "execution": {
     "iopub.execute_input": "2023-07-26T12:51:40.511140Z",
     "iopub.status.busy": "2023-07-26T12:51:40.510432Z",
     "iopub.status.idle": "2023-07-26T12:51:40.517582Z",
     "shell.execute_reply": "2023-07-26T12:51:40.516523Z"
    },
    "papermill": {
     "duration": 0.020637,
     "end_time": "2023-07-26T12:51:40.520314",
     "exception": false,
     "start_time": "2023-07-26T12:51:40.499677",
     "status": "completed"
    },
    "tags": []
   },
   "outputs": [],
   "source": [
    "def prepare_initial(df):\n",
    "    df.sort_values(by=['Id'], axis=0, ascending=True, inplace=True)\n",
    "    \n",
    "    # training set labels\n",
    "    df_y = None\n",
    "    if 'Class' in df.columns:\n",
    "      df_y = df['Class']\n",
    "    \n",
    "    # training set input\n",
    "    best_columns = ['AB', 'DI', 'DH', 'GL', 'DE', 'DA', 'EB', 'CR', 'EE', 'EH', 'FD ', 'CC', 'DL', 'FE', 'DU', 'AF', 'FI', 'BC', 'FL', \n",
    "                    'FR', 'BR', 'AM']\n",
    "    df_input = df.loc[:, best_columns]\n",
    "    \n",
    "    return df_input, df_y"
   ]
  },
  {
   "cell_type": "code",
   "execution_count": 6,
   "id": "2fd24791",
   "metadata": {
    "execution": {
     "iopub.execute_input": "2023-07-26T12:51:40.540911Z",
     "iopub.status.busy": "2023-07-26T12:51:40.540448Z",
     "iopub.status.idle": "2023-07-26T12:51:40.561403Z",
     "shell.execute_reply": "2023-07-26T12:51:40.560390Z"
    },
    "papermill": {
     "duration": 0.034518,
     "end_time": "2023-07-26T12:51:40.564193",
     "exception": false,
     "start_time": "2023-07-26T12:51:40.529675",
     "status": "completed"
    },
    "tags": []
   },
   "outputs": [],
   "source": [
    "df_ready_x, df_ready_y = prepare_initial(df_train_file)"
   ]
  },
  {
   "cell_type": "markdown",
   "id": "abd6220a",
   "metadata": {
    "papermill": {
     "duration": 0.008703,
     "end_time": "2023-07-26T12:51:40.582391",
     "exception": false,
     "start_time": "2023-07-26T12:51:40.573688",
     "status": "completed"
    },
    "tags": []
   },
   "source": [
    "Let's do an ensemble of models"
   ]
  },
  {
   "cell_type": "code",
   "execution_count": 7,
   "id": "0e546a90",
   "metadata": {
    "execution": {
     "iopub.execute_input": "2023-07-26T12:51:40.603689Z",
     "iopub.status.busy": "2023-07-26T12:51:40.602946Z",
     "iopub.status.idle": "2023-07-26T12:51:40.609370Z",
     "shell.execute_reply": "2023-07-26T12:51:40.608381Z"
    },
    "papermill": {
     "duration": 0.019962,
     "end_time": "2023-07-26T12:51:40.611915",
     "exception": false,
     "start_time": "2023-07-26T12:51:40.591953",
     "status": "completed"
    },
    "tags": []
   },
   "outputs": [],
   "source": [
    "ensemble = {}\n",
    "#imputer_params = {'strategy':'median', 'missing_values': pd.NA}\n",
    "imputer_params = {'n_neighbors': 2, 'weights': \"uniform\", 'missing_values': np.nan, 'copy': False}"
   ]
  },
  {
   "cell_type": "code",
   "execution_count": 8,
   "id": "5d59c046",
   "metadata": {
    "execution": {
     "iopub.execute_input": "2023-07-26T12:51:40.633639Z",
     "iopub.status.busy": "2023-07-26T12:51:40.632847Z",
     "iopub.status.idle": "2023-07-26T12:51:40.637296Z",
     "shell.execute_reply": "2023-07-26T12:51:40.636507Z"
    },
    "papermill": {
     "duration": 0.017824,
     "end_time": "2023-07-26T12:51:40.639776",
     "exception": false,
     "start_time": "2023-07-26T12:51:40.621952",
     "status": "completed"
    },
    "tags": []
   },
   "outputs": [],
   "source": [
    "# upsampling and cleaning\n",
    "#clf = KNNImputer(**imputer_params).fit_transform(df_ready_x, df_ready_y)\n",
    "\n",
    "#clf_smote = ADASYN()\n",
    "#print(f'Raw data: ratio is {imbalance_ratio:.4f} with {df_ready_x.shape}')\n",
    "#print(df_ready_y.value_counts())\n",
    "#x_resampled, y_resampled = clf_smote.fit_resample(df_ready_x, df_ready_y)\n",
    "\n",
    "#resampled_ratio = (y_resampled == 0).sum() / (y_resampled == 1).sum() \n",
    "#print(f'After ADASYN: ratio is {resampled_ratio:.4f} with {x_resampled.shape}.')\n",
    "#print(y_resampled.value_counts())"
   ]
  },
  {
   "cell_type": "code",
   "execution_count": 9,
   "id": "63c155ce",
   "metadata": {
    "execution": {
     "iopub.execute_input": "2023-07-26T12:51:40.660283Z",
     "iopub.status.busy": "2023-07-26T12:51:40.659554Z",
     "iopub.status.idle": "2023-07-26T12:51:41.114269Z",
     "shell.execute_reply": "2023-07-26T12:51:41.113334Z"
    },
    "papermill": {
     "duration": 0.46811,
     "end_time": "2023-07-26T12:51:41.117001",
     "exception": false,
     "start_time": "2023-07-26T12:51:40.648891",
     "status": "completed"
    },
    "tags": []
   },
   "outputs": [],
   "source": [
    "#imbalance_ratio = (df_ready_y == 0).sum() / (df_ready_y == 1).sum() # maj /  min classes\n",
    "#parameters = {'learning_rate': 0.09, 'max_depth': 2, 'n_estimators': 65, 'scale_pos_weight': imbalance_ratio}\n",
    "\n",
    "smote_params = {'n_neighbors': 18, 'sampling_strategy': 0.5}\n",
    "parameters = {'learning_rate': 0.05, 'max_depth': 11, 'n_estimators': 140}\n",
    "imputer_params = {'n_neighbors': 8, 'weights': 'uniform','missing_values': np.nan, 'copy': False}\n",
    "\n",
    "clf = imbpipeline(steps=[(\"a\", KNNImputer(**imputer_params)), (\"b\", RobustScaler()), (\"c\", ADASYN(**smote_params)), (\"d\", XGBClassifier(**parameters))])\n",
    "\n",
    "clf.fit(df_ready_x, df_ready_y)\n",
    "#compute_scores(clf, cv, df_ready_x, df_ready_y, 'XGB')\n",
    "ensemble['XGB'] = clf"
   ]
  },
  {
   "cell_type": "code",
   "execution_count": 10,
   "id": "dbef0a3b",
   "metadata": {
    "execution": {
     "iopub.execute_input": "2023-07-26T12:51:41.139553Z",
     "iopub.status.busy": "2023-07-26T12:51:41.139117Z",
     "iopub.status.idle": "2023-07-26T12:51:45.422092Z",
     "shell.execute_reply": "2023-07-26T12:51:45.420771Z"
    },
    "papermill": {
     "duration": 4.297658,
     "end_time": "2023-07-26T12:51:45.425258",
     "exception": false,
     "start_time": "2023-07-26T12:51:41.127600",
     "status": "completed"
    },
    "tags": []
   },
   "outputs": [],
   "source": [
    "#parameters = {'auto_class_weights': 'Balanced', 'iterations': 100, 'learning_rate': 0.1, 'max_depth': 7, 'verbose': 0}\n",
    "#smote_params = {'n_neighbors': 18, 'sampling_strategy': 0.5}\n",
    "smote_params = {'n_neighbors': 8, 'sampling_strategy': 0.6}\n",
    "parameters = {'verbose': 0, 'max_depth': 9, 'learning_rate': 0.1, 'iterations': 200}\n",
    "\n",
    "clf = imbpipeline(steps=[(\"a\", KNNImputer(**imputer_params)), (\"b\", RobustScaler()), (\"c\", ADASYN(**smote_params)), (\"d\", CatBoostClassifier(**parameters))])\n",
    "\n",
    "clf.fit(df_ready_x, df_ready_y)\n",
    "#compute_scores(clf, cv, df_ready_x, df_ready_y, 'CatB')\n",
    "ensemble['CatB'] = clf"
   ]
  },
  {
   "cell_type": "code",
   "execution_count": 11,
   "id": "fcddd6e6",
   "metadata": {
    "execution": {
     "iopub.execute_input": "2023-07-26T12:51:45.446703Z",
     "iopub.status.busy": "2023-07-26T12:51:45.445315Z",
     "iopub.status.idle": "2023-07-26T12:51:46.170939Z",
     "shell.execute_reply": "2023-07-26T12:51:46.169614Z"
    },
    "papermill": {
     "duration": 0.739929,
     "end_time": "2023-07-26T12:51:46.174629",
     "exception": false,
     "start_time": "2023-07-26T12:51:45.434700",
     "status": "completed"
    },
    "tags": []
   },
   "outputs": [],
   "source": [
    "parameters = {'alpha': 2, 'hidden_layer_sizes': 5, 'max_iter': 800}\n",
    "smote_params = {'n_neighbors': 18, 'sampling_strategy': 0.5}\n",
    "\n",
    "clf = imbpipeline(steps=[(\"a\", KNNImputer(**imputer_params)), (\"b\", RobustScaler()), (\"c\", ADASYN(**smote_params)), (\"d\", MLPClassifier(**parameters))])\n",
    "#clf = make_pipeline(KNNImputer(**imputer_params), RobustScaler(), MLPClassifier(**parameters))\n",
    "\n",
    "clf.fit(df_ready_x, df_ready_y)\n",
    "#compute_scores(clf, cv, df_ready_x, df_ready_y, 'MLP')\n",
    "ensemble['MLP'] = clf"
   ]
  },
  {
   "cell_type": "code",
   "execution_count": 12,
   "id": "83d7d57a",
   "metadata": {
    "execution": {
     "iopub.execute_input": "2023-07-26T12:51:46.195374Z",
     "iopub.status.busy": "2023-07-26T12:51:46.194958Z",
     "iopub.status.idle": "2023-07-26T12:51:46.201734Z",
     "shell.execute_reply": "2023-07-26T12:51:46.200600Z"
    },
    "papermill": {
     "duration": 0.020104,
     "end_time": "2023-07-26T12:51:46.204341",
     "exception": false,
     "start_time": "2023-07-26T12:51:46.184237",
     "status": "completed"
    },
    "tags": []
   },
   "outputs": [],
   "source": [
    "#scores"
   ]
  },
  {
   "cell_type": "code",
   "execution_count": 13,
   "id": "fa6a568c",
   "metadata": {
    "execution": {
     "iopub.execute_input": "2023-07-26T12:51:46.224493Z",
     "iopub.status.busy": "2023-07-26T12:51:46.224064Z",
     "iopub.status.idle": "2023-07-26T12:51:46.257644Z",
     "shell.execute_reply": "2023-07-26T12:51:46.256491Z"
    },
    "papermill": {
     "duration": 0.046717,
     "end_time": "2023-07-26T12:51:46.260298",
     "exception": false,
     "start_time": "2023-07-26T12:51:46.213581",
     "status": "completed"
    },
    "tags": []
   },
   "outputs": [
    {
     "data": {
      "text/plain": [
       "[('XGB',\n",
       "  Pipeline(steps=[('a', KNNImputer(copy=False, n_neighbors=8)),\n",
       "                  ('b', RobustScaler()),\n",
       "                  ('c', ADASYN(n_neighbors=18, sampling_strategy=0.5)),\n",
       "                  ('d',\n",
       "                   XGBClassifier(base_score=None, booster=None, callbacks=None,\n",
       "                                 colsample_bylevel=None, colsample_bynode=None,\n",
       "                                 colsample_bytree=None,\n",
       "                                 early_stopping_rounds=None,\n",
       "                                 enable_categorical=False, eval_metric=None,\n",
       "                                 feature_types=None, g...one,\n",
       "                                 grow_policy=None, importance_type=None,\n",
       "                                 interaction_constraints=None, learning_rate=0.05,\n",
       "                                 max_bin=None, max_cat_threshold=None,\n",
       "                                 max_cat_to_onehot=None, max_delta_step=None,\n",
       "                                 max_depth=11, max_leaves=None,\n",
       "                                 min_child_weight=None, missing=nan,\n",
       "                                 monotone_constraints=None, n_estimators=140,\n",
       "                                 n_jobs=None, num_parallel_tree=None,\n",
       "                                 predictor=None, random_state=None, ...))])),\n",
       " ('CatB',\n",
       "  Pipeline(steps=[('a', KNNImputer(copy=False, n_neighbors=8)),\n",
       "                  ('b', RobustScaler()),\n",
       "                  ('c', ADASYN(n_neighbors=8, sampling_strategy=0.6)),\n",
       "                  ('d',\n",
       "                   <catboost.core.CatBoostClassifier object at 0x7be42d151b40>)])),\n",
       " ('MLP',\n",
       "  Pipeline(steps=[('a', KNNImputer(copy=False, n_neighbors=8)),\n",
       "                  ('b', RobustScaler()),\n",
       "                  ('c', ADASYN(n_neighbors=18, sampling_strategy=0.5)),\n",
       "                  ('d',\n",
       "                   MLPClassifier(alpha=2, hidden_layer_sizes=5, max_iter=800))]))]"
      ]
     },
     "execution_count": 13,
     "metadata": {},
     "output_type": "execute_result"
    }
   ],
   "source": [
    "estimators = [(k, v) for k, v in ensemble.items()]\n",
    "estimators"
   ]
  },
  {
   "cell_type": "code",
   "execution_count": 14,
   "id": "ec2e67b1",
   "metadata": {
    "execution": {
     "iopub.execute_input": "2023-07-26T12:51:46.281784Z",
     "iopub.status.busy": "2023-07-26T12:51:46.281330Z",
     "iopub.status.idle": "2023-07-26T12:51:46.286584Z",
     "shell.execute_reply": "2023-07-26T12:51:46.285454Z"
    },
    "papermill": {
     "duration": 0.018728,
     "end_time": "2023-07-26T12:51:46.289090",
     "exception": false,
     "start_time": "2023-07-26T12:51:46.270362",
     "status": "completed"
    },
    "tags": []
   },
   "outputs": [],
   "source": [
    "## try with stacking\n",
    "\n",
    "#stacker = StackingClassifier(estimators, stack_method='predict_proba', cv=StratifiedKFold(n_splits=5), final_estimator=LogisticRegression(class_weight='balanced'))\n",
    "#stacker.fit(df_ready_x, df_ready_y)\n",
    "#compute_scores(stacker, cv, df_ready_x, df_ready_y, 'Stacking')                                                "
   ]
  },
  {
   "cell_type": "markdown",
   "id": "6891b2b2",
   "metadata": {
    "papermill": {
     "duration": 0.009048,
     "end_time": "2023-07-26T12:51:46.307654",
     "exception": false,
     "start_time": "2023-07-26T12:51:46.298606",
     "status": "completed"
    },
    "tags": []
   },
   "source": [
    "With all ensemble stacking => 0.276120 largely overfitting\n",
    "* ['RF', 'accuracy', 0.907601188915115],\n",
    "* ['RF', 'neg_log_loss', -0.2667133453792237],\n",
    "* ['RF', make_scorer(balance_loglossv2, needs_proba=True), 0.4991141391198179],\n",
    "* ['XGB', 'accuracy', 0.9032957426348456],\n",
    "* ['XGB', 'neg_log_loss', -0.261652610888779],\n",
    "* ['XGB', make_scorer(balance_loglossv2, needs_proba=True), 0.3296584422965175],\n",
    "* ['CatB', 'accuracy', 0.9275941952967917],\n",
    "* ['CatB', 'neg_log_loss', -0.1858073385100156],\n",
    "* ['CatB', make_scorer(balance_loglossv2, needs_proba=True), 0.33843747450124706],\n",
    "* ['MLP', 'accuracy', 0.9044059795436663],\n",
    "* ['MLP', 'neg_log_loss', -0.3032586188188822],\n",
    "* ['MLP', make_scorer(balance_loglossv2, needs_proba=True), 0.6351087131152136],\n",
    "* ['Stacking', 'accuracy', 0.9140965119328611],\n",
    "* ['Stacking', 'neg_log_loss', -0.27113339775863726],\n",
    "* ['Stacking', make_scorer(balance_loglossv2, needs_proba=True), 0.27612014609236973]]"
   ]
  },
  {
   "cell_type": "markdown",
   "id": "6e5a3e1c",
   "metadata": {
    "papermill": {
     "duration": 0.008915,
     "end_time": "2023-07-26T12:51:46.326251",
     "exception": false,
     "start_time": "2023-07-26T12:51:46.317336",
     "status": "completed"
    },
    "tags": []
   },
   "source": [
    "XGB, CatB and MLP stacking => 0.2842077 largely overfitting\n",
    "* ['XGB', 'accuracy', 0.9065390331322667],\n",
    "* ['XGB', 'neg_log_loss', -0.2694250966625059],\n",
    "* ['XGB', make_scorer(balance_loglossv2, needs_proba=True), 0.33095943225544733],\n",
    "* ['CatB', 'accuracy', 0.9270390768423813],\n",
    "* ['CatB', 'neg_log_loss', -0.18895375315789595],\n",
    "* ['CatB', make_scorer(balance_loglossv2, needs_proba=True), 0.32433161130442684],\n",
    "* ['MLP', 'accuracy', 0.9076186729609231],\n",
    "* ['MLP', 'neg_log_loss', -0.26615718540054334],\n",
    "* ['MLP', make_scorer(balance_loglossv2, needs_proba=True), 0.571068775679251],\n",
    "* ['Stacking', 'accuracy', 0.9157137861701198],\n",
    "* ['Stacking', 'neg_log_loss', -0.27339630727668607],\n",
    "* ['Stacking', make_scorer(balance_loglossv2, needs_proba=True), 0.28420778284662507]]"
   ]
  },
  {
   "cell_type": "markdown",
   "id": "9a9e3ac8",
   "metadata": {
    "papermill": {
     "duration": 0.008942,
     "end_time": "2023-07-26T12:51:46.344945",
     "exception": false,
     "start_time": "2023-07-26T12:51:46.336003",
     "status": "completed"
    },
    "tags": []
   },
   "source": [
    "XGB, CatB and MLP stacking + median imputer => 0.2775539 largely overfitting\n",
    "* ['XGB', 'accuracy', 0.9070766675408689],\n",
    "* ['XGB', 'neg_log_loss', -0.27578745834853036],\n",
    "* ['XGB', make_scorer(balance_loglossv2, needs_proba=True), 0.33812925985610964],\n",
    "* ['CatB', 'accuracy', 0.9367995454148089],\n",
    "* ['CatB', 'neg_log_loss', -0.19564630341230985],\n",
    "* ['CatB', make_scorer(balance_loglossv2, needs_proba=True), 0.3419744543909858],\n",
    "* ['MLP', 'accuracy', 0.9043884954978582],\n",
    "* ['MLP', 'neg_log_loss', -0.302471357758935],\n",
    "* ['MLP', make_scorer(balance_loglossv2, needs_proba=True), 0.6099516179380783],\n",
    "* ['Stacking', 'accuracy', 0.9178643238045284],\n",
    "* ['Stacking', 'neg_log_loss', -0.2732104797654024],\n",
    "* ['Stacking', make_scorer(balance_loglossv2, needs_proba=True), 0.2775539457629785]]"
   ]
  },
  {
   "cell_type": "markdown",
   "id": "c7bd6a2e",
   "metadata": {
    "papermill": {
     "duration": 0.008796,
     "end_time": "2023-07-26T12:51:46.363092",
     "exception": false,
     "start_time": "2023-07-26T12:51:46.354296",
     "status": "completed"
    },
    "tags": []
   },
   "source": [
    "XGB, CatB and MLP stacking + knn imputer => 0.283525 largely overfitting\n",
    "* ['XGB', 'accuracy', 0.907614301949471],\n",
    "* ['XGB', 'neg_log_loss', -0.2734284490401531],\n",
    "* ['XGB', make_scorer(balance_loglossv2, needs_proba=True), 0.33533867402966666],\n",
    "* ['CatB', 'accuracy', 0.9319433516915814],\n",
    "* ['CatB', 'neg_log_loss', -0.18600481218275972],\n",
    "* ['CatB', make_scorer(balance_loglossv2, needs_proba=True), 0.3522857255339534],\n",
    "* ['MLP', 'accuracy', 0.9065390331322669],\n",
    "* ['MLP', 'neg_log_loss', -0.2873080264105889],\n",
    "* ['MLP', make_scorer(balance_loglossv2, needs_proba=True), 0.5035410498876508],\n",
    "* ['Stacking', 'accuracy', 0.9167715709415157],\n",
    "* ['Stacking', 'neg_log_loss', -0.2763960346923296],\n",
    "* ['Stacking', make_scorer(balance_loglossv2, needs_proba=True), 0.2835253646985966]]\n",
    "\n",
    "TabPFN, XGB averaging + knn imputer, RobustScaler, Boruta => ??\n",
    "* ['TabPFN', 'accuracy', 0.9319695777602938],\n",
    "* ['TabPFN', 'neg_log_loss', -0.1952366313150684],\n",
    "* ['TabPFN', make_scorer(balance_loglossv2, needs_proba=True), 0.40145512164254554],\n",
    "* ['XGB', 'accuracy', 0.9141358510359296],\n",
    "* ['XGB', 'neg_log_loss', -0.2636786792332117],\n",
    "* ['XGB', make_scorer(balance_loglossv2, needs_proba=True), 0.31515798371908404]]"
   ]
  },
  {
   "cell_type": "code",
   "execution_count": 15,
   "id": "082e530a",
   "metadata": {
    "execution": {
     "iopub.execute_input": "2023-07-26T12:51:46.384204Z",
     "iopub.status.busy": "2023-07-26T12:51:46.383772Z",
     "iopub.status.idle": "2023-07-26T12:51:46.388771Z",
     "shell.execute_reply": "2023-07-26T12:51:46.387562Z"
    },
    "papermill": {
     "duration": 0.018566,
     "end_time": "2023-07-26T12:51:46.391371",
     "exception": false,
     "start_time": "2023-07-26T12:51:46.372805",
     "status": "completed"
    },
    "tags": []
   },
   "outputs": [],
   "source": [
    "#from sklearn.ensemble import VotingClassifier\n",
    "#\n",
    "#voter = VotingClassifier(estimators, weights = weights, voting = 'soft')\n",
    "#voter.fit(df_ready_x, df_ready_y)\n",
    "#compute_scores(voter, cv, df_ready_x, df_ready_y, 'Voting')"
   ]
  },
  {
   "cell_type": "markdown",
   "id": "426083ef",
   "metadata": {
    "papermill": {
     "duration": 0.00901,
     "end_time": "2023-07-26T12:51:46.410118",
     "exception": false,
     "start_time": "2023-07-26T12:51:46.401108",
     "status": "completed"
    },
    "tags": []
   },
   "source": [
    "* Voting is not overfitting but not delivering any benefits either\n",
    "* Stacking is much better on training set but not better on test: largely overfitting \n",
    "* Averaging is even better"
   ]
  },
  {
   "cell_type": "code",
   "execution_count": 16,
   "id": "ac0dd726",
   "metadata": {
    "execution": {
     "iopub.execute_input": "2023-07-26T12:51:46.431220Z",
     "iopub.status.busy": "2023-07-26T12:51:46.430793Z",
     "iopub.status.idle": "2023-07-26T12:51:46.435920Z",
     "shell.execute_reply": "2023-07-26T12:51:46.434869Z"
    },
    "papermill": {
     "duration": 0.018234,
     "end_time": "2023-07-26T12:51:46.438294",
     "exception": false,
     "start_time": "2023-07-26T12:51:46.420060",
     "status": "completed"
    },
    "tags": []
   },
   "outputs": [],
   "source": [
    "#df_scores = pd.DataFrame(scores, columns=['model', 'metric', 'score'])\n",
    "#df_scores[(df_scores['metric'] != 'neg_log_loss') & (df_scores['metric'] != 'accuracy')]"
   ]
  },
  {
   "cell_type": "code",
   "execution_count": 17,
   "id": "7c2d3565",
   "metadata": {
    "execution": {
     "iopub.execute_input": "2023-07-26T12:51:46.460008Z",
     "iopub.status.busy": "2023-07-26T12:51:46.459261Z",
     "iopub.status.idle": "2023-07-26T12:51:46.523197Z",
     "shell.execute_reply": "2023-07-26T12:51:46.522188Z"
    },
    "papermill": {
     "duration": 0.077485,
     "end_time": "2023-07-26T12:51:46.525558",
     "exception": false,
     "start_time": "2023-07-26T12:51:46.448073",
     "status": "completed"
    },
    "tags": []
   },
   "outputs": [
    {
     "data": {
      "text/html": [
       "<div>\n",
       "<style scoped>\n",
       "    .dataframe tbody tr th:only-of-type {\n",
       "        vertical-align: middle;\n",
       "    }\n",
       "\n",
       "    .dataframe tbody tr th {\n",
       "        vertical-align: top;\n",
       "    }\n",
       "\n",
       "    .dataframe thead th {\n",
       "        text-align: right;\n",
       "    }\n",
       "</style>\n",
       "<table border=\"1\" class=\"dataframe\">\n",
       "  <thead>\n",
       "    <tr style=\"text-align: right;\">\n",
       "      <th></th>\n",
       "      <th>XGB_0</th>\n",
       "      <th>XGB_1</th>\n",
       "      <th>CatB_0</th>\n",
       "      <th>CatB_1</th>\n",
       "      <th>MLP_0</th>\n",
       "      <th>MLP_1</th>\n",
       "      <th>0</th>\n",
       "      <th>1</th>\n",
       "    </tr>\n",
       "  </thead>\n",
       "  <tbody>\n",
       "    <tr>\n",
       "      <th>0</th>\n",
       "      <td>0.885691</td>\n",
       "      <td>0.114309</td>\n",
       "      <td>0.964992</td>\n",
       "      <td>0.035008</td>\n",
       "      <td>0.105818</td>\n",
       "      <td>0.894182</td>\n",
       "      <td>0.652167</td>\n",
       "      <td>0.347833</td>\n",
       "    </tr>\n",
       "    <tr>\n",
       "      <th>1</th>\n",
       "      <td>0.885691</td>\n",
       "      <td>0.114309</td>\n",
       "      <td>0.964992</td>\n",
       "      <td>0.035008</td>\n",
       "      <td>0.105818</td>\n",
       "      <td>0.894182</td>\n",
       "      <td>0.652167</td>\n",
       "      <td>0.347833</td>\n",
       "    </tr>\n",
       "    <tr>\n",
       "      <th>2</th>\n",
       "      <td>0.885691</td>\n",
       "      <td>0.114309</td>\n",
       "      <td>0.964992</td>\n",
       "      <td>0.035008</td>\n",
       "      <td>0.105818</td>\n",
       "      <td>0.894182</td>\n",
       "      <td>0.652167</td>\n",
       "      <td>0.347833</td>\n",
       "    </tr>\n",
       "    <tr>\n",
       "      <th>3</th>\n",
       "      <td>0.885691</td>\n",
       "      <td>0.114309</td>\n",
       "      <td>0.964992</td>\n",
       "      <td>0.035008</td>\n",
       "      <td>0.105818</td>\n",
       "      <td>0.894182</td>\n",
       "      <td>0.652167</td>\n",
       "      <td>0.347833</td>\n",
       "    </tr>\n",
       "    <tr>\n",
       "      <th>4</th>\n",
       "      <td>0.885691</td>\n",
       "      <td>0.114309</td>\n",
       "      <td>0.964992</td>\n",
       "      <td>0.035008</td>\n",
       "      <td>0.105818</td>\n",
       "      <td>0.894182</td>\n",
       "      <td>0.652167</td>\n",
       "      <td>0.347833</td>\n",
       "    </tr>\n",
       "  </tbody>\n",
       "</table>\n",
       "</div>"
      ],
      "text/plain": [
       "      XGB_0     XGB_1    CatB_0    CatB_1     MLP_0     MLP_1         0  \\\n",
       "0  0.885691  0.114309  0.964992  0.035008  0.105818  0.894182  0.652167   \n",
       "1  0.885691  0.114309  0.964992  0.035008  0.105818  0.894182  0.652167   \n",
       "2  0.885691  0.114309  0.964992  0.035008  0.105818  0.894182  0.652167   \n",
       "3  0.885691  0.114309  0.964992  0.035008  0.105818  0.894182  0.652167   \n",
       "4  0.885691  0.114309  0.964992  0.035008  0.105818  0.894182  0.652167   \n",
       "\n",
       "          1  \n",
       "0  0.347833  \n",
       "1  0.347833  \n",
       "2  0.347833  \n",
       "3  0.347833  \n",
       "4  0.347833  "
      ]
     },
     "execution_count": 17,
     "metadata": {},
     "output_type": "execute_result"
    }
   ],
   "source": [
    "df_test_file = pd.read_csv(input_path + 'test.csv')\n",
    "df_test_x, df_test_y = prepare_initial(df_test_file)\n",
    "df_test_preds = None\n",
    "for k, v in estimators:\n",
    "    preds = pd.DataFrame(v.predict_proba(df_test_x), columns=[k + '_0', k + '_1'])\n",
    "    #preds.renamecolumns([k + '_0', k + '_1'])\n",
    "    df_test_preds = pd.concat([df_test_preds, preds], axis=1)\n",
    "#df_test_preds = pd.DataFrame(stacker.predict_proba(df_test_x))\n",
    "df_test_preds['0'] = (df_test_preds['XGB_0'] + df_test_preds['CatB_0'] + df_test_preds['MLP_0']) / 3\n",
    "df_test_preds['1'] = (df_test_preds['XGB_1'] + df_test_preds['CatB_1'] + df_test_preds['MLP_1']) / 3\n",
    "df_test_preds"
   ]
  },
  {
   "cell_type": "code",
   "execution_count": 18,
   "id": "8124f489",
   "metadata": {
    "execution": {
     "iopub.execute_input": "2023-07-26T12:51:46.547294Z",
     "iopub.status.busy": "2023-07-26T12:51:46.546341Z",
     "iopub.status.idle": "2023-07-26T12:51:46.563602Z",
     "shell.execute_reply": "2023-07-26T12:51:46.562482Z"
    },
    "papermill": {
     "duration": 0.031041,
     "end_time": "2023-07-26T12:51:46.566351",
     "exception": false,
     "start_time": "2023-07-26T12:51:46.535310",
     "status": "completed"
    },
    "tags": []
   },
   "outputs": [
    {
     "data": {
      "text/html": [
       "<div>\n",
       "<style scoped>\n",
       "    .dataframe tbody tr th:only-of-type {\n",
       "        vertical-align: middle;\n",
       "    }\n",
       "\n",
       "    .dataframe tbody tr th {\n",
       "        vertical-align: top;\n",
       "    }\n",
       "\n",
       "    .dataframe thead th {\n",
       "        text-align: right;\n",
       "    }\n",
       "</style>\n",
       "<table border=\"1\" class=\"dataframe\">\n",
       "  <thead>\n",
       "    <tr style=\"text-align: right;\">\n",
       "      <th></th>\n",
       "      <th>Id</th>\n",
       "      <th>0</th>\n",
       "      <th>1</th>\n",
       "    </tr>\n",
       "  </thead>\n",
       "  <tbody>\n",
       "    <tr>\n",
       "      <th>0</th>\n",
       "      <td>00eed32682bb</td>\n",
       "      <td>0.652167</td>\n",
       "      <td>0.347833</td>\n",
       "    </tr>\n",
       "    <tr>\n",
       "      <th>1</th>\n",
       "      <td>010ebe33f668</td>\n",
       "      <td>0.652167</td>\n",
       "      <td>0.347833</td>\n",
       "    </tr>\n",
       "    <tr>\n",
       "      <th>2</th>\n",
       "      <td>02fa521e1838</td>\n",
       "      <td>0.652167</td>\n",
       "      <td>0.347833</td>\n",
       "    </tr>\n",
       "    <tr>\n",
       "      <th>3</th>\n",
       "      <td>040e15f562a2</td>\n",
       "      <td>0.652167</td>\n",
       "      <td>0.347833</td>\n",
       "    </tr>\n",
       "    <tr>\n",
       "      <th>4</th>\n",
       "      <td>046e85c7cc7f</td>\n",
       "      <td>0.652167</td>\n",
       "      <td>0.347833</td>\n",
       "    </tr>\n",
       "  </tbody>\n",
       "</table>\n",
       "</div>"
      ],
      "text/plain": [
       "             Id         0         1\n",
       "0  00eed32682bb  0.652167  0.347833\n",
       "1  010ebe33f668  0.652167  0.347833\n",
       "2  02fa521e1838  0.652167  0.347833\n",
       "3  040e15f562a2  0.652167  0.347833\n",
       "4  046e85c7cc7f  0.652167  0.347833"
      ]
     },
     "execution_count": 18,
     "metadata": {},
     "output_type": "execute_result"
    }
   ],
   "source": [
    "df_test_y = pd.concat([df_test_file['Id'], df_test_preds[['0', '1']]], axis=1)\n",
    "df_test_y"
   ]
  },
  {
   "cell_type": "code",
   "execution_count": 19,
   "id": "9b45276f",
   "metadata": {
    "execution": {
     "iopub.execute_input": "2023-07-26T12:51:46.588234Z",
     "iopub.status.busy": "2023-07-26T12:51:46.587839Z",
     "iopub.status.idle": "2023-07-26T12:51:46.600788Z",
     "shell.execute_reply": "2023-07-26T12:51:46.599290Z"
    },
    "papermill": {
     "duration": 0.027227,
     "end_time": "2023-07-26T12:51:46.603860",
     "exception": false,
     "start_time": "2023-07-26T12:51:46.576633",
     "status": "completed"
    },
    "tags": []
   },
   "outputs": [],
   "source": [
    "df_test_y.to_csv('/kaggle/working/submission.csv', header=['Id', 'class_0', 'class_1'], index=False)"
   ]
  },
  {
   "cell_type": "code",
   "execution_count": 20,
   "id": "c0a0b733",
   "metadata": {
    "execution": {
     "iopub.execute_input": "2023-07-26T12:51:46.626189Z",
     "iopub.status.busy": "2023-07-26T12:51:46.625796Z",
     "iopub.status.idle": "2023-07-26T12:51:46.640145Z",
     "shell.execute_reply": "2023-07-26T12:51:46.638960Z"
    },
    "papermill": {
     "duration": 0.028745,
     "end_time": "2023-07-26T12:51:46.642797",
     "exception": false,
     "start_time": "2023-07-26T12:51:46.614052",
     "status": "completed"
    },
    "tags": []
   },
   "outputs": [
    {
     "data": {
      "text/html": [
       "<div>\n",
       "<style scoped>\n",
       "    .dataframe tbody tr th:only-of-type {\n",
       "        vertical-align: middle;\n",
       "    }\n",
       "\n",
       "    .dataframe tbody tr th {\n",
       "        vertical-align: top;\n",
       "    }\n",
       "\n",
       "    .dataframe thead th {\n",
       "        text-align: right;\n",
       "    }\n",
       "</style>\n",
       "<table border=\"1\" class=\"dataframe\">\n",
       "  <thead>\n",
       "    <tr style=\"text-align: right;\">\n",
       "      <th></th>\n",
       "      <th>Id</th>\n",
       "      <th>0</th>\n",
       "      <th>1</th>\n",
       "    </tr>\n",
       "  </thead>\n",
       "  <tbody>\n",
       "    <tr>\n",
       "      <th>0</th>\n",
       "      <td>00eed32682bb</td>\n",
       "      <td>0.652167</td>\n",
       "      <td>0.347833</td>\n",
       "    </tr>\n",
       "    <tr>\n",
       "      <th>1</th>\n",
       "      <td>010ebe33f668</td>\n",
       "      <td>0.652167</td>\n",
       "      <td>0.347833</td>\n",
       "    </tr>\n",
       "    <tr>\n",
       "      <th>2</th>\n",
       "      <td>02fa521e1838</td>\n",
       "      <td>0.652167</td>\n",
       "      <td>0.347833</td>\n",
       "    </tr>\n",
       "    <tr>\n",
       "      <th>3</th>\n",
       "      <td>040e15f562a2</td>\n",
       "      <td>0.652167</td>\n",
       "      <td>0.347833</td>\n",
       "    </tr>\n",
       "    <tr>\n",
       "      <th>4</th>\n",
       "      <td>046e85c7cc7f</td>\n",
       "      <td>0.652167</td>\n",
       "      <td>0.347833</td>\n",
       "    </tr>\n",
       "  </tbody>\n",
       "</table>\n",
       "</div>"
      ],
      "text/plain": [
       "             Id         0         1\n",
       "0  00eed32682bb  0.652167  0.347833\n",
       "1  010ebe33f668  0.652167  0.347833\n",
       "2  02fa521e1838  0.652167  0.347833\n",
       "3  040e15f562a2  0.652167  0.347833\n",
       "4  046e85c7cc7f  0.652167  0.347833"
      ]
     },
     "execution_count": 20,
     "metadata": {},
     "output_type": "execute_result"
    }
   ],
   "source": [
    "df_test_y"
   ]
  },
  {
   "cell_type": "code",
   "execution_count": 21,
   "id": "b8afc200",
   "metadata": {
    "execution": {
     "iopub.execute_input": "2023-07-26T12:51:46.665438Z",
     "iopub.status.busy": "2023-07-26T12:51:46.664241Z",
     "iopub.status.idle": "2023-07-26T12:51:47.777203Z",
     "shell.execute_reply": "2023-07-26T12:51:47.775684Z"
    },
    "papermill": {
     "duration": 1.126953,
     "end_time": "2023-07-26T12:51:47.779979",
     "exception": false,
     "start_time": "2023-07-26T12:51:46.653026",
     "status": "completed"
    },
    "tags": []
   },
   "outputs": [
    {
     "name": "stdout",
     "output_type": "stream",
     "text": [
      "Id,class_0,class_1\r\n",
      "00eed32682bb,0.6521670904701113,0.3478328995957811\r\n",
      "010ebe33f668,0.6521670904701113,0.3478328995957811\r\n",
      "02fa521e1838,0.6521670904701113,0.3478328995957811\r\n",
      "040e15f562a2,0.6521670904701113,0.3478328995957811\r\n",
      "046e85c7cc7f,0.6521670904701112,0.3478328995957812\r\n"
     ]
    }
   ],
   "source": [
    "!head /kaggle/working/submission.csv"
   ]
  },
  {
   "cell_type": "markdown",
   "id": "69e214c9",
   "metadata": {
    "papermill": {
     "duration": 0.009827,
     "end_time": "2023-07-26T12:51:47.799975",
     "exception": false,
     "start_time": "2023-07-26T12:51:47.790148",
     "status": "completed"
    },
    "tags": []
   },
   "source": [
    "## 20230603 version 2 scored **0.46** with a straight GB\n",
    "## 20230610 version 3 scored **0.46** with a straight ensemble RF and boosters\n",
    "## 20230616 version 4 scored **0.42** with a straight ensemble RF, XGB, MLP\n",
    "## 20230617 version 5 scored **0.43** with an ensemble and reduced features\n",
    "## 20230623 version 6 scored **0.29** with an ensemble, RobustSclarer and Boruta features\n",
    "## 20230624 version 7 scored **0.32** with XGB, CatB, RF (no MLP) RobustScaler and Boruta features\n",
    "## 20230626 version 9 scored **0.29** with XGB, CatB, MLP (no RF) RobustScaler and Boruta features\n",
    "## 20230629 version 10 scored **0.26** with XGB, CatB, MLP (no RF) RobustScaler and Boruta features averaging"
   ]
  },
  {
   "cell_type": "markdown",
   "id": "8ca72d49",
   "metadata": {
    "papermill": {
     "duration": 0.009695,
     "end_time": "2023-07-26T12:51:47.819657",
     "exception": false,
     "start_time": "2023-07-26T12:51:47.809962",
     "status": "completed"
    },
    "tags": []
   },
   "source": [
    "\n",
    "TODO: \n",
    "* Add tabpfn \n",
    "* Make data more diverse to avoid correlation inside the ensemble"
   ]
  }
 ],
 "metadata": {
  "kernelspec": {
   "display_name": "Python 3",
   "language": "python",
   "name": "python3"
  },
  "language_info": {
   "codemirror_mode": {
    "name": "ipython",
    "version": 3
   },
   "file_extension": ".py",
   "mimetype": "text/x-python",
   "name": "python",
   "nbconvert_exporter": "python",
   "pygments_lexer": "ipython3",
   "version": "3.10.10"
  },
  "papermill": {
   "default_parameters": {},
   "duration": 26.871299,
   "end_time": "2023-07-26T12:51:49.053813",
   "environment_variables": {},
   "exception": null,
   "input_path": "__notebook__.ipynb",
   "output_path": "__notebook__.ipynb",
   "parameters": {},
   "start_time": "2023-07-26T12:51:22.182514",
   "version": "2.4.0"
  }
 },
 "nbformat": 4,
 "nbformat_minor": 5
}
