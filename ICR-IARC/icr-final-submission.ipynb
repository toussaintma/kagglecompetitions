{
 "cells": [
  {
   "cell_type": "code",
   "execution_count": 1,
   "id": "1081f735",
   "metadata": {
    "_cell_guid": "b1076dfc-b9ad-4769-8c92-a6c4dae69d19",
    "_uuid": "8f2839f25d086af736a60e9eeb907d3b93b6e0e5",
    "execution": {
     "iopub.execute_input": "2023-07-28T14:52:17.318459Z",
     "iopub.status.busy": "2023-07-28T14:52:17.318041Z",
     "iopub.status.idle": "2023-07-28T14:52:19.896939Z",
     "shell.execute_reply": "2023-07-28T14:52:19.896024Z"
    },
    "papermill": {
     "duration": 2.588967,
     "end_time": "2023-07-28T14:52:19.899891",
     "exception": false,
     "start_time": "2023-07-28T14:52:17.310924",
     "status": "completed"
    },
    "tags": []
   },
   "outputs": [
    {
     "name": "stderr",
     "output_type": "stream",
     "text": [
      "/opt/conda/lib/python3.10/site-packages/scipy/__init__.py:146: UserWarning: A NumPy version >=1.16.5 and <1.23.0 is required for this version of SciPy (detected version 1.23.5\n",
      "  warnings.warn(f\"A NumPy version >={np_minversion} and <{np_maxversion}\"\n"
     ]
    }
   ],
   "source": [
    "import numpy as np  \n",
    "import pandas as pd\n",
    "from sklearn.impute import KNNImputer\n",
    "from sklearn.preprocessing import RobustScaler\n",
    "from xgboost import XGBClassifier\n",
    "from catboost import CatBoostClassifier\n",
    "from sklearn.neural_network import MLPClassifier\n",
    "from imblearn.over_sampling import ADASYN\n",
    "from imblearn.pipeline import Pipeline as imbpipeline"
   ]
  },
  {
   "cell_type": "code",
   "execution_count": 2,
   "id": "d8620708",
   "metadata": {
    "execution": {
     "iopub.execute_input": "2023-07-28T14:52:19.912668Z",
     "iopub.status.busy": "2023-07-28T14:52:19.911719Z",
     "iopub.status.idle": "2023-07-28T14:52:19.952330Z",
     "shell.execute_reply": "2023-07-28T14:52:19.951196Z"
    },
    "papermill": {
     "duration": 0.04964,
     "end_time": "2023-07-28T14:52:19.954944",
     "exception": false,
     "start_time": "2023-07-28T14:52:19.905304",
     "status": "completed"
    },
    "tags": []
   },
   "outputs": [],
   "source": [
    "input_path = \"/kaggle/input/icr-identify-age-related-conditions/\"\n",
    "df_train_file = pd.read_csv(input_path + 'train.csv')"
   ]
  },
  {
   "cell_type": "code",
   "execution_count": 3,
   "id": "95f4a48c",
   "metadata": {
    "execution": {
     "iopub.execute_input": "2023-07-28T14:52:19.967854Z",
     "iopub.status.busy": "2023-07-28T14:52:19.967121Z",
     "iopub.status.idle": "2023-07-28T14:52:19.975195Z",
     "shell.execute_reply": "2023-07-28T14:52:19.973963Z"
    },
    "papermill": {
     "duration": 0.0175,
     "end_time": "2023-07-28T14:52:19.977838",
     "exception": false,
     "start_time": "2023-07-28T14:52:19.960338",
     "status": "completed"
    },
    "tags": []
   },
   "outputs": [],
   "source": [
    "def prepare_initial(df):\n",
    "    df.sort_values(by=['Id'], axis=0, ascending=True, inplace=True)\n",
    "    \n",
    "    # training set labels\n",
    "    df_y = None\n",
    "    if 'Class' in df.columns:\n",
    "      df_y = df['Class']\n",
    "    \n",
    "    # training set input\n",
    "    best_columns = ['AB', 'DI', 'DH', 'GL', 'DE', 'DA', 'EB', 'CR', 'EE', 'EH', 'FD ', 'CC', 'DL', 'FE', 'DU', 'AF', 'FI', 'BC', 'FL', \n",
    "                    'FR', 'BR', 'AM']\n",
    "    df_input = df.loc[:, best_columns]\n",
    "    \n",
    "    return df_input, df_y"
   ]
  },
  {
   "cell_type": "code",
   "execution_count": 4,
   "id": "0c5b8937",
   "metadata": {
    "execution": {
     "iopub.execute_input": "2023-07-28T14:52:19.989960Z",
     "iopub.status.busy": "2023-07-28T14:52:19.989548Z",
     "iopub.status.idle": "2023-07-28T14:52:20.009149Z",
     "shell.execute_reply": "2023-07-28T14:52:20.007832Z"
    },
    "papermill": {
     "duration": 0.028968,
     "end_time": "2023-07-28T14:52:20.011954",
     "exception": false,
     "start_time": "2023-07-28T14:52:19.982986",
     "status": "completed"
    },
    "tags": []
   },
   "outputs": [],
   "source": [
    "df_ready_x, df_ready_y = prepare_initial(df_train_file)\n",
    "\n",
    "ensemble = {}"
   ]
  },
  {
   "cell_type": "code",
   "execution_count": 5,
   "id": "52914cc5",
   "metadata": {
    "execution": {
     "iopub.execute_input": "2023-07-28T14:52:20.023953Z",
     "iopub.status.busy": "2023-07-28T14:52:20.023570Z",
     "iopub.status.idle": "2023-07-28T14:52:20.447163Z",
     "shell.execute_reply": "2023-07-28T14:52:20.446175Z"
    },
    "papermill": {
     "duration": 0.432801,
     "end_time": "2023-07-28T14:52:20.449863",
     "exception": false,
     "start_time": "2023-07-28T14:52:20.017062",
     "status": "completed"
    },
    "tags": []
   },
   "outputs": [],
   "source": [
    "smote_params = {'n_neighbors': 18, 'sampling_strategy': 0.5}\n",
    "parameters = {'learning_rate': 0.05, 'max_depth': 11, 'n_estimators': 140}\n",
    "imputer_params = {'n_neighbors': 8, 'weights': 'uniform','missing_values': np.nan, 'copy': False}\n",
    "\n",
    "clf = imbpipeline(steps=[(\"a\", KNNImputer(**imputer_params)), (\"b\", RobustScaler()), (\"c\", ADASYN(**smote_params)), (\"d\", XGBClassifier(**parameters))])\n",
    "\n",
    "clf.fit(df_ready_x, df_ready_y)\n",
    "ensemble['XGB'] = clf"
   ]
  },
  {
   "cell_type": "code",
   "execution_count": 6,
   "id": "cfa45171",
   "metadata": {
    "execution": {
     "iopub.execute_input": "2023-07-28T14:52:20.463364Z",
     "iopub.status.busy": "2023-07-28T14:52:20.462308Z",
     "iopub.status.idle": "2023-07-28T14:52:21.289376Z",
     "shell.execute_reply": "2023-07-28T14:52:21.288039Z"
    },
    "papermill": {
     "duration": 0.836796,
     "end_time": "2023-07-28T14:52:21.292340",
     "exception": false,
     "start_time": "2023-07-28T14:52:20.455544",
     "status": "completed"
    },
    "tags": []
   },
   "outputs": [],
   "source": [
    "parameters = {'auto_class_weights': 'Balanced', 'iterations': 100, 'learning_rate': 0.1, 'max_depth': 7, 'verbose': 0}\n",
    "smote_params = {'n_neighbors': 18, 'sampling_strategy': 0.5}\n",
    "imputer_params = {'n_neighbors': 8, 'weights': 'uniform','missing_values': np.nan, 'copy': False}\n",
    "\n",
    "clf = imbpipeline(steps=[(\"a\", KNNImputer(**imputer_params)), (\"b\", RobustScaler()), (\"c\", ADASYN(**smote_params)), (\"d\", CatBoostClassifier(**parameters))])\n",
    "\n",
    "clf.fit(df_ready_x, df_ready_y)\n",
    "ensemble['CatB'] = clf"
   ]
  },
  {
   "cell_type": "code",
   "execution_count": 7,
   "id": "444655a2",
   "metadata": {
    "execution": {
     "iopub.execute_input": "2023-07-28T14:52:21.306017Z",
     "iopub.status.busy": "2023-07-28T14:52:21.305577Z",
     "iopub.status.idle": "2023-07-28T14:52:22.413951Z",
     "shell.execute_reply": "2023-07-28T14:52:22.412920Z"
    },
    "papermill": {
     "duration": 1.117765,
     "end_time": "2023-07-28T14:52:22.416772",
     "exception": false,
     "start_time": "2023-07-28T14:52:21.299007",
     "status": "completed"
    },
    "tags": []
   },
   "outputs": [],
   "source": [
    "parameters = {'alpha': 2, 'hidden_layer_sizes': 5, 'max_iter': 800}\n",
    "smote_params = {'n_neighbors': 18, 'sampling_strategy': 0.5}\n",
    "imputer_params = {'n_neighbors': 8, 'weights': 'uniform','missing_values': np.nan, 'copy': False}\n",
    "\n",
    "clf = imbpipeline(steps=[(\"a\", KNNImputer(**imputer_params)), (\"b\", RobustScaler()), (\"c\", ADASYN(**smote_params)), (\"d\", MLPClassifier(**parameters))])\n",
    "\n",
    "clf.fit(df_ready_x, df_ready_y)\n",
    "ensemble['MLP'] = clf"
   ]
  },
  {
   "cell_type": "code",
   "execution_count": 8,
   "id": "2f3acf67",
   "metadata": {
    "execution": {
     "iopub.execute_input": "2023-07-28T14:52:22.429941Z",
     "iopub.status.busy": "2023-07-28T14:52:22.429254Z",
     "iopub.status.idle": "2023-07-28T14:52:22.435572Z",
     "shell.execute_reply": "2023-07-28T14:52:22.434308Z"
    },
    "papermill": {
     "duration": 0.01736,
     "end_time": "2023-07-28T14:52:22.439225",
     "exception": false,
     "start_time": "2023-07-28T14:52:22.421865",
     "status": "completed"
    },
    "tags": []
   },
   "outputs": [],
   "source": [
    "estimators = [(k, v) for k, v in ensemble.items()]"
   ]
  },
  {
   "cell_type": "code",
   "execution_count": 9,
   "id": "a4d48ad4",
   "metadata": {
    "execution": {
     "iopub.execute_input": "2023-07-28T14:52:22.454038Z",
     "iopub.status.busy": "2023-07-28T14:52:22.453398Z",
     "iopub.status.idle": "2023-07-28T14:52:22.490655Z",
     "shell.execute_reply": "2023-07-28T14:52:22.489292Z"
    },
    "papermill": {
     "duration": 0.049044,
     "end_time": "2023-07-28T14:52:22.493596",
     "exception": false,
     "start_time": "2023-07-28T14:52:22.444552",
     "status": "completed"
    },
    "tags": []
   },
   "outputs": [],
   "source": [
    "df_test_file = pd.read_csv(input_path + 'test.csv')\n",
    "df_test_x, df_test_y = prepare_initial(df_test_file)\n",
    "df_test_preds = None\n",
    "for k, v in estimators:\n",
    "    preds = pd.DataFrame(v.predict_proba(df_test_x), columns=[k + '_0', k + '_1'])\n",
    "    df_test_preds = pd.concat([df_test_preds, preds], axis=1)\n",
    "\n",
    "df_test_preds['0'] = (df_test_preds['XGB_0'] + df_test_preds['CatB_0'] + df_test_preds['MLP_0']) / 3\n",
    "df_test_preds['1'] = (df_test_preds['XGB_1'] + df_test_preds['CatB_1'] + df_test_preds['MLP_1']) / 3"
   ]
  },
  {
   "cell_type": "code",
   "execution_count": 10,
   "id": "ee96ccf3",
   "metadata": {
    "execution": {
     "iopub.execute_input": "2023-07-28T14:52:22.505826Z",
     "iopub.status.busy": "2023-07-28T14:52:22.505437Z",
     "iopub.status.idle": "2023-07-28T14:52:22.525381Z",
     "shell.execute_reply": "2023-07-28T14:52:22.524207Z"
    },
    "papermill": {
     "duration": 0.029203,
     "end_time": "2023-07-28T14:52:22.528031",
     "exception": false,
     "start_time": "2023-07-28T14:52:22.498828",
     "status": "completed"
    },
    "tags": []
   },
   "outputs": [
    {
     "data": {
      "text/html": [
       "<div>\n",
       "<style scoped>\n",
       "    .dataframe tbody tr th:only-of-type {\n",
       "        vertical-align: middle;\n",
       "    }\n",
       "\n",
       "    .dataframe tbody tr th {\n",
       "        vertical-align: top;\n",
       "    }\n",
       "\n",
       "    .dataframe thead th {\n",
       "        text-align: right;\n",
       "    }\n",
       "</style>\n",
       "<table border=\"1\" class=\"dataframe\">\n",
       "  <thead>\n",
       "    <tr style=\"text-align: right;\">\n",
       "      <th></th>\n",
       "      <th>Id</th>\n",
       "      <th>0</th>\n",
       "      <th>1</th>\n",
       "    </tr>\n",
       "  </thead>\n",
       "  <tbody>\n",
       "    <tr>\n",
       "      <th>0</th>\n",
       "      <td>00eed32682bb</td>\n",
       "      <td>0.660558</td>\n",
       "      <td>0.339442</td>\n",
       "    </tr>\n",
       "    <tr>\n",
       "      <th>1</th>\n",
       "      <td>010ebe33f668</td>\n",
       "      <td>0.660558</td>\n",
       "      <td>0.339442</td>\n",
       "    </tr>\n",
       "    <tr>\n",
       "      <th>2</th>\n",
       "      <td>02fa521e1838</td>\n",
       "      <td>0.660558</td>\n",
       "      <td>0.339442</td>\n",
       "    </tr>\n",
       "    <tr>\n",
       "      <th>3</th>\n",
       "      <td>040e15f562a2</td>\n",
       "      <td>0.660558</td>\n",
       "      <td>0.339442</td>\n",
       "    </tr>\n",
       "    <tr>\n",
       "      <th>4</th>\n",
       "      <td>046e85c7cc7f</td>\n",
       "      <td>0.660558</td>\n",
       "      <td>0.339442</td>\n",
       "    </tr>\n",
       "  </tbody>\n",
       "</table>\n",
       "</div>"
      ],
      "text/plain": [
       "             Id         0         1\n",
       "0  00eed32682bb  0.660558  0.339442\n",
       "1  010ebe33f668  0.660558  0.339442\n",
       "2  02fa521e1838  0.660558  0.339442\n",
       "3  040e15f562a2  0.660558  0.339442\n",
       "4  046e85c7cc7f  0.660558  0.339442"
      ]
     },
     "execution_count": 10,
     "metadata": {},
     "output_type": "execute_result"
    }
   ],
   "source": [
    "df_test_y = pd.concat([df_test_file['Id'], df_test_preds[['0', '1']]], axis=1)\n",
    "df_test_y"
   ]
  },
  {
   "cell_type": "code",
   "execution_count": 11,
   "id": "43266f8f",
   "metadata": {
    "execution": {
     "iopub.execute_input": "2023-07-28T14:52:22.542085Z",
     "iopub.status.busy": "2023-07-28T14:52:22.540571Z",
     "iopub.status.idle": "2023-07-28T14:52:22.551082Z",
     "shell.execute_reply": "2023-07-28T14:52:22.549534Z"
    },
    "papermill": {
     "duration": 0.020133,
     "end_time": "2023-07-28T14:52:22.553972",
     "exception": false,
     "start_time": "2023-07-28T14:52:22.533839",
     "status": "completed"
    },
    "tags": []
   },
   "outputs": [],
   "source": [
    "df_test_y.to_csv('/kaggle/working/submission.csv', header=['Id', 'class_0', 'class_1'], index=False)"
   ]
  },
  {
   "cell_type": "code",
   "execution_count": 12,
   "id": "966c4194",
   "metadata": {
    "execution": {
     "iopub.execute_input": "2023-07-28T14:52:22.566821Z",
     "iopub.status.busy": "2023-07-28T14:52:22.566389Z",
     "iopub.status.idle": "2023-07-28T14:52:23.667896Z",
     "shell.execute_reply": "2023-07-28T14:52:23.666765Z"
    },
    "papermill": {
     "duration": 1.11103,
     "end_time": "2023-07-28T14:52:23.670536",
     "exception": false,
     "start_time": "2023-07-28T14:52:22.559506",
     "status": "completed"
    },
    "tags": []
   },
   "outputs": [
    {
     "name": "stdout",
     "output_type": "stream",
     "text": [
      "Id,class_0,class_1\r\n",
      "00eed32682bb,0.6605581666097762,0.33944182345611634\r\n",
      "010ebe33f668,0.6605581666097762,0.33944182345611634\r\n",
      "02fa521e1838,0.6605581666097762,0.33944182345611634\r\n",
      "040e15f562a2,0.6605581666097762,0.33944182345611634\r\n",
      "046e85c7cc7f,0.6605581666097762,0.33944182345611634\r\n"
     ]
    }
   ],
   "source": [
    "!head /kaggle/working/submission.csv"
   ]
  }
 ],
 "metadata": {
  "kernelspec": {
   "display_name": "Python 3",
   "language": "python",
   "name": "python3"
  },
  "language_info": {
   "codemirror_mode": {
    "name": "ipython",
    "version": 3
   },
   "file_extension": ".py",
   "mimetype": "text/x-python",
   "name": "python",
   "nbconvert_exporter": "python",
   "pygments_lexer": "ipython3",
   "version": "3.10.12"
  },
  "papermill": {
   "default_parameters": {},
   "duration": 19.599774,
   "end_time": "2023-07-28T14:52:24.800836",
   "environment_variables": {},
   "exception": null,
   "input_path": "__notebook__.ipynb",
   "output_path": "__notebook__.ipynb",
   "parameters": {},
   "start_time": "2023-07-28T14:52:05.201062",
   "version": "2.4.0"
  }
 },
 "nbformat": 4,
 "nbformat_minor": 5
}
