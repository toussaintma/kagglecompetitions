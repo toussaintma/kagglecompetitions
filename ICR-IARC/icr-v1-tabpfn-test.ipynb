{
 "cells": [
  {
   "cell_type": "code",
   "execution_count": 1,
   "id": "8b681746",
   "metadata": {
    "_cell_guid": "b1076dfc-b9ad-4769-8c92-a6c4dae69d19",
    "_uuid": "8f2839f25d086af736a60e9eeb907d3b93b6e0e5",
    "execution": {
     "iopub.execute_input": "2023-07-11T12:04:17.347620Z",
     "iopub.status.busy": "2023-07-11T12:04:17.346956Z",
     "iopub.status.idle": "2023-07-11T12:04:32.876127Z",
     "shell.execute_reply": "2023-07-11T12:04:32.874777Z"
    },
    "papermill": {
     "duration": 15.540637,
     "end_time": "2023-07-11T12:04:32.878997",
     "exception": false,
     "start_time": "2023-07-11T12:04:17.338360",
     "status": "completed"
    },
    "tags": []
   },
   "outputs": [
    {
     "name": "stdout",
     "output_type": "stream",
     "text": [
      "Looking in links: file:///kaggle/input/tabpfn\r\n",
      "Processing /kaggle/input/tabpfn/tabpfn-0.1.9-py3-none-any.whl\r\n",
      "Requirement already satisfied: numpy>=1.21.2 in /opt/conda/lib/python3.10/site-packages (from tabpfn) (1.23.5)\r\n",
      "Requirement already satisfied: pyyaml>=5.4.1 in /opt/conda/lib/python3.10/site-packages (from tabpfn) (6.0)\r\n",
      "Requirement already satisfied: requests>=2.23.0 in /opt/conda/lib/python3.10/site-packages (from tabpfn) (2.31.0)\r\n",
      "Requirement already satisfied: scikit-learn>=0.24.2 in /opt/conda/lib/python3.10/site-packages (from tabpfn) (1.2.2)\r\n",
      "Requirement already satisfied: torch>=1.9.0 in /opt/conda/lib/python3.10/site-packages (from tabpfn) (2.0.0+cpu)\r\n",
      "Requirement already satisfied: charset-normalizer<4,>=2 in /opt/conda/lib/python3.10/site-packages (from requests>=2.23.0->tabpfn) (3.1.0)\r\n",
      "Requirement already satisfied: idna<4,>=2.5 in /opt/conda/lib/python3.10/site-packages (from requests>=2.23.0->tabpfn) (3.4)\r\n",
      "Requirement already satisfied: urllib3<3,>=1.21.1 in /opt/conda/lib/python3.10/site-packages (from requests>=2.23.0->tabpfn) (1.26.15)\r\n",
      "Requirement already satisfied: certifi>=2017.4.17 in /opt/conda/lib/python3.10/site-packages (from requests>=2.23.0->tabpfn) (2023.5.7)\r\n",
      "Requirement already satisfied: scipy>=1.3.2 in /opt/conda/lib/python3.10/site-packages (from scikit-learn>=0.24.2->tabpfn) (1.11.1)\r\n",
      "Requirement already satisfied: joblib>=1.1.1 in /opt/conda/lib/python3.10/site-packages (from scikit-learn>=0.24.2->tabpfn) (1.2.0)\r\n",
      "Requirement already satisfied: threadpoolctl>=2.0.0 in /opt/conda/lib/python3.10/site-packages (from scikit-learn>=0.24.2->tabpfn) (3.1.0)\r\n",
      "Requirement already satisfied: filelock in /opt/conda/lib/python3.10/site-packages (from torch>=1.9.0->tabpfn) (3.12.2)\r\n",
      "Requirement already satisfied: typing-extensions in /opt/conda/lib/python3.10/site-packages (from torch>=1.9.0->tabpfn) (4.6.3)\r\n",
      "Requirement already satisfied: sympy in /opt/conda/lib/python3.10/site-packages (from torch>=1.9.0->tabpfn) (1.12)\r\n",
      "Requirement already satisfied: networkx in /opt/conda/lib/python3.10/site-packages (from torch>=1.9.0->tabpfn) (3.1)\r\n",
      "Requirement already satisfied: jinja2 in /opt/conda/lib/python3.10/site-packages (from torch>=1.9.0->tabpfn) (3.1.2)\r\n",
      "Requirement already satisfied: MarkupSafe>=2.0 in /opt/conda/lib/python3.10/site-packages (from jinja2->torch>=1.9.0->tabpfn) (2.1.3)\r\n",
      "Requirement already satisfied: mpmath>=0.19 in /opt/conda/lib/python3.10/site-packages (from sympy->torch>=1.9.0->tabpfn) (1.3.0)\r\n",
      "Installing collected packages: tabpfn\r\n",
      "Successfully installed tabpfn-0.1.9\r\n"
     ]
    }
   ],
   "source": [
    "# offline use of TabPFN see https://www.kaggle.com/datasets/neutrino404/tabpfn\n",
    "# add data source https://www.kaggle.com/datasets/neutrino404/tabpfn\n",
    "!pip install tabpfn --no-index --find-links=file:///kaggle/input/tabpfn"
   ]
  },
  {
   "cell_type": "code",
   "execution_count": 2,
   "id": "347859c9",
   "metadata": {
    "execution": {
     "iopub.execute_input": "2023-07-11T12:04:32.895410Z",
     "iopub.status.busy": "2023-07-11T12:04:32.894974Z",
     "iopub.status.idle": "2023-07-11T12:04:37.204883Z",
     "shell.execute_reply": "2023-07-11T12:04:37.203349Z"
    },
    "papermill": {
     "duration": 4.321825,
     "end_time": "2023-07-11T12:04:37.207919",
     "exception": false,
     "start_time": "2023-07-11T12:04:32.886094",
     "status": "completed"
    },
    "tags": []
   },
   "outputs": [],
   "source": [
    "!mkdir -p /opt/conda/lib/python3.10/site-packages/tabpfn/models_diff\n",
    "!cp /kaggle/input/tabpfn/prior_diff_real_checkpoint_n_0_epoch_100.cpkt /opt/conda/lib/python3.10/site-packages/tabpfn/models_diff/"
   ]
  },
  {
   "cell_type": "markdown",
   "id": "cd3a11e8",
   "metadata": {
    "papermill": {
     "duration": 0.00635,
     "end_time": "2023-07-11T12:04:37.221223",
     "exception": false,
     "start_time": "2023-07-11T12:04:37.214873",
     "status": "completed"
    },
    "tags": []
   },
   "source": []
  },
  {
   "cell_type": "code",
   "execution_count": 3,
   "id": "5062a6e8",
   "metadata": {
    "execution": {
     "iopub.execute_input": "2023-07-11T12:04:37.236709Z",
     "iopub.status.busy": "2023-07-11T12:04:37.236269Z",
     "iopub.status.idle": "2023-07-11T12:04:43.314509Z",
     "shell.execute_reply": "2023-07-11T12:04:43.313535Z"
    },
    "papermill": {
     "duration": 6.0893,
     "end_time": "2023-07-11T12:04:43.317116",
     "exception": false,
     "start_time": "2023-07-11T12:04:37.227816",
     "status": "completed"
    },
    "tags": []
   },
   "outputs": [
    {
     "name": "stderr",
     "output_type": "stream",
     "text": [
      "/opt/conda/lib/python3.10/site-packages/scipy/__init__.py:146: UserWarning: A NumPy version >=1.16.5 and <1.23.0 is required for this version of SciPy (detected version 1.23.5\n",
      "  warnings.warn(f\"A NumPy version >={np_minversion} and <{np_maxversion}\"\n"
     ]
    },
    {
     "name": "stdout",
     "output_type": "stream",
     "text": [
      "/kaggle/input/tabpfn/tabpfn-0.1.9-py3-none-any.whl\n",
      "/kaggle/input/tabpfn/prior_diff_real_checkpoint_n_0_epoch_100.cpkt\n",
      "/kaggle/input/icr-identify-age-related-conditions/sample_submission.csv\n",
      "/kaggle/input/icr-identify-age-related-conditions/greeks.csv\n",
      "/kaggle/input/icr-identify-age-related-conditions/train.csv\n",
      "/kaggle/input/icr-identify-age-related-conditions/test.csv\n"
     ]
    }
   ],
   "source": [
    "import numpy as np # linear algebra \n",
    "import pandas as pd # data processing, CSV file I/O (e.g. pd.read_csv)\n",
    "import os \n",
    "#from matplotlib import pyplot as plt\n",
    "#from sklearn.tree import DecisionTreeClassifier\n",
    "#from sklearn import tree\n",
    "#from sklearn.impute import SimpleImputer\n",
    "#from sklearn.preprocessing import StandardScaler\n",
    "from sklearn.preprocessing import RobustScaler\n",
    "#from sklearn.ensemble import RandomForestClassifier\n",
    "from sklearn.model_selection import cross_val_score\n",
    "from sklearn.model_selection import StratifiedKFold\n",
    "#from sklearn.model_selection import RepeatedStratifiedKFold\n",
    "#from xgboost import XGBClassifier\n",
    "#from lightgbm import LGBMClassifier\n",
    "#from sklearn.ensemble import RandomForestClassifier\n",
    "#from catboost import CatBoostClassifier\n",
    "#from sklearn.model_selection import GridSearchCV\n",
    "#from sklearn.neural_network import MLPClassifier\n",
    "#import seaborn as sns\n",
    "from sklearn.metrics import make_scorer\n",
    "from sklearn.metrics import log_loss\n",
    "from tabpfn import TabPFNClassifier\n",
    "from imblearn.over_sampling import SMOTE\n",
    "from imblearn.pipeline import Pipeline as imbpipeline\n",
    "from sklearn.impute import KNNImputer\n",
    "\n",
    "for dirname, _, filenames in os.walk('/kaggle/input'): \n",
    "    for filename in filenames: \n",
    "        print(os.path.join(dirname, filename))"
   ]
  },
  {
   "cell_type": "code",
   "execution_count": 4,
   "id": "7db7d8c2",
   "metadata": {
    "execution": {
     "iopub.execute_input": "2023-07-11T12:04:43.334224Z",
     "iopub.status.busy": "2023-07-11T12:04:43.333057Z",
     "iopub.status.idle": "2023-07-11T12:04:43.378242Z",
     "shell.execute_reply": "2023-07-11T12:04:43.376979Z"
    },
    "papermill": {
     "duration": 0.056706,
     "end_time": "2023-07-11T12:04:43.380848",
     "exception": false,
     "start_time": "2023-07-11T12:04:43.324142",
     "status": "completed"
    },
    "tags": []
   },
   "outputs": [],
   "source": [
    "input_path = \"/kaggle/input/icr-identify-age-related-conditions/\"\n",
    "df_train_file = pd.read_csv(input_path + 'train.csv')\n",
    "#df_greek_file = pd.read_csv(input_path + 'greeks.csv')"
   ]
  },
  {
   "cell_type": "code",
   "execution_count": 5,
   "id": "6507d12f",
   "metadata": {
    "execution": {
     "iopub.execute_input": "2023-07-11T12:04:43.399231Z",
     "iopub.status.busy": "2023-07-11T12:04:43.398180Z",
     "iopub.status.idle": "2023-07-11T12:04:43.404533Z",
     "shell.execute_reply": "2023-07-11T12:04:43.403701Z"
    },
    "papermill": {
     "duration": 0.0194,
     "end_time": "2023-07-11T12:04:43.407169",
     "exception": false,
     "start_time": "2023-07-11T12:04:43.387769",
     "status": "completed"
    },
    "tags": []
   },
   "outputs": [],
   "source": [
    "# from https://www.kaggle.com/code/datafan07/icr-simple-eda-baseline\n",
    "# see also https://www.kaggle.com/code/dan3dewey/icr-2023-balanced-log-loss/notebook\n",
    "# see also https://www.kaggle.com/competitions/icr-identify-age-related-conditions/discussion/409691\n",
    "\n",
    "def balance_loglossv2(y_true, y_pred):\n",
    "    target_mean = y_true.mean()\n",
    "    w0 = 1/(1-target_mean)\n",
    "    w1 = 1/target_mean\n",
    "    sample_weight = [w0 if y == 0 else w1 for y in y_true]\n",
    "    loss = log_loss(y_true, y_pred, sample_weight=sample_weight)\n",
    "    \n",
    "    return loss"
   ]
  },
  {
   "cell_type": "code",
   "execution_count": 6,
   "id": "af0eee3c",
   "metadata": {
    "execution": {
     "iopub.execute_input": "2023-07-11T12:04:43.423287Z",
     "iopub.status.busy": "2023-07-11T12:04:43.422649Z",
     "iopub.status.idle": "2023-07-11T12:04:43.429802Z",
     "shell.execute_reply": "2023-07-11T12:04:43.428611Z"
    },
    "papermill": {
     "duration": 0.018211,
     "end_time": "2023-07-11T12:04:43.432367",
     "exception": false,
     "start_time": "2023-07-11T12:04:43.414156",
     "status": "completed"
    },
    "tags": []
   },
   "outputs": [],
   "source": [
    "def prepare_initial(df):\n",
    "    df.sort_values(by=['Id'], axis=0, ascending=True, inplace=True)\n",
    "    \n",
    "    # training set labels\n",
    "    df_y = None\n",
    "    if 'Class' in df.columns:\n",
    "      df_y = df['Class']\n",
    "    \n",
    "    # training set input\n",
    "    best_columns = ['AB', 'DI', 'DH', 'GL', 'DE', 'DA', 'EB', 'CR', 'EE', 'EH', 'FD ', 'CC', 'DL', 'FE', 'DU', 'AF', 'FI', 'BC', 'FL', \n",
    "                    'FR', 'BR', 'AM']\n",
    "    df_input = df.loc[:, best_columns]\n",
    "    \n",
    "    return df_input, df_y"
   ]
  },
  {
   "cell_type": "code",
   "execution_count": 7,
   "id": "f7f93dae",
   "metadata": {
    "execution": {
     "iopub.execute_input": "2023-07-11T12:04:43.448558Z",
     "iopub.status.busy": "2023-07-11T12:04:43.447621Z",
     "iopub.status.idle": "2023-07-11T12:04:43.455263Z",
     "shell.execute_reply": "2023-07-11T12:04:43.454304Z"
    },
    "papermill": {
     "duration": 0.018339,
     "end_time": "2023-07-11T12:04:43.457687",
     "exception": false,
     "start_time": "2023-07-11T12:04:43.439348",
     "status": "completed"
    },
    "tags": []
   },
   "outputs": [],
   "source": [
    "cv = StratifiedKFold(n_splits=5)\n",
    "competition_balanced_log_loss = make_scorer(balance_loglossv2, needs_proba=True, greater_is_better=False)\n",
    "scores = []\n",
    "\n",
    "def compute_scores(clf, cv_strat, df_x, df_y, col_name):\n",
    "    for i in ['accuracy', 'neg_log_loss', competition_balanced_log_loss]:\n",
    "        scores.append([col_name, i, cross_val_score(clf, df_x, df_y, cv=cv_strat, scoring=i).mean()])\n",
    "    return scores"
   ]
  },
  {
   "cell_type": "code",
   "execution_count": 8,
   "id": "e332de11",
   "metadata": {
    "execution": {
     "iopub.execute_input": "2023-07-11T12:04:43.473712Z",
     "iopub.status.busy": "2023-07-11T12:04:43.472984Z",
     "iopub.status.idle": "2023-07-11T12:04:43.494793Z",
     "shell.execute_reply": "2023-07-11T12:04:43.493295Z"
    },
    "papermill": {
     "duration": 0.033048,
     "end_time": "2023-07-11T12:04:43.497652",
     "exception": false,
     "start_time": "2023-07-11T12:04:43.464604",
     "status": "completed"
    },
    "tags": []
   },
   "outputs": [],
   "source": [
    "df_ready_x, df_ready_y = prepare_initial(df_train_file)"
   ]
  },
  {
   "cell_type": "markdown",
   "id": "e5b5a66e",
   "metadata": {
    "papermill": {
     "duration": 0.006654,
     "end_time": "2023-07-11T12:04:43.511305",
     "exception": false,
     "start_time": "2023-07-11T12:04:43.504651",
     "status": "completed"
    },
    "tags": []
   },
   "source": [
    "[['TabPFN', 'accuracy', 0.9222659323367427],\n",
    " ['TabPFN', 'neg_log_loss', -0.22899856204625743],\n",
    " ['TabPFN',\n",
    "  make_scorer(balance_loglossv2, greater_is_better=False, needs_proba=True),\n",
    "  -0.500252392413224]]"
   ]
  },
  {
   "cell_type": "code",
   "execution_count": 9,
   "id": "efff416c",
   "metadata": {
    "execution": {
     "iopub.execute_input": "2023-07-11T12:04:43.526706Z",
     "iopub.status.busy": "2023-07-11T12:04:43.526234Z",
     "iopub.status.idle": "2023-07-11T12:12:00.231949Z",
     "shell.execute_reply": "2023-07-11T12:12:00.230558Z"
    },
    "papermill": {
     "duration": 436.726258,
     "end_time": "2023-07-11T12:12:00.244433",
     "exception": false,
     "start_time": "2023-07-11T12:04:43.518175",
     "status": "completed"
    },
    "tags": []
   },
   "outputs": [
    {
     "name": "stdout",
     "output_type": "stream",
     "text": [
      "Loading model that can be used for inference only\n",
      "Using a Transformer with 25.82 M parameters\n",
      "Loading model that can be used for inference only\n",
      "Using a Transformer with 25.82 M parameters\n",
      "Loading model that can be used for inference only\n",
      "Using a Transformer with 25.82 M parameters\n",
      "Loading model that can be used for inference only\n",
      "Using a Transformer with 25.82 M parameters\n",
      "Loading model that can be used for inference only\n",
      "Using a Transformer with 25.82 M parameters\n",
      "Loading model that can be used for inference only\n",
      "Using a Transformer with 25.82 M parameters\n",
      "Loading model that can be used for inference only\n",
      "Using a Transformer with 25.82 M parameters\n",
      "Loading model that can be used for inference only\n",
      "Using a Transformer with 25.82 M parameters\n",
      "Loading model that can be used for inference only\n",
      "Using a Transformer with 25.82 M parameters\n",
      "Loading model that can be used for inference only\n",
      "Using a Transformer with 25.82 M parameters\n",
      "Loading model that can be used for inference only\n",
      "Using a Transformer with 25.82 M parameters\n",
      "Loading model that can be used for inference only\n",
      "Using a Transformer with 25.82 M parameters\n",
      "Loading model that can be used for inference only\n",
      "Using a Transformer with 25.82 M parameters\n",
      "Loading model that can be used for inference only\n",
      "Using a Transformer with 25.82 M parameters\n",
      "Loading model that can be used for inference only\n",
      "Using a Transformer with 25.82 M parameters\n",
      "Loading model that can be used for inference only\n",
      "Using a Transformer with 25.82 M parameters\n"
     ]
    },
    {
     "data": {
      "text/plain": [
       "[['TabPFN', 'accuracy', 0.9254917387883556],\n",
       " ['TabPFN', 'neg_log_loss', -0.2259256981007224],\n",
       " ['TabPFN',\n",
       "  make_scorer(balance_loglossv2, greater_is_better=False, needs_proba=True),\n",
       "  -0.5022151031868629]]"
      ]
     },
     "execution_count": 9,
     "metadata": {},
     "output_type": "execute_result"
    }
   ],
   "source": [
    "smote_params = {'k_neighbors': 7, 'sampling_strategy': 1}\n",
    "#xgb_params = {'learning_rate': 0.15, 'max_depth': 3, 'n_estimators': 38}\n",
    "imputer_params = {'n_neighbors': 2, 'weights': \"uniform\", 'missing_values': np.nan, 'copy': False}\n",
    "tabpfn_params = {'N_ensemble_configurations': 28}\n",
    "#(\"c\", SMOTE(**smote_params)),\n",
    "clf = imbpipeline(steps=[(\"a\", KNNImputer(**imputer_params)), (\"b\", RobustScaler()), (\"c\", SMOTE(**smote_params)), (\"d\", TabPFNClassifier(**tabpfn_params))])\n",
    "clf.fit(df_ready_x, df_ready_y)\n",
    "\n",
    "compute_scores(clf, cv, df_ready_x, df_ready_y, 'TabPFN')\n",
    "scores"
   ]
  },
  {
   "cell_type": "markdown",
   "id": "3d84b65d",
   "metadata": {
    "papermill": {
     "duration": 0.009929,
     "end_time": "2023-07-11T12:12:00.264108",
     "exception": false,
     "start_time": "2023-07-11T12:12:00.254179",
     "status": "completed"
    },
    "tags": []
   },
   "source": [
    "### TabPFN with boruta features -0.404532823555921 {N_ensemble_configurations = 48}\n",
    "### TabPFN with boruta features -0.40205373503904046 {N_ensemble_configurations = 40}\n",
    "### TabPFN with boruta features -0.39909391870738464 {N_ensemble_configurations = 32}\n",
    "### TabPFN with boruta features -0.39988480377233665 {N_ensemble_configurations = 30}\n",
    "### ==>> TabPFN with boruta features -0.3981761378086553 {N_ensemble_configurations = 28}\n",
    "### TabPFN with boruta features -0.3991469795332882 {N_ensemble_configurations = 27}\n",
    "### TabPFN with boruta features -0.39824621370886293 {N_ensemble_configurations = 26}\n",
    "### TabPFN with boruta features -0.39955274422044185 {N_ensemble_configurations = 24}\n",
    "### TabPFN with boruta features -0.40413397080960073 {N_ensemble_configurations = 16}\n",
    "### TabPFN with boruta features -0.40810746 {N_ensemble_configurations = 4}\n",
    "### TabPFN with all features except categorical -0.4294606318709975 {N_ensemble_configurations = 4}\n"
   ]
  },
  {
   "cell_type": "code",
   "execution_count": 10,
   "id": "ad677f56",
   "metadata": {
    "execution": {
     "iopub.execute_input": "2023-07-11T12:12:00.287736Z",
     "iopub.status.busy": "2023-07-11T12:12:00.285954Z",
     "iopub.status.idle": "2023-07-11T12:12:35.765384Z",
     "shell.execute_reply": "2023-07-11T12:12:35.764325Z"
    },
    "papermill": {
     "duration": 35.494039,
     "end_time": "2023-07-11T12:12:35.768438",
     "exception": false,
     "start_time": "2023-07-11T12:12:00.274399",
     "status": "completed"
    },
    "tags": []
   },
   "outputs": [],
   "source": [
    "df_test_file = pd.read_csv(input_path + 'test.csv')\n",
    "df_test_x, df_test_y = prepare_initial(df_test_file)\n",
    "df_test_preds = pd.DataFrame(clf.predict_proba(df_test_x))"
   ]
  },
  {
   "cell_type": "code",
   "execution_count": 11,
   "id": "e34a71ca",
   "metadata": {
    "execution": {
     "iopub.execute_input": "2023-07-11T12:12:35.790741Z",
     "iopub.status.busy": "2023-07-11T12:12:35.790296Z",
     "iopub.status.idle": "2023-07-11T12:12:35.810160Z",
     "shell.execute_reply": "2023-07-11T12:12:35.808993Z"
    },
    "papermill": {
     "duration": 0.034449,
     "end_time": "2023-07-11T12:12:35.813152",
     "exception": false,
     "start_time": "2023-07-11T12:12:35.778703",
     "status": "completed"
    },
    "tags": []
   },
   "outputs": [
    {
     "data": {
      "text/html": [
       "<div>\n",
       "<style scoped>\n",
       "    .dataframe tbody tr th:only-of-type {\n",
       "        vertical-align: middle;\n",
       "    }\n",
       "\n",
       "    .dataframe tbody tr th {\n",
       "        vertical-align: top;\n",
       "    }\n",
       "\n",
       "    .dataframe thead th {\n",
       "        text-align: right;\n",
       "    }\n",
       "</style>\n",
       "<table border=\"1\" class=\"dataframe\">\n",
       "  <thead>\n",
       "    <tr style=\"text-align: right;\">\n",
       "      <th></th>\n",
       "      <th>Id</th>\n",
       "      <th>0</th>\n",
       "      <th>1</th>\n",
       "    </tr>\n",
       "  </thead>\n",
       "  <tbody>\n",
       "    <tr>\n",
       "      <th>0</th>\n",
       "      <td>00eed32682bb</td>\n",
       "      <td>0.751172</td>\n",
       "      <td>0.248828</td>\n",
       "    </tr>\n",
       "    <tr>\n",
       "      <th>1</th>\n",
       "      <td>010ebe33f668</td>\n",
       "      <td>0.751172</td>\n",
       "      <td>0.248828</td>\n",
       "    </tr>\n",
       "    <tr>\n",
       "      <th>2</th>\n",
       "      <td>02fa521e1838</td>\n",
       "      <td>0.751172</td>\n",
       "      <td>0.248828</td>\n",
       "    </tr>\n",
       "    <tr>\n",
       "      <th>3</th>\n",
       "      <td>040e15f562a2</td>\n",
       "      <td>0.751172</td>\n",
       "      <td>0.248828</td>\n",
       "    </tr>\n",
       "    <tr>\n",
       "      <th>4</th>\n",
       "      <td>046e85c7cc7f</td>\n",
       "      <td>0.751172</td>\n",
       "      <td>0.248828</td>\n",
       "    </tr>\n",
       "  </tbody>\n",
       "</table>\n",
       "</div>"
      ],
      "text/plain": [
       "             Id         0         1\n",
       "0  00eed32682bb  0.751172  0.248828\n",
       "1  010ebe33f668  0.751172  0.248828\n",
       "2  02fa521e1838  0.751172  0.248828\n",
       "3  040e15f562a2  0.751172  0.248828\n",
       "4  046e85c7cc7f  0.751172  0.248828"
      ]
     },
     "execution_count": 11,
     "metadata": {},
     "output_type": "execute_result"
    }
   ],
   "source": [
    "df_test_y = pd.concat([df_test_file['Id'], df_test_preds], axis=1)\n",
    "df_test_y"
   ]
  },
  {
   "cell_type": "code",
   "execution_count": 12,
   "id": "7d7b5765",
   "metadata": {
    "execution": {
     "iopub.execute_input": "2023-07-11T12:12:35.837651Z",
     "iopub.status.busy": "2023-07-11T12:12:35.836306Z",
     "iopub.status.idle": "2023-07-11T12:12:35.847021Z",
     "shell.execute_reply": "2023-07-11T12:12:35.845711Z"
    },
    "papermill": {
     "duration": 0.026159,
     "end_time": "2023-07-11T12:12:35.850099",
     "exception": false,
     "start_time": "2023-07-11T12:12:35.823940",
     "status": "completed"
    },
    "tags": []
   },
   "outputs": [],
   "source": [
    "df_test_y.to_csv('/kaggle/working/submission.csv', header=['Id', 'class_0', 'class_1'], index=False)"
   ]
  },
  {
   "cell_type": "code",
   "execution_count": 13,
   "id": "a5019457",
   "metadata": {
    "execution": {
     "iopub.execute_input": "2023-07-11T12:12:35.873176Z",
     "iopub.status.busy": "2023-07-11T12:12:35.872711Z",
     "iopub.status.idle": "2023-07-11T12:12:37.031260Z",
     "shell.execute_reply": "2023-07-11T12:12:37.029376Z"
    },
    "papermill": {
     "duration": 1.174037,
     "end_time": "2023-07-11T12:12:37.034504",
     "exception": false,
     "start_time": "2023-07-11T12:12:35.860467",
     "status": "completed"
    },
    "tags": []
   },
   "outputs": [
    {
     "name": "stdout",
     "output_type": "stream",
     "text": [
      "Id,class_0,class_1\r\n",
      "00eed32682bb,0.7511716,0.24882847\r\n",
      "010ebe33f668,0.7511716,0.24882847\r\n",
      "02fa521e1838,0.7511716,0.24882847\r\n",
      "040e15f562a2,0.7511716,0.24882847\r\n",
      "046e85c7cc7f,0.7511716,0.24882847\r\n"
     ]
    }
   ],
   "source": [
    "!head /kaggle/working/submission.csv"
   ]
  },
  {
   "cell_type": "markdown",
   "id": "bd8e13bd",
   "metadata": {
    "papermill": {
     "duration": 0.010554,
     "end_time": "2023-07-11T12:12:37.056102",
     "exception": false,
     "start_time": "2023-07-11T12:12:37.045548",
     "status": "completed"
    },
    "tags": []
   },
   "source": [
    "## version 7 scored **0.25** with TabPFN and Boruta features\n",
    "## version 9 scored **0.29** with TabPFN and all non categorical features"
   ]
  }
 ],
 "metadata": {
  "kernelspec": {
   "display_name": "Python 3",
   "language": "python",
   "name": "python3"
  },
  "language_info": {
   "codemirror_mode": {
    "name": "ipython",
    "version": 3
   },
   "file_extension": ".py",
   "mimetype": "text/x-python",
   "name": "python",
   "nbconvert_exporter": "python",
   "pygments_lexer": "ipython3",
   "version": "3.10.12"
  },
  "papermill": {
   "default_parameters": {},
   "duration": 515.082615,
   "end_time": "2023-07-11T12:12:39.650066",
   "environment_variables": {},
   "exception": null,
   "input_path": "__notebook__.ipynb",
   "output_path": "__notebook__.ipynb",
   "parameters": {},
   "start_time": "2023-07-11T12:04:04.567451",
   "version": "2.4.0"
  }
 },
 "nbformat": 4,
 "nbformat_minor": 5
}
