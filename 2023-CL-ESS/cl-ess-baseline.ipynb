{
 "cells": [
  {
   "cell_type": "code",
   "execution_count": 1,
   "id": "b7d2e9b2",
   "metadata": {
    "_cell_guid": "b1076dfc-b9ad-4769-8c92-a6c4dae69d19",
    "_uuid": "8f2839f25d086af736a60e9eeb907d3b93b6e0e5",
    "execution": {
     "iopub.execute_input": "2023-09-15T08:55:26.040725Z",
     "iopub.status.busy": "2023-09-15T08:55:26.040357Z",
     "iopub.status.idle": "2023-09-15T08:55:39.892784Z",
     "shell.execute_reply": "2023-09-15T08:55:39.891841Z"
    },
    "papermill": {
     "duration": 13.860841,
     "end_time": "2023-09-15T08:55:39.895013",
     "exception": false,
     "start_time": "2023-09-15T08:55:26.034172",
     "status": "completed"
    },
    "tags": []
   },
   "outputs": [
    {
     "name": "stderr",
     "output_type": "stream",
     "text": [
      "/opt/conda/lib/python3.10/site-packages/scipy/__init__.py:146: UserWarning: A NumPy version >=1.16.5 and <1.23.0 is required for this version of SciPy (detected version 1.23.5\n",
      "  warnings.warn(f\"A NumPy version >={np_minversion} and <{np_maxversion}\"\n"
     ]
    },
    {
     "name": "stdout",
     "output_type": "stream",
     "text": [
      "cuda? True\n",
      "/kaggle/input/debertav3small/spm.model\n",
      "/kaggle/input/debertav3small/config.json\n",
      "/kaggle/input/debertav3small/README.md\n",
      "/kaggle/input/debertav3small/tf_model.h5\n",
      "/kaggle/input/debertav3small/tokenizer_config.json\n",
      "/kaggle/input/debertav3small/pytorch_model.bin\n",
      "/kaggle/input/commonlit-evaluate-student-summaries/sample_submission.csv\n",
      "/kaggle/input/commonlit-evaluate-student-summaries/prompts_train.csv\n",
      "/kaggle/input/commonlit-evaluate-student-summaries/summaries_test.csv\n",
      "/kaggle/input/commonlit-evaluate-student-summaries/summaries_train.csv\n",
      "/kaggle/input/commonlit-evaluate-student-summaries/prompts_test.csv\n"
     ]
    }
   ],
   "source": [
    "import numpy as np \n",
    "import pandas as pd\n",
    "import torch\n",
    "import os\n",
    "from sklearn import set_config\n",
    "from sklearn.preprocessing import StandardScaler\n",
    "from sklearn.compose import ColumnTransformer\n",
    "from datasets import Dataset, DatasetDict, load_dataset\n",
    "from sklearn.metrics import mean_squared_error, mean_absolute_error, r2_score\n",
    "from transformers import AutoModel, AutoTokenizer\n",
    "from transformers import DataCollatorWithPadding\n",
    "from transformers import Trainer, TrainingArguments\n",
    "from transformers import AutoModelForSequenceClassification\n",
    "\n",
    "print(f'cuda? {torch.cuda.is_available()}')\n",
    "device = \"cuda\" if torch.cuda.is_available() else \"cpu\"\n",
    "\n",
    "for dirname, _, filenames in os.walk('/kaggle/input'):\n",
    "    for filename in filenames:\n",
    "        print(os.path.join(dirname, filename))"
   ]
  },
  {
   "cell_type": "code",
   "execution_count": 2,
   "id": "9f162e60",
   "metadata": {
    "execution": {
     "iopub.execute_input": "2023-09-15T08:55:39.912010Z",
     "iopub.status.busy": "2023-09-15T08:55:39.911261Z",
     "iopub.status.idle": "2023-09-15T08:55:40.056423Z",
     "shell.execute_reply": "2023-09-15T08:55:40.055484Z"
    },
    "papermill": {
     "duration": 0.159165,
     "end_time": "2023-09-15T08:55:40.058888",
     "exception": false,
     "start_time": "2023-09-15T08:55:39.899723",
     "status": "completed"
    },
    "tags": []
   },
   "outputs": [],
   "source": [
    "input_path = \"/kaggle/input/commonlit-evaluate-student-summaries/\"\n",
    "model_path = \"../input/debertav3small/\"\n",
    "output_path = \"/kaggle/working/\"\n",
    "df_train_pro_file = pd.read_csv(input_path + 'prompts_train.csv')\n",
    "df_train_sum_file = pd.read_csv(input_path + 'summaries_train.csv')\n",
    "df_test_pro_file = pd.read_csv(input_path + 'prompts_test.csv')\n",
    "df_test_sum_file = pd.read_csv(input_path + 'summaries_test.csv')"
   ]
  },
  {
   "cell_type": "code",
   "execution_count": 3,
   "id": "152b1252",
   "metadata": {
    "execution": {
     "iopub.execute_input": "2023-09-15T08:55:40.073497Z",
     "iopub.status.busy": "2023-09-15T08:55:40.072752Z",
     "iopub.status.idle": "2023-09-15T08:55:40.169397Z",
     "shell.execute_reply": "2023-09-15T08:55:40.168354Z"
    },
    "papermill": {
     "duration": 0.106814,
     "end_time": "2023-09-15T08:55:40.172378",
     "exception": false,
     "start_time": "2023-09-15T08:55:40.065564",
     "status": "completed"
    },
    "tags": []
   },
   "outputs": [
    {
     "data": {
      "text/plain": [
       "DatasetDict({\n",
       "    train: Dataset({\n",
       "        features: ['text', 'content', 'wording', 'student_id', 'prompt_id'],\n",
       "        num_rows: 6448\n",
       "    })\n",
       "    test: Dataset({\n",
       "        features: ['text', 'content', 'wording', 'student_id', 'prompt_id'],\n",
       "        num_rows: 717\n",
       "    })\n",
       "    submission: Dataset({\n",
       "        features: ['text', 'content', 'wording', 'student_id', 'prompt_id'],\n",
       "        num_rows: 4\n",
       "    })\n",
       "})"
      ]
     },
     "execution_count": 3,
     "metadata": {},
     "output_type": "execute_result"
    }
   ],
   "source": [
    "set_config(transform_output=\"pandas\")\n",
    "\n",
    "df_train = pd.merge(df_train_pro_file, df_train_sum_file, how='left', on='prompt_id')\n",
    "df_train = df_train[[\"text\", \"content\", \"wording\", \"student_id\", \"prompt_id\"]]\n",
    "\n",
    "ds = Dataset.from_pandas(df_train)\n",
    "dt, dv = ds.train_test_split(test_size=0.1, shuffle=True).values()\n",
    "\n",
    "df_test = pd.merge(df_test_pro_file, df_test_sum_file, how='left', on='prompt_id')\n",
    "df_test['content'] = ''\n",
    "df_test['wording'] = ''\n",
    "df_test = df_test[[\"text\", \"content\", \"wording\", \"student_id\", \"prompt_id\"]]\n",
    "\n",
    "dataset = DatasetDict({'train': dt,'test': dv, 'submission':Dataset.from_pandas(df_test)})\n",
    "dataset\n",
    "\n",
    "\n",
    "#scaler = ColumnTransformer([(\"scaled\", StandardScaler(), ['content', 'wording'])], remainder='passthrough')\n",
    "#df = scaler.fit_transform(df_merged)\n",
    "#df = df[['remainder__text', 'scaled__content', 'scaled__wording']]\n",
    "#df = df.rename({'remainder__text': 'text', 'scaled__content': 'content', 'scaled__wording': 'wording'}, axis=1)\n",
    "#df.sample(1)"
   ]
  },
  {
   "cell_type": "code",
   "execution_count": 4,
   "id": "f329fc38",
   "metadata": {
    "execution": {
     "iopub.execute_input": "2023-09-15T08:55:40.189591Z",
     "iopub.status.busy": "2023-09-15T08:55:40.189234Z",
     "iopub.status.idle": "2023-09-15T08:55:40.205157Z",
     "shell.execute_reply": "2023-09-15T08:55:40.204375Z"
    },
    "papermill": {
     "duration": 0.027035,
     "end_time": "2023-09-15T08:55:40.208534",
     "exception": false,
     "start_time": "2023-09-15T08:55:40.181499",
     "status": "completed"
    },
    "tags": []
   },
   "outputs": [
    {
     "name": "stdout",
     "output_type": "stream",
     "text": [
      "0.14907119849998599\n"
     ]
    }
   ],
   "source": [
    "def get_MCRMSE_score(eval_pred):\n",
    "    # columnwise root mean squared error\n",
    "    preds, labels = eval_pred\n",
    "         \n",
    "    by_column = np.sqrt(np.mean((preds - labels) ** 2, axis=0))\n",
    "    mcrmse = np.mean(by_column)\n",
    "    return mcrmse\n",
    "\n",
    "r = (np.array([[0.2, 0.4, 0.2], [1, 0.4, 1]]), np.array([[0.2, 0.2, 0.2], [1, 1, 1]]))\n",
    "print(get_MCRMSE_score(r))"
   ]
  },
  {
   "cell_type": "code",
   "execution_count": 5,
   "id": "f492f504",
   "metadata": {
    "execution": {
     "iopub.execute_input": "2023-09-15T08:55:40.222945Z",
     "iopub.status.busy": "2023-09-15T08:55:40.222624Z",
     "iopub.status.idle": "2023-09-15T08:55:40.231648Z",
     "shell.execute_reply": "2023-09-15T08:55:40.230372Z"
    },
    "papermill": {
     "duration": 0.019792,
     "end_time": "2023-09-15T08:55:40.234662",
     "exception": false,
     "start_time": "2023-09-15T08:55:40.214870",
     "status": "completed"
    },
    "tags": []
   },
   "outputs": [],
   "source": [
    "def compute_metrics(eval_pred):\n",
    "    logits, labels = eval_pred\n",
    "    labels = labels.reshape(-1, 1)\n",
    "\n",
    "    mse = mean_squared_error(labels, logits)\n",
    "    rmse = mean_squared_error(labels, logits, squared=False)\n",
    "    mae = mean_absolute_error(labels, logits)\n",
    "    r2 = r2_score(labels, logits)\n",
    "    smape = 1/len(labels) * np.sum(2 * np.abs(logits-labels) / (np.abs(labels) + np.abs(logits))*100)\n",
    "    mcrmse = get_MCRMSE_score(eval_pred)\n",
    "    \n",
    "    return {\"mcrmse\": mcrmse, \"mse\": mse, \"rmse\": rmse, \"mae\": mae, \"r2\": r2, \"smape\": smape}"
   ]
  },
  {
   "cell_type": "code",
   "execution_count": 6,
   "id": "4a511f8d",
   "metadata": {
    "execution": {
     "iopub.execute_input": "2023-09-15T08:55:40.248901Z",
     "iopub.status.busy": "2023-09-15T08:55:40.248612Z",
     "iopub.status.idle": "2023-09-15T08:55:45.989056Z",
     "shell.execute_reply": "2023-09-15T08:55:45.988016Z"
    },
    "papermill": {
     "duration": 5.749874,
     "end_time": "2023-09-15T08:55:45.991244",
     "exception": false,
     "start_time": "2023-09-15T08:55:40.241370",
     "status": "completed"
    },
    "tags": []
   },
   "outputs": [
    {
     "name": "stderr",
     "output_type": "stream",
     "text": [
      "Special tokens have been added in the vocabulary, make sure the associated word embeddings are fine-tuned or trained.\n",
      "/opt/conda/lib/python3.10/site-packages/transformers/convert_slow_tokenizer.py:473: UserWarning: The sentencepiece tokenizer that you are converting to a fast tokenizer uses the byte fallback option which is not implemented in the fast tokenizers. In practice this means that the fast version of the tokenizer can produce unknown tokens whereas the sentencepiece version would have converted these unknown tokens into a sequence of byte tokens matching the original piece of text.\n",
      "  warnings.warn(\n",
      "Special tokens have been added in the vocabulary, make sure the associated word embeddings are fine-tuned or trained.\n"
     ]
    },
    {
     "data": {
      "application/vnd.jupyter.widget-view+json": {
       "model_id": "1c904474c6d44d0894d3681043bb59a1",
       "version_major": 2,
       "version_minor": 0
      },
      "text/plain": [
       "  0%|          | 0/7 [00:00<?, ?ba/s]"
      ]
     },
     "metadata": {},
     "output_type": "display_data"
    },
    {
     "data": {
      "application/vnd.jupyter.widget-view+json": {
       "model_id": "500f4507d39f4cc1bf5c91db25fe92f8",
       "version_major": 2,
       "version_minor": 0
      },
      "text/plain": [
       "  0%|          | 0/1 [00:00<?, ?ba/s]"
      ]
     },
     "metadata": {},
     "output_type": "display_data"
    },
    {
     "data": {
      "application/vnd.jupyter.widget-view+json": {
       "model_id": "c181ccc8676b4379be2856b26373fe70",
       "version_major": 2,
       "version_minor": 0
      },
      "text/plain": [
       "  0%|          | 0/1 [00:00<?, ?ba/s]"
      ]
     },
     "metadata": {},
     "output_type": "display_data"
    },
    {
     "data": {
      "text/plain": [
       "DatasetDict({\n",
       "    train: Dataset({\n",
       "        features: ['text', 'content', 'wording', 'student_id', 'prompt_id', 'input_ids', 'token_type_ids', 'attention_mask'],\n",
       "        num_rows: 6448\n",
       "    })\n",
       "    test: Dataset({\n",
       "        features: ['text', 'content', 'wording', 'student_id', 'prompt_id', 'input_ids', 'token_type_ids', 'attention_mask'],\n",
       "        num_rows: 717\n",
       "    })\n",
       "    submission: Dataset({\n",
       "        features: ['text', 'content', 'wording', 'student_id', 'prompt_id', 'input_ids', 'token_type_ids', 'attention_mask'],\n",
       "        num_rows: 4\n",
       "    })\n",
       "})"
      ]
     },
     "execution_count": 6,
     "metadata": {},
     "output_type": "execute_result"
    }
   ],
   "source": [
    "#tokenizer = AutoTokenizer.from_pretrained('microsoft/deberta-v3-small', use_fast=True)\n",
    "tokenizer = AutoTokenizer.from_pretrained(model_path, use_fast=True, local_files_only=True)\n",
    "\n",
    "def tokenize_function(examples):\n",
    "        return tokenizer(examples['text'], padding=\"max_length\", truncation=True, max_length=512)\n",
    "    \n",
    "tokenized = dataset.map(tokenize_function, batched=True)\n",
    "tokenized = tokenized.with_format(type='torch')\n",
    "data_collator = DataCollatorWithPadding(tokenizer)\n",
    "tokenized"
   ]
  },
  {
   "cell_type": "code",
   "execution_count": 7,
   "id": "5d403dcb",
   "metadata": {
    "execution": {
     "iopub.execute_input": "2023-09-15T08:55:46.003954Z",
     "iopub.status.busy": "2023-09-15T08:55:46.003676Z",
     "iopub.status.idle": "2023-09-15T08:55:46.014259Z",
     "shell.execute_reply": "2023-09-15T08:55:46.013424Z"
    },
    "papermill": {
     "duration": 0.01951,
     "end_time": "2023-09-15T08:55:46.016430",
     "exception": false,
     "start_time": "2023-09-15T08:55:45.996920",
     "status": "completed"
    },
    "tags": []
   },
   "outputs": [],
   "source": [
    "class OneLabelRegressor:\n",
    "    def __init__(self, target, tokens, collator):\n",
    "        self.target = target\n",
    "        self.tokenized = tokens\n",
    "        self.collator = collator\n",
    "        self.model = None\n",
    "        self.training_args = None\n",
    "        self.trainer = None\n",
    "\n",
    "    def run(self, effort='small'):\n",
    "              \n",
    "        #self.model = AutoModelForSequenceClassification.from_pretrained('microsoft/deberta-v3-xsmall', num_labels=1, problem_type=\"regression\").to(device) # 1 for regression\n",
    "        self.model = AutoModelForSequenceClassification.from_pretrained(model_path, num_labels=1, problem_type=\"regression\").to(device)\n",
    "        \n",
    "        self.training_args = TrainingArguments(\n",
    "            output_dir ='/kaggle/working' + self.target,          \n",
    "            num_train_epochs = 3,     \n",
    "            per_device_train_batch_size = 16,   \n",
    "            per_device_eval_batch_size = 16, \n",
    "            weight_decay = 0.021,               \n",
    "            learning_rate = 1.5e-5,\n",
    "            save_total_limit = 10,\n",
    "            logging_strategy = \"epoch\",\n",
    "            evaluation_strategy = \"epoch\",\n",
    "            save_strategy = \"epoch\",\n",
    "            report_to=\"none\",\n",
    "        ) \n",
    "        \n",
    "        small_train_dataset = self.tokenized[\"train\"].shuffle().select(range(100))\n",
    "        small_test_dataset = self.tokenized[\"test\"].shuffle().select(range(100))\n",
    "        \n",
    "        if effort == 'big':\n",
    "            self.trainer = Trainer(\n",
    "                model=self.model, \n",
    "                args=self.training_args, \n",
    "                train_dataset=self.tokenized['train'],\n",
    "                eval_dataset=self.tokenized['test'],\n",
    "                compute_metrics=compute_metrics,\n",
    "                data_collator=self.collator\n",
    "            )\n",
    "        else:\n",
    "            self.trainer = Trainer(\n",
    "                model=self.model, \n",
    "                args=self.training_args, \n",
    "                train_dataset=small_train_dataset,\n",
    "                eval_dataset=small_test_dataset,\n",
    "                compute_metrics=compute_metrics,\n",
    "                data_collator=self.collator\n",
    "            )\n",
    "        self.trainer.train()\n",
    "        \n",
    "        \n",
    "        "
   ]
  },
  {
   "cell_type": "code",
   "execution_count": 8,
   "id": "61079771",
   "metadata": {
    "execution": {
     "iopub.execute_input": "2023-09-15T08:55:46.028658Z",
     "iopub.status.busy": "2023-09-15T08:55:46.028394Z",
     "iopub.status.idle": "2023-09-15T09:09:41.064022Z",
     "shell.execute_reply": "2023-09-15T09:09:41.063080Z"
    },
    "papermill": {
     "duration": 835.0443,
     "end_time": "2023-09-15T09:09:41.066201",
     "exception": false,
     "start_time": "2023-09-15T08:55:46.021901",
     "status": "completed"
    },
    "tags": []
   },
   "outputs": [
    {
     "name": "stdout",
     "output_type": "stream",
     "text": [
      "DatasetDict({\n",
      "    train: Dataset({\n",
      "        features: ['text', 'content', 'wording', 'student_id', 'prompt_id', 'input_ids', 'token_type_ids', 'attention_mask'],\n",
      "        num_rows: 6448\n",
      "    })\n",
      "    test: Dataset({\n",
      "        features: ['text', 'content', 'wording', 'student_id', 'prompt_id', 'input_ids', 'token_type_ids', 'attention_mask'],\n",
      "        num_rows: 717\n",
      "    })\n",
      "    submission: Dataset({\n",
      "        features: ['text', 'content', 'wording', 'student_id', 'prompt_id', 'input_ids', 'token_type_ids', 'attention_mask'],\n",
      "        num_rows: 4\n",
      "    })\n",
      "})\n"
     ]
    },
    {
     "name": "stderr",
     "output_type": "stream",
     "text": [
      "Some weights of DebertaV2ForSequenceClassification were not initialized from the model checkpoint at ../input/debertav3small/ and are newly initialized: ['classifier.bias', 'pooler.dense.bias', 'pooler.dense.weight', 'classifier.weight']\n",
      "You should probably TRAIN this model on a down-stream task to be able to use it for predictions and inference.\n",
      "You're using a DebertaV2TokenizerFast tokenizer. Please note that with a fast tokenizer, using the `__call__` method is faster than using a method to encode the text followed by a call to the `pad` method to get a padded encoding.\n"
     ]
    },
    {
     "data": {
      "text/html": [
       "\n",
       "    <div>\n",
       "      \n",
       "      <progress value='1209' max='1209' style='width:300px; height:20px; vertical-align: middle;'></progress>\n",
       "      [1209/1209 13:32, Epoch 3/3]\n",
       "    </div>\n",
       "    <table border=\"1\" class=\"dataframe\">\n",
       "  <thead>\n",
       " <tr style=\"text-align: left;\">\n",
       "      <th>Epoch</th>\n",
       "      <th>Training Loss</th>\n",
       "      <th>Validation Loss</th>\n",
       "      <th>Mcrmse</th>\n",
       "      <th>Mse</th>\n",
       "      <th>Rmse</th>\n",
       "      <th>Mae</th>\n",
       "      <th>R2</th>\n",
       "      <th>Smape</th>\n",
       "    </tr>\n",
       "  </thead>\n",
       "  <tbody>\n",
       "    <tr>\n",
       "      <td>1</td>\n",
       "      <td>0.327700</td>\n",
       "      <td>0.193111</td>\n",
       "      <td>1.371561</td>\n",
       "      <td>0.193111</td>\n",
       "      <td>0.439444</td>\n",
       "      <td>0.330302</td>\n",
       "      <td>0.826541</td>\n",
       "      <td>67.883488</td>\n",
       "    </tr>\n",
       "    <tr>\n",
       "      <td>2</td>\n",
       "      <td>0.184600</td>\n",
       "      <td>0.191994</td>\n",
       "      <td>1.401463</td>\n",
       "      <td>0.191994</td>\n",
       "      <td>0.438171</td>\n",
       "      <td>0.336945</td>\n",
       "      <td>0.827545</td>\n",
       "      <td>68.278733</td>\n",
       "    </tr>\n",
       "    <tr>\n",
       "      <td>3</td>\n",
       "      <td>0.154300</td>\n",
       "      <td>0.170097</td>\n",
       "      <td>1.393525</td>\n",
       "      <td>0.170097</td>\n",
       "      <td>0.412429</td>\n",
       "      <td>0.313206</td>\n",
       "      <td>0.847213</td>\n",
       "      <td>65.016262</td>\n",
       "    </tr>\n",
       "  </tbody>\n",
       "</table><p>"
      ],
      "text/plain": [
       "<IPython.core.display.HTML object>"
      ]
     },
     "metadata": {},
     "output_type": "display_data"
    },
    {
     "data": {
      "text/html": [],
      "text/plain": [
       "<IPython.core.display.HTML object>"
      ]
     },
     "metadata": {},
     "output_type": "display_data"
    }
   ],
   "source": [
    "print(tokenized)\n",
    "def training(target, tokenized, data_collator, effort=\"small\"):\n",
    "    tokenized = tokenized.rename_column(target, \"labels\") # because the model expects it\n",
    "    r = OneLabelRegressor(target, tokenized, data_collator)\n",
    "    r.run(effort)\n",
    "    tokenized = tokenized.rename_column('labels', target)\n",
    "    return r, pd.DataFrame([[k, v] for k,v in r.trainer.evaluate().items()], columns=['metric', target])\n",
    "\n",
    "runner_c, result_c = training('content', tokenized, data_collator, 'big')"
   ]
  },
  {
   "cell_type": "code",
   "execution_count": 9,
   "id": "b4f0e7f1",
   "metadata": {
    "execution": {
     "iopub.execute_input": "2023-09-15T09:09:41.080675Z",
     "iopub.status.busy": "2023-09-15T09:09:41.079981Z",
     "iopub.status.idle": "2023-09-15T09:23:29.215866Z",
     "shell.execute_reply": "2023-09-15T09:23:29.214946Z"
    },
    "papermill": {
     "duration": 828.145458,
     "end_time": "2023-09-15T09:23:29.218108",
     "exception": false,
     "start_time": "2023-09-15T09:09:41.072650",
     "status": "completed"
    },
    "tags": []
   },
   "outputs": [
    {
     "name": "stderr",
     "output_type": "stream",
     "text": [
      "Some weights of DebertaV2ForSequenceClassification were not initialized from the model checkpoint at ../input/debertav3small/ and are newly initialized: ['classifier.bias', 'pooler.dense.bias', 'pooler.dense.weight', 'classifier.weight']\n",
      "You should probably TRAIN this model on a down-stream task to be able to use it for predictions and inference.\n"
     ]
    },
    {
     "data": {
      "text/html": [
       "\n",
       "    <div>\n",
       "      \n",
       "      <progress value='1209' max='1209' style='width:300px; height:20px; vertical-align: middle;'></progress>\n",
       "      [1209/1209 13:32, Epoch 3/3]\n",
       "    </div>\n",
       "    <table border=\"1\" class=\"dataframe\">\n",
       "  <thead>\n",
       " <tr style=\"text-align: left;\">\n",
       "      <th>Epoch</th>\n",
       "      <th>Training Loss</th>\n",
       "      <th>Validation Loss</th>\n",
       "      <th>Mcrmse</th>\n",
       "      <th>Mse</th>\n",
       "      <th>Rmse</th>\n",
       "      <th>Mae</th>\n",
       "      <th>R2</th>\n",
       "      <th>Smape</th>\n",
       "    </tr>\n",
       "  </thead>\n",
       "  <tbody>\n",
       "    <tr>\n",
       "      <td>1</td>\n",
       "      <td>0.469900</td>\n",
       "      <td>0.343823</td>\n",
       "      <td>1.354171</td>\n",
       "      <td>0.343823</td>\n",
       "      <td>0.586365</td>\n",
       "      <td>0.459849</td>\n",
       "      <td>0.689349</td>\n",
       "      <td>84.286644</td>\n",
       "    </tr>\n",
       "    <tr>\n",
       "      <td>2</td>\n",
       "      <td>0.308500</td>\n",
       "      <td>0.324206</td>\n",
       "      <td>1.381006</td>\n",
       "      <td>0.324206</td>\n",
       "      <td>0.569391</td>\n",
       "      <td>0.445639</td>\n",
       "      <td>0.707074</td>\n",
       "      <td>82.448767</td>\n",
       "    </tr>\n",
       "    <tr>\n",
       "      <td>3</td>\n",
       "      <td>0.255200</td>\n",
       "      <td>0.307636</td>\n",
       "      <td>1.361855</td>\n",
       "      <td>0.307636</td>\n",
       "      <td>0.554649</td>\n",
       "      <td>0.435619</td>\n",
       "      <td>0.722045</td>\n",
       "      <td>82.695182</td>\n",
       "    </tr>\n",
       "  </tbody>\n",
       "</table><p>"
      ],
      "text/plain": [
       "<IPython.core.display.HTML object>"
      ]
     },
     "metadata": {},
     "output_type": "display_data"
    },
    {
     "data": {
      "text/html": [],
      "text/plain": [
       "<IPython.core.display.HTML object>"
      ]
     },
     "metadata": {},
     "output_type": "display_data"
    }
   ],
   "source": [
    "runner_w, result_w = training('wording', tokenized, data_collator, 'big')"
   ]
  },
  {
   "cell_type": "code",
   "execution_count": 10,
   "id": "39745b05",
   "metadata": {
    "execution": {
     "iopub.execute_input": "2023-09-15T09:23:29.232911Z",
     "iopub.status.busy": "2023-09-15T09:23:29.232626Z",
     "iopub.status.idle": "2023-09-15T09:23:29.253168Z",
     "shell.execute_reply": "2023-09-15T09:23:29.252299Z"
    },
    "papermill": {
     "duration": 0.030344,
     "end_time": "2023-09-15T09:23:29.255249",
     "exception": false,
     "start_time": "2023-09-15T09:23:29.224905",
     "status": "completed"
    },
    "tags": []
   },
   "outputs": [
    {
     "data": {
      "text/html": [
       "<div>\n",
       "<style scoped>\n",
       "    .dataframe tbody tr th:only-of-type {\n",
       "        vertical-align: middle;\n",
       "    }\n",
       "\n",
       "    .dataframe tbody tr th {\n",
       "        vertical-align: top;\n",
       "    }\n",
       "\n",
       "    .dataframe thead th {\n",
       "        text-align: right;\n",
       "    }\n",
       "</style>\n",
       "<table border=\"1\" class=\"dataframe\">\n",
       "  <thead>\n",
       "    <tr style=\"text-align: right;\">\n",
       "      <th></th>\n",
       "      <th>metric</th>\n",
       "      <th>content</th>\n",
       "      <th>wording</th>\n",
       "    </tr>\n",
       "  </thead>\n",
       "  <tbody>\n",
       "    <tr>\n",
       "      <th>0</th>\n",
       "      <td>eval_loss</td>\n",
       "      <td>0.170097</td>\n",
       "      <td>0.307636</td>\n",
       "    </tr>\n",
       "    <tr>\n",
       "      <th>1</th>\n",
       "      <td>eval_mcrmse</td>\n",
       "      <td>1.393525</td>\n",
       "      <td>1.361855</td>\n",
       "    </tr>\n",
       "    <tr>\n",
       "      <th>2</th>\n",
       "      <td>eval_mse</td>\n",
       "      <td>0.170097</td>\n",
       "      <td>0.307636</td>\n",
       "    </tr>\n",
       "    <tr>\n",
       "      <th>3</th>\n",
       "      <td>eval_rmse</td>\n",
       "      <td>0.412429</td>\n",
       "      <td>0.554649</td>\n",
       "    </tr>\n",
       "    <tr>\n",
       "      <th>4</th>\n",
       "      <td>eval_mae</td>\n",
       "      <td>0.313206</td>\n",
       "      <td>0.435619</td>\n",
       "    </tr>\n",
       "    <tr>\n",
       "      <th>5</th>\n",
       "      <td>eval_r2</td>\n",
       "      <td>0.847213</td>\n",
       "      <td>0.722045</td>\n",
       "    </tr>\n",
       "    <tr>\n",
       "      <th>6</th>\n",
       "      <td>eval_smape</td>\n",
       "      <td>65.016262</td>\n",
       "      <td>82.695182</td>\n",
       "    </tr>\n",
       "    <tr>\n",
       "      <th>7</th>\n",
       "      <td>eval_runtime</td>\n",
       "      <td>10.488000</td>\n",
       "      <td>10.353600</td>\n",
       "    </tr>\n",
       "    <tr>\n",
       "      <th>8</th>\n",
       "      <td>eval_samples_per_second</td>\n",
       "      <td>68.364000</td>\n",
       "      <td>69.251000</td>\n",
       "    </tr>\n",
       "    <tr>\n",
       "      <th>9</th>\n",
       "      <td>eval_steps_per_second</td>\n",
       "      <td>4.291000</td>\n",
       "      <td>4.346000</td>\n",
       "    </tr>\n",
       "    <tr>\n",
       "      <th>10</th>\n",
       "      <td>epoch</td>\n",
       "      <td>3.000000</td>\n",
       "      <td>3.000000</td>\n",
       "    </tr>\n",
       "  </tbody>\n",
       "</table>\n",
       "</div>"
      ],
      "text/plain": [
       "                     metric    content    wording\n",
       "0                 eval_loss   0.170097   0.307636\n",
       "1               eval_mcrmse   1.393525   1.361855\n",
       "2                  eval_mse   0.170097   0.307636\n",
       "3                 eval_rmse   0.412429   0.554649\n",
       "4                  eval_mae   0.313206   0.435619\n",
       "5                   eval_r2   0.847213   0.722045\n",
       "6                eval_smape  65.016262  82.695182\n",
       "7              eval_runtime  10.488000  10.353600\n",
       "8   eval_samples_per_second  68.364000  69.251000\n",
       "9     eval_steps_per_second   4.291000   4.346000\n",
       "10                    epoch   3.000000   3.000000"
      ]
     },
     "execution_count": 10,
     "metadata": {},
     "output_type": "execute_result"
    }
   ],
   "source": [
    "results = result_c.merge(result_w['wording'], left_index=True, right_index=True)\n",
    "results"
   ]
  },
  {
   "cell_type": "code",
   "execution_count": 11,
   "id": "a36cf37e",
   "metadata": {
    "execution": {
     "iopub.execute_input": "2023-09-15T09:23:29.270067Z",
     "iopub.status.busy": "2023-09-15T09:23:29.269798Z",
     "iopub.status.idle": "2023-09-15T09:23:29.421684Z",
     "shell.execute_reply": "2023-09-15T09:23:29.420706Z"
    },
    "papermill": {
     "duration": 0.161525,
     "end_time": "2023-09-15T09:23:29.423589",
     "exception": false,
     "start_time": "2023-09-15T09:23:29.262064",
     "status": "completed"
    },
    "tags": []
   },
   "outputs": [
    {
     "data": {
      "text/html": [
       "<div>\n",
       "<style scoped>\n",
       "    .dataframe tbody tr th:only-of-type {\n",
       "        vertical-align: middle;\n",
       "    }\n",
       "\n",
       "    .dataframe tbody tr th {\n",
       "        vertical-align: top;\n",
       "    }\n",
       "\n",
       "    .dataframe thead th {\n",
       "        text-align: right;\n",
       "    }\n",
       "</style>\n",
       "<table border=\"1\" class=\"dataframe\">\n",
       "  <thead>\n",
       "    <tr style=\"text-align: right;\">\n",
       "      <th></th>\n",
       "      <th>student_id</th>\n",
       "      <th>content</th>\n",
       "      <th>wording</th>\n",
       "    </tr>\n",
       "  </thead>\n",
       "  <tbody>\n",
       "    <tr>\n",
       "      <th>0</th>\n",
       "      <td>000000ffffff</td>\n",
       "      <td>-1.573557</td>\n",
       "      <td>-1.311110</td>\n",
       "    </tr>\n",
       "    <tr>\n",
       "      <th>1</th>\n",
       "      <td>222222cccccc</td>\n",
       "      <td>-1.602774</td>\n",
       "      <td>-1.307745</td>\n",
       "    </tr>\n",
       "    <tr>\n",
       "      <th>2</th>\n",
       "      <td>111111eeeeee</td>\n",
       "      <td>-1.569436</td>\n",
       "      <td>-1.299939</td>\n",
       "    </tr>\n",
       "    <tr>\n",
       "      <th>3</th>\n",
       "      <td>333333dddddd</td>\n",
       "      <td>-1.581009</td>\n",
       "      <td>-1.293190</td>\n",
       "    </tr>\n",
       "  </tbody>\n",
       "</table>\n",
       "</div>"
      ],
      "text/plain": [
       "     student_id   content   wording\n",
       "0  000000ffffff -1.573557 -1.311110\n",
       "1  222222cccccc -1.602774 -1.307745\n",
       "2  111111eeeeee -1.569436 -1.299939\n",
       "3  333333dddddd -1.581009 -1.293190"
      ]
     },
     "execution_count": 11,
     "metadata": {},
     "output_type": "execute_result"
    }
   ],
   "source": [
    "# submission\n",
    "df_sub = tokenized['submission'].to_pandas()\n",
    "df_sub['content'] = runner_c.trainer.predict(tokenized['submission']).predictions\n",
    "df_sub['wording'] = runner_w.trainer.predict(tokenized['submission']).predictions\n",
    "df_sub = df_sub[['student_id', 'content', 'wording']]\n",
    "df_sub"
   ]
  },
  {
   "cell_type": "code",
   "execution_count": 12,
   "id": "fe3ae9a5",
   "metadata": {
    "execution": {
     "iopub.execute_input": "2023-09-15T09:23:29.439182Z",
     "iopub.status.busy": "2023-09-15T09:23:29.438903Z",
     "iopub.status.idle": "2023-09-15T09:23:29.446529Z",
     "shell.execute_reply": "2023-09-15T09:23:29.445630Z"
    },
    "papermill": {
     "duration": 0.017487,
     "end_time": "2023-09-15T09:23:29.448518",
     "exception": false,
     "start_time": "2023-09-15T09:23:29.431031",
     "status": "completed"
    },
    "tags": []
   },
   "outputs": [],
   "source": [
    "df_sub.to_csv(output_path + 'submission.csv', index=False)"
   ]
  },
  {
   "cell_type": "code",
   "execution_count": 13,
   "id": "f23a3d68",
   "metadata": {
    "execution": {
     "iopub.execute_input": "2023-09-15T09:23:29.463515Z",
     "iopub.status.busy": "2023-09-15T09:23:29.463219Z",
     "iopub.status.idle": "2023-09-15T09:23:29.467009Z",
     "shell.execute_reply": "2023-09-15T09:23:29.466077Z"
    },
    "papermill": {
     "duration": 0.013438,
     "end_time": "2023-09-15T09:23:29.468924",
     "exception": false,
     "start_time": "2023-09-15T09:23:29.455486",
     "status": "completed"
    },
    "tags": []
   },
   "outputs": [],
   "source": [
    "#!cat /kaggle/working/submission.csv"
   ]
  },
  {
   "cell_type": "code",
   "execution_count": 14,
   "id": "4eb67000",
   "metadata": {
    "execution": {
     "iopub.execute_input": "2023-09-15T09:23:29.484394Z",
     "iopub.status.busy": "2023-09-15T09:23:29.483626Z",
     "iopub.status.idle": "2023-09-15T09:23:29.487570Z",
     "shell.execute_reply": "2023-09-15T09:23:29.486714Z"
    },
    "papermill": {
     "duration": 0.013648,
     "end_time": "2023-09-15T09:23:29.489571",
     "exception": false,
     "start_time": "2023-09-15T09:23:29.475923",
     "status": "completed"
    },
    "tags": []
   },
   "outputs": [],
   "source": [
    "#TODO compute metric truly\n",
    "#TODO"
   ]
  }
 ],
 "metadata": {
  "kernelspec": {
   "display_name": "Python 3",
   "language": "python",
   "name": "python3"
  },
  "language_info": {
   "codemirror_mode": {
    "name": "ipython",
    "version": 3
   },
   "file_extension": ".py",
   "mimetype": "text/x-python",
   "name": "python",
   "nbconvert_exporter": "python",
   "pygments_lexer": "ipython3",
   "version": "3.10.12"
  },
  "papermill": {
   "default_parameters": {},
   "duration": 1690.155978,
   "end_time": "2023-09-15T09:23:32.936464",
   "environment_variables": {},
   "exception": null,
   "input_path": "__notebook__.ipynb",
   "output_path": "__notebook__.ipynb",
   "parameters": {},
   "start_time": "2023-09-15T08:55:22.780486",
   "version": "2.4.0"
  },
  "widgets": {
   "application/vnd.jupyter.widget-state+json": {
    "state": {
     "008c9b9bfc3645d18ce8afc53a75af43": {
      "model_module": "@jupyter-widgets/base",
      "model_module_version": "1.2.0",
      "model_name": "LayoutModel",
      "state": {
       "_model_module": "@jupyter-widgets/base",
       "_model_module_version": "1.2.0",
       "_model_name": "LayoutModel",
       "_view_count": null,
       "_view_module": "@jupyter-widgets/base",
       "_view_module_version": "1.2.0",
       "_view_name": "LayoutView",
       "align_content": null,
       "align_items": null,
       "align_self": null,
       "border": null,
       "bottom": null,
       "display": null,
       "flex": null,
       "flex_flow": null,
       "grid_area": null,
       "grid_auto_columns": null,
       "grid_auto_flow": null,
       "grid_auto_rows": null,
       "grid_column": null,
       "grid_gap": null,
       "grid_row": null,
       "grid_template_areas": null,
       "grid_template_columns": null,
       "grid_template_rows": null,
       "height": null,
       "justify_content": null,
       "justify_items": null,
       "left": null,
       "margin": null,
       "max_height": null,
       "max_width": null,
       "min_height": null,
       "min_width": null,
       "object_fit": null,
       "object_position": null,
       "order": null,
       "overflow": null,
       "overflow_x": null,
       "overflow_y": null,
       "padding": null,
       "right": null,
       "top": null,
       "visibility": null,
       "width": null
      }
     },
     "067ac1b5eb3d43a6a6967a507294d855": {
      "model_module": "@jupyter-widgets/base",
      "model_module_version": "1.2.0",
      "model_name": "LayoutModel",
      "state": {
       "_model_module": "@jupyter-widgets/base",
       "_model_module_version": "1.2.0",
       "_model_name": "LayoutModel",
       "_view_count": null,
       "_view_module": "@jupyter-widgets/base",
       "_view_module_version": "1.2.0",
       "_view_name": "LayoutView",
       "align_content": null,
       "align_items": null,
       "align_self": null,
       "border": null,
       "bottom": null,
       "display": null,
       "flex": null,
       "flex_flow": null,
       "grid_area": null,
       "grid_auto_columns": null,
       "grid_auto_flow": null,
       "grid_auto_rows": null,
       "grid_column": null,
       "grid_gap": null,
       "grid_row": null,
       "grid_template_areas": null,
       "grid_template_columns": null,
       "grid_template_rows": null,
       "height": null,
       "justify_content": null,
       "justify_items": null,
       "left": null,
       "margin": null,
       "max_height": null,
       "max_width": null,
       "min_height": null,
       "min_width": null,
       "object_fit": null,
       "object_position": null,
       "order": null,
       "overflow": null,
       "overflow_x": null,
       "overflow_y": null,
       "padding": null,
       "right": null,
       "top": null,
       "visibility": null,
       "width": null
      }
     },
     "0b2db6deaa4f44fe966f3abf9a1c68e5": {
      "model_module": "@jupyter-widgets/base",
      "model_module_version": "1.2.0",
      "model_name": "LayoutModel",
      "state": {
       "_model_module": "@jupyter-widgets/base",
       "_model_module_version": "1.2.0",
       "_model_name": "LayoutModel",
       "_view_count": null,
       "_view_module": "@jupyter-widgets/base",
       "_view_module_version": "1.2.0",
       "_view_name": "LayoutView",
       "align_content": null,
       "align_items": null,
       "align_self": null,
       "border": null,
       "bottom": null,
       "display": null,
       "flex": null,
       "flex_flow": null,
       "grid_area": null,
       "grid_auto_columns": null,
       "grid_auto_flow": null,
       "grid_auto_rows": null,
       "grid_column": null,
       "grid_gap": null,
       "grid_row": null,
       "grid_template_areas": null,
       "grid_template_columns": null,
       "grid_template_rows": null,
       "height": null,
       "justify_content": null,
       "justify_items": null,
       "left": null,
       "margin": null,
       "max_height": null,
       "max_width": null,
       "min_height": null,
       "min_width": null,
       "object_fit": null,
       "object_position": null,
       "order": null,
       "overflow": null,
       "overflow_x": null,
       "overflow_y": null,
       "padding": null,
       "right": null,
       "top": null,
       "visibility": null,
       "width": null
      }
     },
     "0c5170c66bea4be2ac3c0300466fd6f0": {
      "model_module": "@jupyter-widgets/base",
      "model_module_version": "1.2.0",
      "model_name": "LayoutModel",
      "state": {
       "_model_module": "@jupyter-widgets/base",
       "_model_module_version": "1.2.0",
       "_model_name": "LayoutModel",
       "_view_count": null,
       "_view_module": "@jupyter-widgets/base",
       "_view_module_version": "1.2.0",
       "_view_name": "LayoutView",
       "align_content": null,
       "align_items": null,
       "align_self": null,
       "border": null,
       "bottom": null,
       "display": null,
       "flex": null,
       "flex_flow": null,
       "grid_area": null,
       "grid_auto_columns": null,
       "grid_auto_flow": null,
       "grid_auto_rows": null,
       "grid_column": null,
       "grid_gap": null,
       "grid_row": null,
       "grid_template_areas": null,
       "grid_template_columns": null,
       "grid_template_rows": null,
       "height": null,
       "justify_content": null,
       "justify_items": null,
       "left": null,
       "margin": null,
       "max_height": null,
       "max_width": null,
       "min_height": null,
       "min_width": null,
       "object_fit": null,
       "object_position": null,
       "order": null,
       "overflow": null,
       "overflow_x": null,
       "overflow_y": null,
       "padding": null,
       "right": null,
       "top": null,
       "visibility": null,
       "width": null
      }
     },
     "11039ad14a684d9dbac7f7d09e7e4626": {
      "model_module": "@jupyter-widgets/controls",
      "model_module_version": "1.5.0",
      "model_name": "HTMLModel",
      "state": {
       "_dom_classes": [],
       "_model_module": "@jupyter-widgets/controls",
       "_model_module_version": "1.5.0",
       "_model_name": "HTMLModel",
       "_view_count": null,
       "_view_module": "@jupyter-widgets/controls",
       "_view_module_version": "1.5.0",
       "_view_name": "HTMLView",
       "description": "",
       "description_tooltip": null,
       "layout": "IPY_MODEL_008c9b9bfc3645d18ce8afc53a75af43",
       "placeholder": "​",
       "style": "IPY_MODEL_3d918d5f16ec41d39006bd840778fa2a",
       "value": " 1/1 [00:00&lt;00:00,  2.53ba/s]"
      }
     },
     "141da245d4c94964bcdb11a4b9cc2758": {
      "model_module": "@jupyter-widgets/controls",
      "model_module_version": "1.5.0",
      "model_name": "FloatProgressModel",
      "state": {
       "_dom_classes": [],
       "_model_module": "@jupyter-widgets/controls",
       "_model_module_version": "1.5.0",
       "_model_name": "FloatProgressModel",
       "_view_count": null,
       "_view_module": "@jupyter-widgets/controls",
       "_view_module_version": "1.5.0",
       "_view_name": "ProgressView",
       "bar_style": "success",
       "description": "",
       "description_tooltip": null,
       "layout": "IPY_MODEL_6ad68023c0464ee5aa7eb237069a7148",
       "max": 1.0,
       "min": 0.0,
       "orientation": "horizontal",
       "style": "IPY_MODEL_175696436af446fdada12e478933f144",
       "value": 1.0
      }
     },
     "1680cd7e52834769841533f766db2589": {
      "model_module": "@jupyter-widgets/controls",
      "model_module_version": "1.5.0",
      "model_name": "HTMLModel",
      "state": {
       "_dom_classes": [],
       "_model_module": "@jupyter-widgets/controls",
       "_model_module_version": "1.5.0",
       "_model_name": "HTMLModel",
       "_view_count": null,
       "_view_module": "@jupyter-widgets/controls",
       "_view_module_version": "1.5.0",
       "_view_name": "HTMLView",
       "description": "",
       "description_tooltip": null,
       "layout": "IPY_MODEL_450096376c8d4e6898ea77989639af16",
       "placeholder": "​",
       "style": "IPY_MODEL_4889f335808f494180e7362c2fd715b9",
       "value": " 7/7 [00:03&lt;00:00,  2.21ba/s]"
      }
     },
     "175696436af446fdada12e478933f144": {
      "model_module": "@jupyter-widgets/controls",
      "model_module_version": "1.5.0",
      "model_name": "ProgressStyleModel",
      "state": {
       "_model_module": "@jupyter-widgets/controls",
       "_model_module_version": "1.5.0",
       "_model_name": "ProgressStyleModel",
       "_view_count": null,
       "_view_module": "@jupyter-widgets/base",
       "_view_module_version": "1.2.0",
       "_view_name": "StyleView",
       "bar_color": null,
       "description_width": ""
      }
     },
     "1c904474c6d44d0894d3681043bb59a1": {
      "model_module": "@jupyter-widgets/controls",
      "model_module_version": "1.5.0",
      "model_name": "HBoxModel",
      "state": {
       "_dom_classes": [],
       "_model_module": "@jupyter-widgets/controls",
       "_model_module_version": "1.5.0",
       "_model_name": "HBoxModel",
       "_view_count": null,
       "_view_module": "@jupyter-widgets/controls",
       "_view_module_version": "1.5.0",
       "_view_name": "HBoxView",
       "box_style": "",
       "children": [
        "IPY_MODEL_b82e7a628b55457eb4ada84ef745f032",
        "IPY_MODEL_22355a932c1749ef84d8aa432b72e8b2",
        "IPY_MODEL_1680cd7e52834769841533f766db2589"
       ],
       "layout": "IPY_MODEL_3a8a342d927e41479e7e8e2b156ec672"
      }
     },
     "22355a932c1749ef84d8aa432b72e8b2": {
      "model_module": "@jupyter-widgets/controls",
      "model_module_version": "1.5.0",
      "model_name": "FloatProgressModel",
      "state": {
       "_dom_classes": [],
       "_model_module": "@jupyter-widgets/controls",
       "_model_module_version": "1.5.0",
       "_model_name": "FloatProgressModel",
       "_view_count": null,
       "_view_module": "@jupyter-widgets/controls",
       "_view_module_version": "1.5.0",
       "_view_name": "ProgressView",
       "bar_style": "success",
       "description": "",
       "description_tooltip": null,
       "layout": "IPY_MODEL_87e6a6d991a4477c8ca8a037e53531ba",
       "max": 7.0,
       "min": 0.0,
       "orientation": "horizontal",
       "style": "IPY_MODEL_461ef0f6b8b2452b9e8e7ec725df2ed0",
       "value": 7.0
      }
     },
     "303b9b303a2948a68bbcc8b366f247e3": {
      "model_module": "@jupyter-widgets/controls",
      "model_module_version": "1.5.0",
      "model_name": "DescriptionStyleModel",
      "state": {
       "_model_module": "@jupyter-widgets/controls",
       "_model_module_version": "1.5.0",
       "_model_name": "DescriptionStyleModel",
       "_view_count": null,
       "_view_module": "@jupyter-widgets/base",
       "_view_module_version": "1.2.0",
       "_view_name": "StyleView",
       "description_width": ""
      }
     },
     "3a8a342d927e41479e7e8e2b156ec672": {
      "model_module": "@jupyter-widgets/base",
      "model_module_version": "1.2.0",
      "model_name": "LayoutModel",
      "state": {
       "_model_module": "@jupyter-widgets/base",
       "_model_module_version": "1.2.0",
       "_model_name": "LayoutModel",
       "_view_count": null,
       "_view_module": "@jupyter-widgets/base",
       "_view_module_version": "1.2.0",
       "_view_name": "LayoutView",
       "align_content": null,
       "align_items": null,
       "align_self": null,
       "border": null,
       "bottom": null,
       "display": null,
       "flex": null,
       "flex_flow": null,
       "grid_area": null,
       "grid_auto_columns": null,
       "grid_auto_flow": null,
       "grid_auto_rows": null,
       "grid_column": null,
       "grid_gap": null,
       "grid_row": null,
       "grid_template_areas": null,
       "grid_template_columns": null,
       "grid_template_rows": null,
       "height": null,
       "justify_content": null,
       "justify_items": null,
       "left": null,
       "margin": null,
       "max_height": null,
       "max_width": null,
       "min_height": null,
       "min_width": null,
       "object_fit": null,
       "object_position": null,
       "order": null,
       "overflow": null,
       "overflow_x": null,
       "overflow_y": null,
       "padding": null,
       "right": null,
       "top": null,
       "visibility": null,
       "width": null
      }
     },
     "3d918d5f16ec41d39006bd840778fa2a": {
      "model_module": "@jupyter-widgets/controls",
      "model_module_version": "1.5.0",
      "model_name": "DescriptionStyleModel",
      "state": {
       "_model_module": "@jupyter-widgets/controls",
       "_model_module_version": "1.5.0",
       "_model_name": "DescriptionStyleModel",
       "_view_count": null,
       "_view_module": "@jupyter-widgets/base",
       "_view_module_version": "1.2.0",
       "_view_name": "StyleView",
       "description_width": ""
      }
     },
     "3db89db8999644de87762fc779f880b8": {
      "model_module": "@jupyter-widgets/base",
      "model_module_version": "1.2.0",
      "model_name": "LayoutModel",
      "state": {
       "_model_module": "@jupyter-widgets/base",
       "_model_module_version": "1.2.0",
       "_model_name": "LayoutModel",
       "_view_count": null,
       "_view_module": "@jupyter-widgets/base",
       "_view_module_version": "1.2.0",
       "_view_name": "LayoutView",
       "align_content": null,
       "align_items": null,
       "align_self": null,
       "border": null,
       "bottom": null,
       "display": null,
       "flex": null,
       "flex_flow": null,
       "grid_area": null,
       "grid_auto_columns": null,
       "grid_auto_flow": null,
       "grid_auto_rows": null,
       "grid_column": null,
       "grid_gap": null,
       "grid_row": null,
       "grid_template_areas": null,
       "grid_template_columns": null,
       "grid_template_rows": null,
       "height": null,
       "justify_content": null,
       "justify_items": null,
       "left": null,
       "margin": null,
       "max_height": null,
       "max_width": null,
       "min_height": null,
       "min_width": null,
       "object_fit": null,
       "object_position": null,
       "order": null,
       "overflow": null,
       "overflow_x": null,
       "overflow_y": null,
       "padding": null,
       "right": null,
       "top": null,
       "visibility": null,
       "width": null
      }
     },
     "450096376c8d4e6898ea77989639af16": {
      "model_module": "@jupyter-widgets/base",
      "model_module_version": "1.2.0",
      "model_name": "LayoutModel",
      "state": {
       "_model_module": "@jupyter-widgets/base",
       "_model_module_version": "1.2.0",
       "_model_name": "LayoutModel",
       "_view_count": null,
       "_view_module": "@jupyter-widgets/base",
       "_view_module_version": "1.2.0",
       "_view_name": "LayoutView",
       "align_content": null,
       "align_items": null,
       "align_self": null,
       "border": null,
       "bottom": null,
       "display": null,
       "flex": null,
       "flex_flow": null,
       "grid_area": null,
       "grid_auto_columns": null,
       "grid_auto_flow": null,
       "grid_auto_rows": null,
       "grid_column": null,
       "grid_gap": null,
       "grid_row": null,
       "grid_template_areas": null,
       "grid_template_columns": null,
       "grid_template_rows": null,
       "height": null,
       "justify_content": null,
       "justify_items": null,
       "left": null,
       "margin": null,
       "max_height": null,
       "max_width": null,
       "min_height": null,
       "min_width": null,
       "object_fit": null,
       "object_position": null,
       "order": null,
       "overflow": null,
       "overflow_x": null,
       "overflow_y": null,
       "padding": null,
       "right": null,
       "top": null,
       "visibility": null,
       "width": null
      }
     },
     "461c2b49ccec42bf9e53a866d1116a02": {
      "model_module": "@jupyter-widgets/controls",
      "model_module_version": "1.5.0",
      "model_name": "DescriptionStyleModel",
      "state": {
       "_model_module": "@jupyter-widgets/controls",
       "_model_module_version": "1.5.0",
       "_model_name": "DescriptionStyleModel",
       "_view_count": null,
       "_view_module": "@jupyter-widgets/base",
       "_view_module_version": "1.2.0",
       "_view_name": "StyleView",
       "description_width": ""
      }
     },
     "461ef0f6b8b2452b9e8e7ec725df2ed0": {
      "model_module": "@jupyter-widgets/controls",
      "model_module_version": "1.5.0",
      "model_name": "ProgressStyleModel",
      "state": {
       "_model_module": "@jupyter-widgets/controls",
       "_model_module_version": "1.5.0",
       "_model_name": "ProgressStyleModel",
       "_view_count": null,
       "_view_module": "@jupyter-widgets/base",
       "_view_module_version": "1.2.0",
       "_view_name": "StyleView",
       "bar_color": null,
       "description_width": ""
      }
     },
     "4889f335808f494180e7362c2fd715b9": {
      "model_module": "@jupyter-widgets/controls",
      "model_module_version": "1.5.0",
      "model_name": "DescriptionStyleModel",
      "state": {
       "_model_module": "@jupyter-widgets/controls",
       "_model_module_version": "1.5.0",
       "_model_name": "DescriptionStyleModel",
       "_view_count": null,
       "_view_module": "@jupyter-widgets/base",
       "_view_module_version": "1.2.0",
       "_view_name": "StyleView",
       "description_width": ""
      }
     },
     "4a6560f28ac54f42a0b709535991e4d0": {
      "model_module": "@jupyter-widgets/controls",
      "model_module_version": "1.5.0",
      "model_name": "HTMLModel",
      "state": {
       "_dom_classes": [],
       "_model_module": "@jupyter-widgets/controls",
       "_model_module_version": "1.5.0",
       "_model_name": "HTMLModel",
       "_view_count": null,
       "_view_module": "@jupyter-widgets/controls",
       "_view_module_version": "1.5.0",
       "_view_name": "HTMLView",
       "description": "",
       "description_tooltip": null,
       "layout": "IPY_MODEL_067ac1b5eb3d43a6a6967a507294d855",
       "placeholder": "​",
       "style": "IPY_MODEL_461c2b49ccec42bf9e53a866d1116a02",
       "value": " 1/1 [00:00&lt;00:00, 34.14ba/s]"
      }
     },
     "500f4507d39f4cc1bf5c91db25fe92f8": {
      "model_module": "@jupyter-widgets/controls",
      "model_module_version": "1.5.0",
      "model_name": "HBoxModel",
      "state": {
       "_dom_classes": [],
       "_model_module": "@jupyter-widgets/controls",
       "_model_module_version": "1.5.0",
       "_model_name": "HBoxModel",
       "_view_count": null,
       "_view_module": "@jupyter-widgets/controls",
       "_view_module_version": "1.5.0",
       "_view_name": "HBoxView",
       "box_style": "",
       "children": [
        "IPY_MODEL_854ce731ba164532a538f0f56540cb1c",
        "IPY_MODEL_141da245d4c94964bcdb11a4b9cc2758",
        "IPY_MODEL_11039ad14a684d9dbac7f7d09e7e4626"
       ],
       "layout": "IPY_MODEL_9e33c89ec61e40f8b0163cd227cf249b"
      }
     },
     "5a740b9e70614e46a987de0fe18e2825": {
      "model_module": "@jupyter-widgets/controls",
      "model_module_version": "1.5.0",
      "model_name": "DescriptionStyleModel",
      "state": {
       "_model_module": "@jupyter-widgets/controls",
       "_model_module_version": "1.5.0",
       "_model_name": "DescriptionStyleModel",
       "_view_count": null,
       "_view_module": "@jupyter-widgets/base",
       "_view_module_version": "1.2.0",
       "_view_name": "StyleView",
       "description_width": ""
      }
     },
     "6041e6301d0c45acbb2d2c939a7aebe0": {
      "model_module": "@jupyter-widgets/base",
      "model_module_version": "1.2.0",
      "model_name": "LayoutModel",
      "state": {
       "_model_module": "@jupyter-widgets/base",
       "_model_module_version": "1.2.0",
       "_model_name": "LayoutModel",
       "_view_count": null,
       "_view_module": "@jupyter-widgets/base",
       "_view_module_version": "1.2.0",
       "_view_name": "LayoutView",
       "align_content": null,
       "align_items": null,
       "align_self": null,
       "border": null,
       "bottom": null,
       "display": null,
       "flex": null,
       "flex_flow": null,
       "grid_area": null,
       "grid_auto_columns": null,
       "grid_auto_flow": null,
       "grid_auto_rows": null,
       "grid_column": null,
       "grid_gap": null,
       "grid_row": null,
       "grid_template_areas": null,
       "grid_template_columns": null,
       "grid_template_rows": null,
       "height": null,
       "justify_content": null,
       "justify_items": null,
       "left": null,
       "margin": null,
       "max_height": null,
       "max_width": null,
       "min_height": null,
       "min_width": null,
       "object_fit": null,
       "object_position": null,
       "order": null,
       "overflow": null,
       "overflow_x": null,
       "overflow_y": null,
       "padding": null,
       "right": null,
       "top": null,
       "visibility": null,
       "width": null
      }
     },
     "6ad68023c0464ee5aa7eb237069a7148": {
      "model_module": "@jupyter-widgets/base",
      "model_module_version": "1.2.0",
      "model_name": "LayoutModel",
      "state": {
       "_model_module": "@jupyter-widgets/base",
       "_model_module_version": "1.2.0",
       "_model_name": "LayoutModel",
       "_view_count": null,
       "_view_module": "@jupyter-widgets/base",
       "_view_module_version": "1.2.0",
       "_view_name": "LayoutView",
       "align_content": null,
       "align_items": null,
       "align_self": null,
       "border": null,
       "bottom": null,
       "display": null,
       "flex": null,
       "flex_flow": null,
       "grid_area": null,
       "grid_auto_columns": null,
       "grid_auto_flow": null,
       "grid_auto_rows": null,
       "grid_column": null,
       "grid_gap": null,
       "grid_row": null,
       "grid_template_areas": null,
       "grid_template_columns": null,
       "grid_template_rows": null,
       "height": null,
       "justify_content": null,
       "justify_items": null,
       "left": null,
       "margin": null,
       "max_height": null,
       "max_width": null,
       "min_height": null,
       "min_width": null,
       "object_fit": null,
       "object_position": null,
       "order": null,
       "overflow": null,
       "overflow_x": null,
       "overflow_y": null,
       "padding": null,
       "right": null,
       "top": null,
       "visibility": null,
       "width": null
      }
     },
     "854ce731ba164532a538f0f56540cb1c": {
      "model_module": "@jupyter-widgets/controls",
      "model_module_version": "1.5.0",
      "model_name": "HTMLModel",
      "state": {
       "_dom_classes": [],
       "_model_module": "@jupyter-widgets/controls",
       "_model_module_version": "1.5.0",
       "_model_name": "HTMLModel",
       "_view_count": null,
       "_view_module": "@jupyter-widgets/controls",
       "_view_module_version": "1.5.0",
       "_view_name": "HTMLView",
       "description": "",
       "description_tooltip": null,
       "layout": "IPY_MODEL_3db89db8999644de87762fc779f880b8",
       "placeholder": "​",
       "style": "IPY_MODEL_96a9d1cb88f648d3b7ea95c281e271a3",
       "value": "100%"
      }
     },
     "87e6a6d991a4477c8ca8a037e53531ba": {
      "model_module": "@jupyter-widgets/base",
      "model_module_version": "1.2.0",
      "model_name": "LayoutModel",
      "state": {
       "_model_module": "@jupyter-widgets/base",
       "_model_module_version": "1.2.0",
       "_model_name": "LayoutModel",
       "_view_count": null,
       "_view_module": "@jupyter-widgets/base",
       "_view_module_version": "1.2.0",
       "_view_name": "LayoutView",
       "align_content": null,
       "align_items": null,
       "align_self": null,
       "border": null,
       "bottom": null,
       "display": null,
       "flex": null,
       "flex_flow": null,
       "grid_area": null,
       "grid_auto_columns": null,
       "grid_auto_flow": null,
       "grid_auto_rows": null,
       "grid_column": null,
       "grid_gap": null,
       "grid_row": null,
       "grid_template_areas": null,
       "grid_template_columns": null,
       "grid_template_rows": null,
       "height": null,
       "justify_content": null,
       "justify_items": null,
       "left": null,
       "margin": null,
       "max_height": null,
       "max_width": null,
       "min_height": null,
       "min_width": null,
       "object_fit": null,
       "object_position": null,
       "order": null,
       "overflow": null,
       "overflow_x": null,
       "overflow_y": null,
       "padding": null,
       "right": null,
       "top": null,
       "visibility": null,
       "width": null
      }
     },
     "8f6bff02e8d84df39947e2cf3b762f3f": {
      "model_module": "@jupyter-widgets/controls",
      "model_module_version": "1.5.0",
      "model_name": "HTMLModel",
      "state": {
       "_dom_classes": [],
       "_model_module": "@jupyter-widgets/controls",
       "_model_module_version": "1.5.0",
       "_model_name": "HTMLModel",
       "_view_count": null,
       "_view_module": "@jupyter-widgets/controls",
       "_view_module_version": "1.5.0",
       "_view_name": "HTMLView",
       "description": "",
       "description_tooltip": null,
       "layout": "IPY_MODEL_e2c73837e10e4e5893e2a3b5da1961c2",
       "placeholder": "​",
       "style": "IPY_MODEL_303b9b303a2948a68bbcc8b366f247e3",
       "value": "100%"
      }
     },
     "96a9d1cb88f648d3b7ea95c281e271a3": {
      "model_module": "@jupyter-widgets/controls",
      "model_module_version": "1.5.0",
      "model_name": "DescriptionStyleModel",
      "state": {
       "_model_module": "@jupyter-widgets/controls",
       "_model_module_version": "1.5.0",
       "_model_name": "DescriptionStyleModel",
       "_view_count": null,
       "_view_module": "@jupyter-widgets/base",
       "_view_module_version": "1.2.0",
       "_view_name": "StyleView",
       "description_width": ""
      }
     },
     "9e33c89ec61e40f8b0163cd227cf249b": {
      "model_module": "@jupyter-widgets/base",
      "model_module_version": "1.2.0",
      "model_name": "LayoutModel",
      "state": {
       "_model_module": "@jupyter-widgets/base",
       "_model_module_version": "1.2.0",
       "_model_name": "LayoutModel",
       "_view_count": null,
       "_view_module": "@jupyter-widgets/base",
       "_view_module_version": "1.2.0",
       "_view_name": "LayoutView",
       "align_content": null,
       "align_items": null,
       "align_self": null,
       "border": null,
       "bottom": null,
       "display": null,
       "flex": null,
       "flex_flow": null,
       "grid_area": null,
       "grid_auto_columns": null,
       "grid_auto_flow": null,
       "grid_auto_rows": null,
       "grid_column": null,
       "grid_gap": null,
       "grid_row": null,
       "grid_template_areas": null,
       "grid_template_columns": null,
       "grid_template_rows": null,
       "height": null,
       "justify_content": null,
       "justify_items": null,
       "left": null,
       "margin": null,
       "max_height": null,
       "max_width": null,
       "min_height": null,
       "min_width": null,
       "object_fit": null,
       "object_position": null,
       "order": null,
       "overflow": null,
       "overflow_x": null,
       "overflow_y": null,
       "padding": null,
       "right": null,
       "top": null,
       "visibility": null,
       "width": null
      }
     },
     "b82e7a628b55457eb4ada84ef745f032": {
      "model_module": "@jupyter-widgets/controls",
      "model_module_version": "1.5.0",
      "model_name": "HTMLModel",
      "state": {
       "_dom_classes": [],
       "_model_module": "@jupyter-widgets/controls",
       "_model_module_version": "1.5.0",
       "_model_name": "HTMLModel",
       "_view_count": null,
       "_view_module": "@jupyter-widgets/controls",
       "_view_module_version": "1.5.0",
       "_view_name": "HTMLView",
       "description": "",
       "description_tooltip": null,
       "layout": "IPY_MODEL_0b2db6deaa4f44fe966f3abf9a1c68e5",
       "placeholder": "​",
       "style": "IPY_MODEL_5a740b9e70614e46a987de0fe18e2825",
       "value": "100%"
      }
     },
     "c181ccc8676b4379be2856b26373fe70": {
      "model_module": "@jupyter-widgets/controls",
      "model_module_version": "1.5.0",
      "model_name": "HBoxModel",
      "state": {
       "_dom_classes": [],
       "_model_module": "@jupyter-widgets/controls",
       "_model_module_version": "1.5.0",
       "_model_name": "HBoxModel",
       "_view_count": null,
       "_view_module": "@jupyter-widgets/controls",
       "_view_module_version": "1.5.0",
       "_view_name": "HBoxView",
       "box_style": "",
       "children": [
        "IPY_MODEL_8f6bff02e8d84df39947e2cf3b762f3f",
        "IPY_MODEL_db6f97d0336f400998200e579946d878",
        "IPY_MODEL_4a6560f28ac54f42a0b709535991e4d0"
       ],
       "layout": "IPY_MODEL_0c5170c66bea4be2ac3c0300466fd6f0"
      }
     },
     "db6f97d0336f400998200e579946d878": {
      "model_module": "@jupyter-widgets/controls",
      "model_module_version": "1.5.0",
      "model_name": "FloatProgressModel",
      "state": {
       "_dom_classes": [],
       "_model_module": "@jupyter-widgets/controls",
       "_model_module_version": "1.5.0",
       "_model_name": "FloatProgressModel",
       "_view_count": null,
       "_view_module": "@jupyter-widgets/controls",
       "_view_module_version": "1.5.0",
       "_view_name": "ProgressView",
       "bar_style": "success",
       "description": "",
       "description_tooltip": null,
       "layout": "IPY_MODEL_6041e6301d0c45acbb2d2c939a7aebe0",
       "max": 1.0,
       "min": 0.0,
       "orientation": "horizontal",
       "style": "IPY_MODEL_dc99273d97d6451dad0fcd24a08b8fcb",
       "value": 1.0
      }
     },
     "dc99273d97d6451dad0fcd24a08b8fcb": {
      "model_module": "@jupyter-widgets/controls",
      "model_module_version": "1.5.0",
      "model_name": "ProgressStyleModel",
      "state": {
       "_model_module": "@jupyter-widgets/controls",
       "_model_module_version": "1.5.0",
       "_model_name": "ProgressStyleModel",
       "_view_count": null,
       "_view_module": "@jupyter-widgets/base",
       "_view_module_version": "1.2.0",
       "_view_name": "StyleView",
       "bar_color": null,
       "description_width": ""
      }
     },
     "e2c73837e10e4e5893e2a3b5da1961c2": {
      "model_module": "@jupyter-widgets/base",
      "model_module_version": "1.2.0",
      "model_name": "LayoutModel",
      "state": {
       "_model_module": "@jupyter-widgets/base",
       "_model_module_version": "1.2.0",
       "_model_name": "LayoutModel",
       "_view_count": null,
       "_view_module": "@jupyter-widgets/base",
       "_view_module_version": "1.2.0",
       "_view_name": "LayoutView",
       "align_content": null,
       "align_items": null,
       "align_self": null,
       "border": null,
       "bottom": null,
       "display": null,
       "flex": null,
       "flex_flow": null,
       "grid_area": null,
       "grid_auto_columns": null,
       "grid_auto_flow": null,
       "grid_auto_rows": null,
       "grid_column": null,
       "grid_gap": null,
       "grid_row": null,
       "grid_template_areas": null,
       "grid_template_columns": null,
       "grid_template_rows": null,
       "height": null,
       "justify_content": null,
       "justify_items": null,
       "left": null,
       "margin": null,
       "max_height": null,
       "max_width": null,
       "min_height": null,
       "min_width": null,
       "object_fit": null,
       "object_position": null,
       "order": null,
       "overflow": null,
       "overflow_x": null,
       "overflow_y": null,
       "padding": null,
       "right": null,
       "top": null,
       "visibility": null,
       "width": null
      }
     }
    },
    "version_major": 2,
    "version_minor": 0
   }
  }
 },
 "nbformat": 4,
 "nbformat_minor": 5
}
